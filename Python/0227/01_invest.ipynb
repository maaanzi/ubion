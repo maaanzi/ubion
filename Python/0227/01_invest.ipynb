{
 "cells": [
  {
   "cell_type": "markdown",
   "metadata": {},
   "source": [
    "# 두개의 투자전략을 클래스로 선언\n",
    "1. 생성자\n",
    "    - 클래스가 생성될 때 최초 한 번만 실행\n",
    "    - 객체 변수(self)에 데이터프레임, 기준컬럼명, 시작시간, 종료시간\n",
    "\n",
    "2. buyandhold 함수\n",
    "    - 객체 변수를 이용한 백테스팅\n",
    "    - 결과와 누적수익률 리턴\n",
    "\n",
    "3. ballenger\n",
    "    - 밴드 생성 함수\n",
    "        - 상단, 하단 밴드, 이동평균선 생성\n",
    "    - 거래 내역 추가 (trade)\n",
    "        - 밴드 기준으로\n",
    "    - 수익률 계산 함수\n",
    "        - 매도 시 수익률이 발생, 누적 수익률 리턴 (데이터프레임)"
   ]
  },
  {
   "cell_type": "code",
   "execution_count": 4,
   "metadata": {},
   "outputs": [
    {
     "name": "stderr",
     "output_type": "stream",
     "text": [
      "/var/folders/lj/ms0l79910fz22cg2hchczhw40000gn/T/ipykernel_7870/3172591061.py:1: DeprecationWarning: \n",
      "Pyarrow will become a required dependency of pandas in the next major release of pandas (pandas 3.0),\n",
      "(to allow more performant data types, such as the Arrow string type, and better interoperability with other libraries)\n",
      "but was not found to be installed on your system.\n",
      "If this would cause problems for you,\n",
      "please provide us feedback at https://github.com/pandas-dev/pandas/issues/54466\n",
      "        \n",
      "  import pandas as pd\n"
     ]
    }
   ],
   "source": [
    "import pandas as pd\n",
    "import numpy as np\n",
    "from datetime import datetime"
   ]
  },
  {
   "cell_type": "code",
   "execution_count": 46,
   "metadata": {},
   "outputs": [],
   "source": [
    "class Invest :\n",
    "    def __init__(self, _df, _col = 'Adj Close', _start = '2010-01-01', _end = datetime.now()) :\n",
    "        flag = _df.isin([np.nan, np.inf, -np.inf]).any(axis=1)\n",
    "        self.df = _df.loc[~flag, ]\n",
    "\n",
    "        if 'Date' in self.df.columns :\n",
    "            self.df.set_index('Date', inplace = True)\n",
    "\n",
    "        self.df.index = pd.to_datetime(self.df.index, format='%Y-%m-%d')\n",
    "        self.df = self.df[[_col]] # [] : Series, [[]] : DataFrame\n",
    "\n",
    "        self.col = _col\n",
    "        try :\n",
    "            self.start = datetime.strptime(_start, '%Y-%m-%d')\n",
    "            if type(_end) == 'str' :\n",
    "                self.end = datetime.strptime(_end, '%Y-%m-%d')\n",
    "            else : \n",
    "                self.end = _end\n",
    "        except :\n",
    "            print('지원하지 않는 형식입니다.')\n",
    "\n",
    "    def buyAndHold(self) :\n",
    "        result = self.df.loc[self.start:self.end, ]\n",
    "        result['rtn'] = (result[self.col].pct_change() + 1).fillna(1)\n",
    "\n",
    "        result['acc_rtn'] = result['rtn'].cumprod()\n",
    "        acc_rtn = result.iloc[-1]['acc_rtn']\n",
    "        return result, acc_rtn\n",
    "    \n",
    "    def ballenger(self, _cnt = 20) :\n",
    "        result = self.df.copy()\n",
    "        result['center'] = result[self.col].rolling(_cnt).mean()\n",
    "        result['ub'] = result['center'] + (2 * result[self.col].rolling(_cnt).std())\n",
    "        result['lb'] = result['center'] - (2 * result[self.col].rolling(_cnt).std())\n",
    "\n",
    "        result = result.loc[self.start : self.end, ]\n",
    "\n",
    "        result['trade'] = \"\"\n",
    "        for i in result.index :\n",
    "            if result.loc[i, self.col] >= result.loc[i, 'ub'] :\n",
    "                result.loc[i, 'trade'] = \"\" # 보유중이면 매도, 아닐경우 유지\n",
    "            elif result.loc[i, self.col] <= result.loc[i, 'lb'] :\n",
    "                result.loc[i, 'trade'] = \"buy\" # 보유중이면 유지, 아닐경우 매수\n",
    "            else :\n",
    "                if result.shift().loc[i, 'trade'] == '' :\n",
    "                    result.loc[i, 'trade'] = result.shift().loc[i, 'trade'] # 어제값과 오늘값이 같다 -> 유지\n",
    "\n",
    "        # 수익률 계산\n",
    "        result['rtn'] = 1\n",
    "\n",
    "        for i in result.index :\n",
    "            if (result.shift().loc[i, 'trade'] == \"\") & (result.loc[i, 'trade'] == 'buy') :\n",
    "                buyPrice = result.loc[i, self.col]\n",
    "                print(f'매수일 : {i}, 매수가 : {buyPrice}')\n",
    "                \n",
    "            elif (result.shift().loc[i, 'trade'] == 'buy') & (result.loc[i, 'trade'] == '') :\n",
    "                sellPrice = result.loc[i, self.col]\n",
    "                rtn = sellPrice / buyPrice\n",
    "                result.loc[i, 'rtn'] = rtn\n",
    "                print(f'매도일 : {i}, 매도가 : {sellPrice}, 수익률 : {round(rtn, 2)}') # round : 소수자리 반올림, 2자리까지 출력\n",
    "\n",
    "        result['acc_rtn'] = result['rtn'].cumprod()\n",
    "        acc_rtn = result.iloc[-1]['acc_rtn']\n",
    "\n",
    "        return result, acc_rtn\n",
    "            \n"
   ]
  },
  {
   "cell_type": "code",
   "execution_count": 6,
   "metadata": {},
   "outputs": [],
   "source": [
    "AAPL = pd.read_csv('../../csv/AAPL.csv')"
   ]
  },
  {
   "cell_type": "code",
   "execution_count": 47,
   "metadata": {},
   "outputs": [
    {
     "data": {
      "text/html": [
       "<div>\n",
       "<style scoped>\n",
       "    .dataframe tbody tr th:only-of-type {\n",
       "        vertical-align: middle;\n",
       "    }\n",
       "\n",
       "    .dataframe tbody tr th {\n",
       "        vertical-align: top;\n",
       "    }\n",
       "\n",
       "    .dataframe thead th {\n",
       "        text-align: right;\n",
       "    }\n",
       "</style>\n",
       "<table border=\"1\" class=\"dataframe\">\n",
       "  <thead>\n",
       "    <tr style=\"text-align: right;\">\n",
       "      <th></th>\n",
       "      <th>Adj Close</th>\n",
       "    </tr>\n",
       "    <tr>\n",
       "      <th>Date</th>\n",
       "      <th></th>\n",
       "    </tr>\n",
       "  </thead>\n",
       "  <tbody>\n",
       "    <tr>\n",
       "      <th>1980-12-12</th>\n",
       "      <td>0.410525</td>\n",
       "    </tr>\n",
       "    <tr>\n",
       "      <th>1980-12-15</th>\n",
       "      <td>0.389106</td>\n",
       "    </tr>\n",
       "    <tr>\n",
       "      <th>1980-12-16</th>\n",
       "      <td>0.360548</td>\n",
       "    </tr>\n",
       "    <tr>\n",
       "      <th>1980-12-17</th>\n",
       "      <td>0.369472</td>\n",
       "    </tr>\n",
       "    <tr>\n",
       "      <th>1980-12-18</th>\n",
       "      <td>0.380182</td>\n",
       "    </tr>\n",
       "    <tr>\n",
       "      <th>...</th>\n",
       "      <td>...</td>\n",
       "    </tr>\n",
       "    <tr>\n",
       "      <th>2019-06-18</th>\n",
       "      <td>198.449997</td>\n",
       "    </tr>\n",
       "    <tr>\n",
       "      <th>2019-06-19</th>\n",
       "      <td>197.869995</td>\n",
       "    </tr>\n",
       "    <tr>\n",
       "      <th>2019-06-20</th>\n",
       "      <td>199.460007</td>\n",
       "    </tr>\n",
       "    <tr>\n",
       "      <th>2019-06-21</th>\n",
       "      <td>198.779999</td>\n",
       "    </tr>\n",
       "    <tr>\n",
       "      <th>2019-06-24</th>\n",
       "      <td>199.169998</td>\n",
       "    </tr>\n",
       "  </tbody>\n",
       "</table>\n",
       "<p>9713 rows × 1 columns</p>\n",
       "</div>"
      ],
      "text/plain": [
       "             Adj Close\n",
       "Date                  \n",
       "1980-12-12    0.410525\n",
       "1980-12-15    0.389106\n",
       "1980-12-16    0.360548\n",
       "1980-12-17    0.369472\n",
       "1980-12-18    0.380182\n",
       "...                ...\n",
       "2019-06-18  198.449997\n",
       "2019-06-19  197.869995\n",
       "2019-06-20  199.460007\n",
       "2019-06-21  198.779999\n",
       "2019-06-24  199.169998\n",
       "\n",
       "[9713 rows x 1 columns]"
      ]
     },
     "execution_count": 47,
     "metadata": {},
     "output_type": "execute_result"
    }
   ],
   "source": [
    "class1 = Invest(AAPL)\n",
    "class1.df"
   ]
  },
  {
   "cell_type": "code",
   "execution_count": null,
   "metadata": {},
   "outputs": [],
   "source": [
    "class1.buyAndHold()"
   ]
  },
  {
   "cell_type": "code",
   "execution_count": null,
   "metadata": {},
   "outputs": [],
   "source": [
    "bnh_df, bnh_rtn = class1.buyAndHold()"
   ]
  },
  {
   "cell_type": "code",
   "execution_count": 10,
   "metadata": {},
   "outputs": [
    {
     "data": {
      "text/plain": [
       "7.436513727083075"
      ]
     },
     "execution_count": 10,
     "metadata": {},
     "output_type": "execute_result"
    }
   ],
   "source": [
    "bnh_rtn"
   ]
  },
  {
   "cell_type": "code",
   "execution_count": 11,
   "metadata": {},
   "outputs": [
    {
     "data": {
      "text/html": [
       "<div>\n",
       "<style scoped>\n",
       "    .dataframe tbody tr th:only-of-type {\n",
       "        vertical-align: middle;\n",
       "    }\n",
       "\n",
       "    .dataframe tbody tr th {\n",
       "        vertical-align: top;\n",
       "    }\n",
       "\n",
       "    .dataframe thead th {\n",
       "        text-align: right;\n",
       "    }\n",
       "</style>\n",
       "<table border=\"1\" class=\"dataframe\">\n",
       "  <thead>\n",
       "    <tr style=\"text-align: right;\">\n",
       "      <th></th>\n",
       "      <th>Adj Close</th>\n",
       "      <th>rtn</th>\n",
       "      <th>acc_rtn</th>\n",
       "    </tr>\n",
       "    <tr>\n",
       "      <th>Date</th>\n",
       "      <th></th>\n",
       "      <th></th>\n",
       "      <th></th>\n",
       "    </tr>\n",
       "  </thead>\n",
       "  <tbody>\n",
       "    <tr>\n",
       "      <th>2019-06-18</th>\n",
       "      <td>198.449997</td>\n",
       "      <td>1.023518</td>\n",
       "      <td>7.409631</td>\n",
       "    </tr>\n",
       "    <tr>\n",
       "      <th>2019-06-19</th>\n",
       "      <td>197.869995</td>\n",
       "      <td>0.997077</td>\n",
       "      <td>7.387975</td>\n",
       "    </tr>\n",
       "    <tr>\n",
       "      <th>2019-06-20</th>\n",
       "      <td>199.460007</td>\n",
       "      <td>1.008036</td>\n",
       "      <td>7.447342</td>\n",
       "    </tr>\n",
       "    <tr>\n",
       "      <th>2019-06-21</th>\n",
       "      <td>198.779999</td>\n",
       "      <td>0.996591</td>\n",
       "      <td>7.421952</td>\n",
       "    </tr>\n",
       "    <tr>\n",
       "      <th>2019-06-24</th>\n",
       "      <td>199.169998</td>\n",
       "      <td>1.001962</td>\n",
       "      <td>7.436514</td>\n",
       "    </tr>\n",
       "  </tbody>\n",
       "</table>\n",
       "</div>"
      ],
      "text/plain": [
       "             Adj Close       rtn   acc_rtn\n",
       "Date                                      \n",
       "2019-06-18  198.449997  1.023518  7.409631\n",
       "2019-06-19  197.869995  0.997077  7.387975\n",
       "2019-06-20  199.460007  1.008036  7.447342\n",
       "2019-06-21  198.779999  0.996591  7.421952\n",
       "2019-06-24  199.169998  1.001962  7.436514"
      ]
     },
     "execution_count": 11,
     "metadata": {},
     "output_type": "execute_result"
    }
   ],
   "source": [
    "bnh_df.tail()"
   ]
  },
  {
   "cell_type": "code",
   "execution_count": 21,
   "metadata": {},
   "outputs": [
    {
     "data": {
      "text/plain": [
       "trade\n",
       "       1426\n",
       "buy     945\n",
       "Name: count, dtype: int64"
      ]
     },
     "execution_count": 21,
     "metadata": {},
     "output_type": "execute_result"
    }
   ],
   "source": [
    "class1.ballenger()['trade'].value_counts()"
   ]
  },
  {
   "cell_type": "code",
   "execution_count": 48,
   "metadata": {},
   "outputs": [
    {
     "name": "stdout",
     "output_type": "stream",
     "text": [
      "매수일 : 2010-01-22 00:00:00, 매수가 : 24.747818\n",
      "매도일 : 2010-01-25 00:00:00, 매도가 : 25.413599, 수익률 : 1.03\n",
      "매수일 : 2010-01-28 00:00:00, 매수가 : 24.940546\n",
      "매도일 : 2010-02-01 00:00:00, 매도가 : 24.369871, 수익률 : 0.98\n",
      "매수일 : 2010-08-24 00:00:00, 매수가 : 30.026524\n",
      "매도일 : 2010-08-25 00:00:00, 매도가 : 30.396961, 수익률 : 1.01\n",
      "매수일 : 2011-03-16 00:00:00, 매수가 : 41.299767\n",
      "매도일 : 2011-03-17 00:00:00, 매도가 : 41.879189, 수익률 : 1.01\n",
      "매수일 : 2011-05-16 00:00:00, 매수가 : 41.711502\n",
      "매도일 : 2011-05-17 00:00:00, 매도가 : 42.066914, 수익률 : 1.01\n",
      "매수일 : 2011-06-10 00:00:00, 매수가 : 40.785408\n",
      "매도일 : 2011-06-13 00:00:00, 매도가 : 40.873005, 수익률 : 1.0\n",
      "매수일 : 2011-06-20 00:00:00, 매수가 : 39.461357\n",
      "매도일 : 2011-06-21 00:00:00, 매도가 : 40.710316, 수익률 : 1.03\n",
      "매수일 : 2011-11-14 00:00:00, 매수가 : 47.463268\n",
      "매도일 : 2011-11-15 00:00:00, 매도가 : 48.660904, 수익률 : 1.03\n",
      "매수일 : 2011-11-21 00:00:00, 매수가 : 46.180508\n",
      "매도일 : 2011-11-22 00:00:00, 매도가 : 47.119102, 수익률 : 1.02\n",
      "매수일 : 2012-04-16 00:00:00, 매수가 : 72.601524\n",
      "매도일 : 2012-04-17 00:00:00, 매도가 : 76.302109, 수익률 : 1.05\n",
      "매수일 : 2012-04-20 00:00:00, 매수가 : 71.706749\n",
      "매도일 : 2012-04-23 00:00:00, 매도가 : 71.546547, 수익률 : 1.0\n",
      "매수일 : 2012-04-24 00:00:00, 매수가 : 70.117378\n",
      "매도일 : 2012-04-25 00:00:00, 매도가 : 76.339684, 수익률 : 1.09\n",
      "매수일 : 2012-05-17 00:00:00, 매수가 : 66.342926\n",
      "매도일 : 2012-05-18 00:00:00, 매도가 : 66.375458, 수익률 : 1.0\n",
      "매수일 : 2012-10-08 00:00:00, 매수가 : 80.207954\n",
      "매도일 : 2012-10-09 00:00:00, 매도가 : 79.916374, 수익률 : 1.0\n",
      "매수일 : 2012-10-19 00:00:00, 매수가 : 76.647339\n",
      "매도일 : 2012-10-22 00:00:00, 매도가 : 79.68763, 수익률 : 1.04\n",
      "매수일 : 2012-11-02 00:00:00, 매수가 : 72.494728\n",
      "매도일 : 2012-11-05 00:00:00, 매도가 : 73.477585, 수익률 : 1.01\n",
      "매수일 : 2012-11-07 00:00:00, 매수가 : 70.452194\n",
      "매도일 : 2012-11-09 00:00:00, 매도가 : 69.0709, 수익률 : 0.98\n",
      "매수일 : 2013-01-15 00:00:00, 매수가 : 61.351456\n",
      "매도일 : 2013-01-16 00:00:00, 매도가 : 63.898102, 수익률 : 1.04\n",
      "매수일 : 2013-01-24 00:00:00, 매수가 : 56.879379\n",
      "매도일 : 2013-01-28 00:00:00, 매도가 : 56.7948, 수익률 : 1.0\n",
      "매수일 : 2013-03-04 00:00:00, 매수가 : 53.343914\n",
      "매도일 : 2013-03-05 00:00:00, 매도가 : 54.752277, 수익률 : 1.03\n",
      "매수일 : 2013-04-17 00:00:00, 매수가 : 51.153259\n",
      "매도일 : 2013-04-19 00:00:00, 매도가 : 49.595051, 수익률 : 0.97\n",
      "매수일 : 2013-06-19 00:00:00, 매수가 : 54.074104\n",
      "매도일 : 2013-06-26 00:00:00, 매도가 : 50.887192, 수익률 : 0.94\n",
      "매수일 : 2013-09-11 00:00:00, 매수가 : 60.184383\n",
      "매도일 : 2013-09-17 00:00:00, 매도가 : 58.590046, 수익률 : 0.97\n",
      "매수일 : 2014-01-03 00:00:00, 매수가 : 70.019096\n",
      "매도일 : 2014-01-06 00:00:00, 매도가 : 70.400902, 수익률 : 1.01\n",
      "매수일 : 2014-01-28 00:00:00, 매수가 : 65.556343\n",
      "매도일 : 2014-01-31 00:00:00, 매도가 : 64.792686, 수익률 : 0.99\n",
      "매수일 : 2014-10-15 00:00:00, 매수가 : 89.842468\n",
      "매도일 : 2014-10-17 00:00:00, 매도가 : 89.962227, 수익률 : 1.0\n",
      "매수일 : 2014-12-12 00:00:00, 매수가 : 101.508751\n",
      "매도일 : 2014-12-17 00:00:00, 매도가 : 101.212715, 수익률 : 1.0\n",
      "매수일 : 2015-01-05 00:00:00, 매수가 : 98.289474\n",
      "매도일 : 2015-01-06 00:00:00, 매도가 : 98.298729, 수익률 : 1.0\n",
      "매수일 : 2015-03-11 00:00:00, 매수가 : 113.52774\n",
      "매도일 : 2015-03-12 00:00:00, 매도가 : 115.580231, 수익률 : 1.02\n",
      "매수일 : 2015-06-29 00:00:00, 매수가 : 116.137619\n",
      "매도일 : 2015-06-30 00:00:00, 매도가 : 116.976997, 수익률 : 1.01\n",
      "매수일 : 2015-07-08 00:00:00, 매수가 : 114.309715\n",
      "매도일 : 2015-07-10 00:00:00, 매도가 : 114.971863, 수익률 : 1.01\n",
      "매수일 : 2015-08-04 00:00:00, 매수가 : 106.914131\n",
      "매도일 : 2015-08-05 00:00:00, 매도가 : 107.622925, 수익률 : 1.01\n",
      "매수일 : 2015-08-21 00:00:00, 매수가 : 99.079048\n",
      "매도일 : 2015-08-26 00:00:00, 매도가 : 102.760788, 수익률 : 1.04\n",
      "매수일 : 2015-12-14 00:00:00, 매수가 : 105.825577\n",
      "매도일 : 2015-12-16 00:00:00, 매도가 : 104.753021, 수익률 : 0.99\n",
      "매수일 : 2015-12-17 00:00:00, 매수가 : 102.532654\n",
      "매도일 : 2015-12-21 00:00:00, 매도가 : 100.980263, 수익률 : 0.98\n"
     ]
    },
    {
     "name": "stderr",
     "output_type": "stream",
     "text": [
      "/var/folders/lj/ms0l79910fz22cg2hchczhw40000gn/T/ipykernel_7870/1852488431.py:59: FutureWarning: Setting an item of incompatible dtype is deprecated and will raise an error in a future version of pandas. Value '1.0269026142021895' has dtype incompatible with int64, please explicitly cast to a compatible dtype first.\n",
      "  result.loc[i, 'rtn'] = rtn\n"
     ]
    },
    {
     "name": "stdout",
     "output_type": "stream",
     "text": [
      "매수일 : 2016-01-07 00:00:00, 매수가 : 90.743942\n",
      "매도일 : 2016-01-11 00:00:00, 매도가 : 92.700867, 수익률 : 1.02\n",
      "매수일 : 2016-04-27 00:00:00, 매수가 : 92.532272\n",
      "매도일 : 2016-05-03 00:00:00, 매도가 : 90.034988, 수익률 : 0.97\n",
      "매수일 : 2016-06-20 00:00:00, 매수가 : 90.507019\n",
      "매도일 : 2016-06-21 00:00:00, 매도가 : 91.277893, 수익률 : 1.01\n",
      "매수일 : 2016-06-24 00:00:00, 매수가 : 88.88913\n",
      "매도일 : 2016-06-28 00:00:00, 매도가 : 89.069954, 수익률 : 1.0\n",
      "매수일 : 2016-09-09 00:00:00, 매수가 : 98.680893\n",
      "매도일 : 2016-09-12 00:00:00, 매도가 : 100.891243, 수익률 : 1.02\n",
      "매수일 : 2016-11-01 00:00:00, 매수가 : 106.680237\n",
      "매도일 : 2016-11-07 00:00:00, 매도가 : 106.189255, 수익률 : 1.0\n",
      "매수일 : 2017-06-09 00:00:00, 매수가 : 144.5\n",
      "매도일 : 2017-06-19 00:00:00, 매도가 : 141.939392, 수익률 : 0.98\n",
      "매수일 : 2017-09-20 00:00:00, 매수가 : 151.971283\n",
      "매도일 : 2017-09-26 00:00:00, 매도가 : 149.118195, 수익률 : 0.98\n",
      "매수일 : 2018-01-29 00:00:00, 매수가 : 164.136932\n",
      "매도일 : 2018-01-31 00:00:00, 매도가 : 163.618988, 수익률 : 1.0\n",
      "매수일 : 2018-02-02 00:00:00, 매수가 : 156.846741\n",
      "매도일 : 2018-02-06 00:00:00, 매도가 : 159.319138, 수익률 : 1.02\n",
      "매수일 : 2018-03-21 00:00:00, 매수가 : 168.053986\n",
      "매도일 : 2018-03-26 00:00:00, 매도가 : 169.525833, 수익률 : 1.01\n",
      "매수일 : 2018-06-25 00:00:00, 매수가 : 179.438583\n",
      "매도일 : 2018-06-26 00:00:00, 매도가 : 181.664673, 수익률 : 1.01\n",
      "매수일 : 2018-11-02 00:00:00, 매수가 : 205.085831\n",
      "매도일 : 2018-11-07 00:00:00, 매도가 : 207.527328, 수익률 : 1.01\n",
      "매수일 : 2018-11-12 00:00:00, 매수가 : 192.599106\n",
      "매도일 : 2018-11-15 00:00:00, 매도가 : 189.861435, 수익률 : 0.99\n",
      "매수일 : 2018-11-20 00:00:00, 매수가 : 175.548157\n",
      "매도일 : 2018-11-21 00:00:00, 매도가 : 175.349792, 수익률 : 1.0\n",
      "매수일 : 2018-12-20 00:00:00, 매수가 : 155.561188\n",
      "매도일 : 2018-12-26 00:00:00, 매도가 : 155.898438, 수익률 : 1.0\n",
      "매수일 : 2019-01-03 00:00:00, 매수가 : 141.039642\n",
      "매도일 : 2019-01-04 00:00:00, 매도가 : 147.060516, 수익률 : 1.04\n",
      "매수일 : 2019-05-13 00:00:00, 매수가 : 185.720001\n",
      "매도일 : 2019-05-15 00:00:00, 매도가 : 190.919998, 수익률 : 1.03\n"
     ]
    },
    {
     "data": {
      "text/plain": [
       "(             Adj Close      center          ub          lb trade  rtn  acc_rtn\n",
       " Date                                                                          \n",
       " 2010-01-04   26.782711   25.037723   27.046734   23.028713        1.0  1.00000\n",
       " 2010-01-05   26.829010   25.169503   27.288098   23.050908        1.0  1.00000\n",
       " 2010-01-06   26.402260   25.307290   27.366449   23.248130        1.0  1.00000\n",
       " 2010-01-07   26.353460   25.436879   27.410937   23.462821        1.0  1.00000\n",
       " 2010-01-08   26.528664   25.525609   27.529742   23.521475        1.0  1.00000\n",
       " ...                ...         ...         ...         ...   ...  ...      ...\n",
       " 2019-06-18  198.449997  185.432500  201.032574  169.832427        1.0  1.42265\n",
       " 2019-06-19  197.869995  185.996000  202.558154  169.433846        1.0  1.42265\n",
       " 2019-06-20  199.460007  186.830000  204.361771  169.298229        1.0  1.42265\n",
       " 2019-06-21  198.779999  187.786000  205.751400  169.820600        1.0  1.42265\n",
       " 2019-06-24  199.169998  188.796000  206.944862  170.647138        1.0  1.42265\n",
       " \n",
       " [2384 rows x 7 columns],\n",
       " 1.4226496781811313)"
      ]
     },
     "execution_count": 48,
     "metadata": {},
     "output_type": "execute_result"
    }
   ],
   "source": [
    "class1.ballenger()"
   ]
  },
  {
   "cell_type": "code",
   "execution_count": null,
   "metadata": {},
   "outputs": [],
   "source": []
  }
 ],
 "metadata": {
  "kernelspec": {
   "display_name": "Python 3",
   "language": "python",
   "name": "python3"
  },
  "language_info": {
   "codemirror_mode": {
    "name": "ipython",
    "version": 3
   },
   "file_extension": ".py",
   "mimetype": "text/x-python",
   "name": "python",
   "nbconvert_exporter": "python",
   "pygments_lexer": "ipython3",
   "version": "3.11.7"
  }
 },
 "nbformat": 4,
 "nbformat_minor": 2
}
