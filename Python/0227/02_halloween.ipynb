{
 "cells": [
  {
   "cell_type": "markdown",
   "metadata": {},
   "source": [
    "# 할로윈 투자 전략\n",
    "1. 11월 첫날 매수 -> 4월 마지막 날 매도\n",
    "2. 11월 첫날의 가격의 시가로 매수\n",
    "3. 4월 말일의 종가로 매도\n",
    "4. 수익률 계산 -> 매도가 / 매수가\n",
    "5. 누적 수익률 계산"
   ]
  },
  {
   "cell_type": "code",
   "execution_count": 3,
   "metadata": {},
   "outputs": [
    {
     "name": "stderr",
     "output_type": "stream",
     "text": [
      "/var/folders/lj/ms0l79910fz22cg2hchczhw40000gn/T/ipykernel_9260/2587923531.py:1: DeprecationWarning: \n",
      "Pyarrow will become a required dependency of pandas in the next major release of pandas (pandas 3.0),\n",
      "(to allow more performant data types, such as the Arrow string type, and better interoperability with other libraries)\n",
      "but was not found to be installed on your system.\n",
      "If this would cause problems for you,\n",
      "please provide us feedback at https://github.com/pandas-dev/pandas/issues/54466\n",
      "        \n",
      "  import pandas as pd\n"
     ]
    }
   ],
   "source": [
    "import pandas as pd\n",
    "import numpy as np\n",
    "from datetime import datetime\n",
    "from dateutil.relativedelta import relativedelta"
   ]
  },
  {
   "cell_type": "code",
   "execution_count": 4,
   "metadata": {},
   "outputs": [
    {
     "data": {
      "text/html": [
       "<div>\n",
       "<style scoped>\n",
       "    .dataframe tbody tr th:only-of-type {\n",
       "        vertical-align: middle;\n",
       "    }\n",
       "\n",
       "    .dataframe tbody tr th {\n",
       "        vertical-align: top;\n",
       "    }\n",
       "\n",
       "    .dataframe thead th {\n",
       "        text-align: right;\n",
       "    }\n",
       "</style>\n",
       "<table border=\"1\" class=\"dataframe\">\n",
       "  <thead>\n",
       "    <tr style=\"text-align: right;\">\n",
       "      <th></th>\n",
       "      <th>Open</th>\n",
       "      <th>High</th>\n",
       "      <th>Low</th>\n",
       "      <th>Close</th>\n",
       "      <th>Adj Close</th>\n",
       "      <th>Volume</th>\n",
       "    </tr>\n",
       "    <tr>\n",
       "      <th>Date</th>\n",
       "      <th></th>\n",
       "      <th></th>\n",
       "      <th></th>\n",
       "      <th></th>\n",
       "      <th></th>\n",
       "      <th></th>\n",
       "    </tr>\n",
       "  </thead>\n",
       "  <tbody>\n",
       "    <tr>\n",
       "      <th>1997-05-15</th>\n",
       "      <td>2.437500</td>\n",
       "      <td>2.500000</td>\n",
       "      <td>1.927083</td>\n",
       "      <td>1.958333</td>\n",
       "      <td>1.958333</td>\n",
       "      <td>72156000</td>\n",
       "    </tr>\n",
       "    <tr>\n",
       "      <th>1997-05-16</th>\n",
       "      <td>1.968750</td>\n",
       "      <td>1.979167</td>\n",
       "      <td>1.708333</td>\n",
       "      <td>1.729167</td>\n",
       "      <td>1.729167</td>\n",
       "      <td>14700000</td>\n",
       "    </tr>\n",
       "    <tr>\n",
       "      <th>1997-05-19</th>\n",
       "      <td>1.760417</td>\n",
       "      <td>1.770833</td>\n",
       "      <td>1.625000</td>\n",
       "      <td>1.708333</td>\n",
       "      <td>1.708333</td>\n",
       "      <td>6106800</td>\n",
       "    </tr>\n",
       "    <tr>\n",
       "      <th>1997-05-20</th>\n",
       "      <td>1.729167</td>\n",
       "      <td>1.750000</td>\n",
       "      <td>1.635417</td>\n",
       "      <td>1.635417</td>\n",
       "      <td>1.635417</td>\n",
       "      <td>5467200</td>\n",
       "    </tr>\n",
       "    <tr>\n",
       "      <th>1997-05-21</th>\n",
       "      <td>1.635417</td>\n",
       "      <td>1.645833</td>\n",
       "      <td>1.375000</td>\n",
       "      <td>1.427083</td>\n",
       "      <td>1.427083</td>\n",
       "      <td>18853200</td>\n",
       "    </tr>\n",
       "  </tbody>\n",
       "</table>\n",
       "</div>"
      ],
      "text/plain": [
       "                Open      High       Low     Close  Adj Close    Volume\n",
       "Date                                                                   \n",
       "1997-05-15  2.437500  2.500000  1.927083  1.958333   1.958333  72156000\n",
       "1997-05-16  1.968750  1.979167  1.708333  1.729167   1.729167  14700000\n",
       "1997-05-19  1.760417  1.770833  1.625000  1.708333   1.708333   6106800\n",
       "1997-05-20  1.729167  1.750000  1.635417  1.635417   1.635417   5467200\n",
       "1997-05-21  1.635417  1.645833  1.375000  1.427083   1.427083  18853200"
      ]
     },
     "execution_count": 4,
     "metadata": {},
     "output_type": "execute_result"
    }
   ],
   "source": [
    "df = pd.read_csv('../../csv/AMZN.csv', index_col='Date')\n",
    "df.head(5)"
   ]
  },
  {
   "cell_type": "code",
   "execution_count": 5,
   "metadata": {},
   "outputs": [],
   "source": [
    "df.index = pd.to_datetime(df.index, format='%Y-%m-%d')"
   ]
  },
  {
   "cell_type": "code",
   "execution_count": 6,
   "metadata": {},
   "outputs": [
    {
     "data": {
      "text/plain": [
       "35.8125"
      ]
     },
     "execution_count": 6,
     "metadata": {},
     "output_type": "execute_result"
    }
   ],
   "source": [
    "# 2000년 11월 데이터 출력\n",
    "df.loc['2000-11', ].iloc[0,0]"
   ]
  },
  {
   "cell_type": "code",
   "execution_count": 7,
   "metadata": {},
   "outputs": [
    {
     "data": {
      "text/plain": [
       "Date\n",
       "2000-11-01    35.8125\n",
       "Name: Open, dtype: float64"
      ]
     },
     "execution_count": 7,
     "metadata": {},
     "output_type": "execute_result"
    }
   ],
   "source": [
    "df.loc['2000-11',].head(1)['Open']"
   ]
  },
  {
   "cell_type": "code",
   "execution_count": 8,
   "metadata": {},
   "outputs": [
    {
     "name": "stderr",
     "output_type": "stream",
     "text": [
      "/var/folders/lj/ms0l79910fz22cg2hchczhw40000gn/T/ipykernel_9260/1122638607.py:1: FutureWarning: Series.__getitem__ treating keys as positions is deprecated. In a future version, integer keys will always be treated as labels (consistent with DataFrame behavior). To access a value by position, use `ser.iloc[pos]`\n",
      "  df.loc['2000-11', 'Open'][0]\n"
     ]
    },
    {
     "data": {
      "text/plain": [
       "35.8125"
      ]
     },
     "execution_count": 8,
     "metadata": {},
     "output_type": "execute_result"
    }
   ],
   "source": [
    "df.loc['2000-11', 'Open'][0]"
   ]
  },
  {
   "cell_type": "code",
   "execution_count": 9,
   "metadata": {},
   "outputs": [
    {
     "name": "stderr",
     "output_type": "stream",
     "text": [
      "/var/folders/lj/ms0l79910fz22cg2hchczhw40000gn/T/ipykernel_9260/2496373566.py:1: FutureWarning: Series.__getitem__ treating keys as positions is deprecated. In a future version, integer keys will always be treated as labels (consistent with DataFrame behavior). To access a value by position, use `ser.iloc[pos]`\n",
      "  df.loc['2001-04', 'Close'][-1]\n"
     ]
    },
    {
     "data": {
      "text/plain": [
       "15.78"
      ]
     },
     "execution_count": 9,
     "metadata": {},
     "output_type": "execute_result"
    }
   ],
   "source": [
    "df.loc['2001-04', 'Close'][-1]"
   ]
  },
  {
   "cell_type": "code",
   "execution_count": 10,
   "metadata": {},
   "outputs": [
    {
     "data": {
      "text/html": [
       "<div>\n",
       "<style scoped>\n",
       "    .dataframe tbody tr th:only-of-type {\n",
       "        vertical-align: middle;\n",
       "    }\n",
       "\n",
       "    .dataframe tbody tr th {\n",
       "        vertical-align: top;\n",
       "    }\n",
       "\n",
       "    .dataframe thead th {\n",
       "        text-align: right;\n",
       "    }\n",
       "</style>\n",
       "<table border=\"1\" class=\"dataframe\">\n",
       "  <thead>\n",
       "    <tr style=\"text-align: right;\">\n",
       "      <th></th>\n",
       "      <th>Open</th>\n",
       "      <th>High</th>\n",
       "      <th>Low</th>\n",
       "      <th>Close</th>\n",
       "      <th>Adj Close</th>\n",
       "      <th>Volume</th>\n",
       "    </tr>\n",
       "    <tr>\n",
       "      <th>Date</th>\n",
       "      <th></th>\n",
       "      <th></th>\n",
       "      <th></th>\n",
       "      <th></th>\n",
       "      <th></th>\n",
       "      <th></th>\n",
       "    </tr>\n",
       "  </thead>\n",
       "  <tbody>\n",
       "    <tr>\n",
       "      <th>2000-11-30</th>\n",
       "      <td>24.75</td>\n",
       "      <td>26.1875</td>\n",
       "      <td>22.875</td>\n",
       "      <td>24.6875</td>\n",
       "      <td>24.6875</td>\n",
       "      <td>13123500</td>\n",
       "    </tr>\n",
       "  </tbody>\n",
       "</table>\n",
       "</div>"
      ],
      "text/plain": [
       "             Open     High     Low    Close  Adj Close    Volume\n",
       "Date                                                            \n",
       "2000-11-30  24.75  26.1875  22.875  24.6875    24.6875  13123500"
      ]
     },
     "execution_count": 10,
     "metadata": {},
     "output_type": "execute_result"
    }
   ],
   "source": [
    "df.loc['2000-11'].tail(1)"
   ]
  },
  {
   "cell_type": "code",
   "execution_count": 11,
   "metadata": {},
   "outputs": [
    {
     "data": {
      "text/plain": [
       "Open         1.414000e+02\n",
       "High         1.414000e+02\n",
       "Low          1.369100e+02\n",
       "Close        1.371000e+02\n",
       "Adj Close    1.371000e+02\n",
       "Volume       6.113500e+06\n",
       "Name: 2010-04-30 00:00:00, dtype: float64"
      ]
     },
     "execution_count": 11,
     "metadata": {},
     "output_type": "execute_result"
    }
   ],
   "source": [
    "df.loc['2010-04-30',]"
   ]
  },
  {
   "cell_type": "code",
   "execution_count": 12,
   "metadata": {},
   "outputs": [
    {
     "data": {
      "text/html": [
       "<div>\n",
       "<style scoped>\n",
       "    .dataframe tbody tr th:only-of-type {\n",
       "        vertical-align: middle;\n",
       "    }\n",
       "\n",
       "    .dataframe tbody tr th {\n",
       "        vertical-align: top;\n",
       "    }\n",
       "\n",
       "    .dataframe thead th {\n",
       "        text-align: right;\n",
       "    }\n",
       "</style>\n",
       "<table border=\"1\" class=\"dataframe\">\n",
       "  <thead>\n",
       "    <tr style=\"text-align: right;\">\n",
       "      <th></th>\n",
       "      <th>Open</th>\n",
       "      <th>High</th>\n",
       "      <th>Low</th>\n",
       "      <th>Close</th>\n",
       "      <th>Adj Close</th>\n",
       "      <th>Volume</th>\n",
       "    </tr>\n",
       "    <tr>\n",
       "      <th>Date</th>\n",
       "      <th></th>\n",
       "      <th></th>\n",
       "      <th></th>\n",
       "      <th></th>\n",
       "      <th></th>\n",
       "      <th></th>\n",
       "    </tr>\n",
       "  </thead>\n",
       "  <tbody>\n",
       "    <tr>\n",
       "      <th>2001-04-30</th>\n",
       "      <td>15.63</td>\n",
       "      <td>16.9</td>\n",
       "      <td>15.59</td>\n",
       "      <td>15.78</td>\n",
       "      <td>15.78</td>\n",
       "      <td>5780300</td>\n",
       "    </tr>\n",
       "  </tbody>\n",
       "</table>\n",
       "</div>"
      ],
      "text/plain": [
       "             Open  High    Low  Close  Adj Close   Volume\n",
       "Date                                                     \n",
       "2001-04-30  15.63  16.9  15.59  15.78      15.78  5780300"
      ]
     },
     "execution_count": 12,
     "metadata": {},
     "output_type": "execute_result"
    }
   ],
   "source": [
    "df.loc['2000-11'].head(1)\n",
    "df.loc['2001-04'].tail(1)"
   ]
  },
  {
   "cell_type": "code",
   "execution_count": 13,
   "metadata": {},
   "outputs": [
    {
     "data": {
      "text/html": [
       "<div>\n",
       "<style scoped>\n",
       "    .dataframe tbody tr th:only-of-type {\n",
       "        vertical-align: middle;\n",
       "    }\n",
       "\n",
       "    .dataframe tbody tr th {\n",
       "        vertical-align: top;\n",
       "    }\n",
       "\n",
       "    .dataframe thead th {\n",
       "        text-align: right;\n",
       "    }\n",
       "</style>\n",
       "<table border=\"1\" class=\"dataframe\">\n",
       "  <thead>\n",
       "    <tr style=\"text-align: right;\">\n",
       "      <th></th>\n",
       "      <th>Open</th>\n",
       "      <th>High</th>\n",
       "      <th>Low</th>\n",
       "      <th>Close</th>\n",
       "      <th>Adj Close</th>\n",
       "      <th>Volume</th>\n",
       "    </tr>\n",
       "    <tr>\n",
       "      <th>Date</th>\n",
       "      <th></th>\n",
       "      <th></th>\n",
       "      <th></th>\n",
       "      <th></th>\n",
       "      <th></th>\n",
       "      <th></th>\n",
       "    </tr>\n",
       "  </thead>\n",
       "  <tbody>\n",
       "    <tr>\n",
       "      <th>2000-11-01</th>\n",
       "      <td>35.812500</td>\n",
       "      <td>40.000000</td>\n",
       "      <td>35.687500</td>\n",
       "      <td>37.375000</td>\n",
       "      <td>37.375000</td>\n",
       "      <td>11099200</td>\n",
       "    </tr>\n",
       "    <tr>\n",
       "      <th>2001-04-30</th>\n",
       "      <td>15.630000</td>\n",
       "      <td>16.900000</td>\n",
       "      <td>15.590000</td>\n",
       "      <td>15.780000</td>\n",
       "      <td>15.780000</td>\n",
       "      <td>5780300</td>\n",
       "    </tr>\n",
       "    <tr>\n",
       "      <th>2001-11-01</th>\n",
       "      <td>7.080000</td>\n",
       "      <td>7.100000</td>\n",
       "      <td>6.600000</td>\n",
       "      <td>6.950000</td>\n",
       "      <td>6.950000</td>\n",
       "      <td>5053500</td>\n",
       "    </tr>\n",
       "    <tr>\n",
       "      <th>2002-04-30</th>\n",
       "      <td>16.129999</td>\n",
       "      <td>16.760000</td>\n",
       "      <td>15.930000</td>\n",
       "      <td>16.690001</td>\n",
       "      <td>16.690001</td>\n",
       "      <td>6420800</td>\n",
       "    </tr>\n",
       "    <tr>\n",
       "      <th>2002-11-01</th>\n",
       "      <td>19.219999</td>\n",
       "      <td>19.900000</td>\n",
       "      <td>19.090000</td>\n",
       "      <td>19.799999</td>\n",
       "      <td>19.799999</td>\n",
       "      <td>5549400</td>\n",
       "    </tr>\n",
       "    <tr>\n",
       "      <th>2003-04-30</th>\n",
       "      <td>28.600000</td>\n",
       "      <td>29.000000</td>\n",
       "      <td>28.379999</td>\n",
       "      <td>28.690001</td>\n",
       "      <td>28.690001</td>\n",
       "      <td>9450000</td>\n",
       "    </tr>\n",
       "    <tr>\n",
       "      <th>2003-11-03</th>\n",
       "      <td>54.799999</td>\n",
       "      <td>56.799999</td>\n",
       "      <td>54.310001</td>\n",
       "      <td>56.740002</td>\n",
       "      <td>56.740002</td>\n",
       "      <td>9131100</td>\n",
       "    </tr>\n",
       "    <tr>\n",
       "      <th>2004-04-30</th>\n",
       "      <td>46.060001</td>\n",
       "      <td>46.349998</td>\n",
       "      <td>43.310001</td>\n",
       "      <td>43.599998</td>\n",
       "      <td>43.599998</td>\n",
       "      <td>9841300</td>\n",
       "    </tr>\n",
       "    <tr>\n",
       "      <th>2004-11-01</th>\n",
       "      <td>34.220001</td>\n",
       "      <td>35.150002</td>\n",
       "      <td>34.150002</td>\n",
       "      <td>35.099998</td>\n",
       "      <td>35.099998</td>\n",
       "      <td>6181300</td>\n",
       "    </tr>\n",
       "    <tr>\n",
       "      <th>2005-04-29</th>\n",
       "      <td>32.860001</td>\n",
       "      <td>32.889999</td>\n",
       "      <td>31.520000</td>\n",
       "      <td>32.360001</td>\n",
       "      <td>32.360001</td>\n",
       "      <td>10523500</td>\n",
       "    </tr>\n",
       "    <tr>\n",
       "      <th>2005-11-01</th>\n",
       "      <td>39.970001</td>\n",
       "      <td>40.740002</td>\n",
       "      <td>39.650002</td>\n",
       "      <td>40.369999</td>\n",
       "      <td>40.369999</td>\n",
       "      <td>5383000</td>\n",
       "    </tr>\n",
       "    <tr>\n",
       "      <th>2006-04-28</th>\n",
       "      <td>35.770000</td>\n",
       "      <td>35.889999</td>\n",
       "      <td>35.139999</td>\n",
       "      <td>35.209999</td>\n",
       "      <td>35.209999</td>\n",
       "      <td>3492500</td>\n",
       "    </tr>\n",
       "    <tr>\n",
       "      <th>2006-11-01</th>\n",
       "      <td>38.130001</td>\n",
       "      <td>38.200001</td>\n",
       "      <td>37.459999</td>\n",
       "      <td>37.560001</td>\n",
       "      <td>37.560001</td>\n",
       "      <td>6668900</td>\n",
       "    </tr>\n",
       "    <tr>\n",
       "      <th>2007-04-30</th>\n",
       "      <td>61.910000</td>\n",
       "      <td>62.439999</td>\n",
       "      <td>61.180000</td>\n",
       "      <td>61.330002</td>\n",
       "      <td>61.330002</td>\n",
       "      <td>23979200</td>\n",
       "    </tr>\n",
       "    <tr>\n",
       "      <th>2007-11-01</th>\n",
       "      <td>87.750000</td>\n",
       "      <td>89.580002</td>\n",
       "      <td>86.500000</td>\n",
       "      <td>87.650002</td>\n",
       "      <td>87.650002</td>\n",
       "      <td>8265700</td>\n",
       "    </tr>\n",
       "    <tr>\n",
       "      <th>2008-04-30</th>\n",
       "      <td>80.900002</td>\n",
       "      <td>81.339996</td>\n",
       "      <td>77.919998</td>\n",
       "      <td>78.629997</td>\n",
       "      <td>78.629997</td>\n",
       "      <td>7875700</td>\n",
       "    </tr>\n",
       "    <tr>\n",
       "      <th>2008-11-03</th>\n",
       "      <td>56.349998</td>\n",
       "      <td>57.250000</td>\n",
       "      <td>55.020000</td>\n",
       "      <td>55.770000</td>\n",
       "      <td>55.770000</td>\n",
       "      <td>7170100</td>\n",
       "    </tr>\n",
       "    <tr>\n",
       "      <th>2009-04-30</th>\n",
       "      <td>80.930000</td>\n",
       "      <td>82.669998</td>\n",
       "      <td>79.889999</td>\n",
       "      <td>80.519997</td>\n",
       "      <td>80.519997</td>\n",
       "      <td>8537600</td>\n",
       "    </tr>\n",
       "    <tr>\n",
       "      <th>2009-11-02</th>\n",
       "      <td>118.660004</td>\n",
       "      <td>119.500000</td>\n",
       "      <td>116.709999</td>\n",
       "      <td>118.839996</td>\n",
       "      <td>118.839996</td>\n",
       "      <td>11280000</td>\n",
       "    </tr>\n",
       "    <tr>\n",
       "      <th>2010-04-30</th>\n",
       "      <td>141.399994</td>\n",
       "      <td>141.399994</td>\n",
       "      <td>136.910004</td>\n",
       "      <td>137.100006</td>\n",
       "      <td>137.100006</td>\n",
       "      <td>6113500</td>\n",
       "    </tr>\n",
       "  </tbody>\n",
       "</table>\n",
       "</div>"
      ],
      "text/plain": [
       "                  Open        High         Low       Close   Adj Close  \\\n",
       "Date                                                                     \n",
       "2000-11-01   35.812500   40.000000   35.687500   37.375000   37.375000   \n",
       "2001-04-30   15.630000   16.900000   15.590000   15.780000   15.780000   \n",
       "2001-11-01    7.080000    7.100000    6.600000    6.950000    6.950000   \n",
       "2002-04-30   16.129999   16.760000   15.930000   16.690001   16.690001   \n",
       "2002-11-01   19.219999   19.900000   19.090000   19.799999   19.799999   \n",
       "2003-04-30   28.600000   29.000000   28.379999   28.690001   28.690001   \n",
       "2003-11-03   54.799999   56.799999   54.310001   56.740002   56.740002   \n",
       "2004-04-30   46.060001   46.349998   43.310001   43.599998   43.599998   \n",
       "2004-11-01   34.220001   35.150002   34.150002   35.099998   35.099998   \n",
       "2005-04-29   32.860001   32.889999   31.520000   32.360001   32.360001   \n",
       "2005-11-01   39.970001   40.740002   39.650002   40.369999   40.369999   \n",
       "2006-04-28   35.770000   35.889999   35.139999   35.209999   35.209999   \n",
       "2006-11-01   38.130001   38.200001   37.459999   37.560001   37.560001   \n",
       "2007-04-30   61.910000   62.439999   61.180000   61.330002   61.330002   \n",
       "2007-11-01   87.750000   89.580002   86.500000   87.650002   87.650002   \n",
       "2008-04-30   80.900002   81.339996   77.919998   78.629997   78.629997   \n",
       "2008-11-03   56.349998   57.250000   55.020000   55.770000   55.770000   \n",
       "2009-04-30   80.930000   82.669998   79.889999   80.519997   80.519997   \n",
       "2009-11-02  118.660004  119.500000  116.709999  118.839996  118.839996   \n",
       "2010-04-30  141.399994  141.399994  136.910004  137.100006  137.100006   \n",
       "\n",
       "              Volume  \n",
       "Date                  \n",
       "2000-11-01  11099200  \n",
       "2001-04-30   5780300  \n",
       "2001-11-01   5053500  \n",
       "2002-04-30   6420800  \n",
       "2002-11-01   5549400  \n",
       "2003-04-30   9450000  \n",
       "2003-11-03   9131100  \n",
       "2004-04-30   9841300  \n",
       "2004-11-01   6181300  \n",
       "2005-04-29  10523500  \n",
       "2005-11-01   5383000  \n",
       "2006-04-28   3492500  \n",
       "2006-11-01   6668900  \n",
       "2007-04-30  23979200  \n",
       "2007-11-01   8265700  \n",
       "2008-04-30   7875700  \n",
       "2008-11-03   7170100  \n",
       "2009-04-30   8537600  \n",
       "2009-11-02  11280000  \n",
       "2010-04-30   6113500  "
      ]
     },
     "execution_count": 13,
     "metadata": {},
     "output_type": "execute_result"
    }
   ],
   "source": [
    "# 2000~2010\n",
    "price_df = pd.DataFrame()\n",
    "\n",
    "for i in range(2000, 2010, 1) :\n",
    "    buy_month = f'{i}-11'\n",
    "    sell_month = str(i+1) + \"-04\" # 문자열 합치기\n",
    "\n",
    "    buy = df.loc[buy_month, ].head(1)\n",
    "    sell = df.loc[sell_month, ].tail(1)\n",
    "    price_df = pd.concat([price_df, buy, sell], axis=0) # ignore_index : 인덱스 초기화\n",
    "\n",
    "price_df\n"
   ]
  },
  {
   "cell_type": "code",
   "execution_count": 14,
   "metadata": {},
   "outputs": [],
   "source": [
    "price_df = price_df[['Open', 'Close']]"
   ]
  },
  {
   "cell_type": "code",
   "execution_count": 15,
   "metadata": {},
   "outputs": [
    {
     "name": "stderr",
     "output_type": "stream",
     "text": [
      "/var/folders/lj/ms0l79910fz22cg2hchczhw40000gn/T/ipykernel_9260/1178645707.py:2: SettingWithCopyWarning: \n",
      "A value is trying to be set on a copy of a slice from a DataFrame.\n",
      "Try using .loc[row_indexer,col_indexer] = value instead\n",
      "\n",
      "See the caveats in the documentation: https://pandas.pydata.org/pandas-docs/stable/user_guide/indexing.html#returning-a-view-versus-a-copy\n",
      "  price_df['rtn'] = 1\n"
     ]
    }
   ],
   "source": [
    "# 수익률 컬럼 생성\n",
    "price_df['rtn'] = 1"
   ]
  },
  {
   "cell_type": "code",
   "execution_count": 16,
   "metadata": {},
   "outputs": [
    {
     "name": "stderr",
     "output_type": "stream",
     "text": [
      "/var/folders/lj/ms0l79910fz22cg2hchczhw40000gn/T/ipykernel_9260/2419298158.py:5: FutureWarning: Setting an item of incompatible dtype is deprecated and will raise an error in a future version of pandas. Value '0.4406282722513089' has dtype incompatible with int64, please explicitly cast to a compatible dtype first.\n",
      "  price_df.iloc[i,2] = rtn\n"
     ]
    }
   ],
   "source": [
    "# 위치 값이 홀수인 경우 수익률 계산\n",
    "for i in range(len(price_df)) :\n",
    "    if i % 2 == 1 :\n",
    "        rtn = price_df.iloc[i,]['Close'] / price_df.iloc[i-1,]['Open']\n",
    "        price_df.iloc[i,2] = rtn"
   ]
  },
  {
   "cell_type": "code",
   "execution_count": 17,
   "metadata": {},
   "outputs": [
    {
     "name": "stderr",
     "output_type": "stream",
     "text": [
      "/var/folders/lj/ms0l79910fz22cg2hchczhw40000gn/T/ipykernel_9260/4066661178.py:1: SettingWithCopyWarning: \n",
      "A value is trying to be set on a copy of a slice from a DataFrame.\n",
      "Try using .loc[row_indexer,col_indexer] = value instead\n",
      "\n",
      "See the caveats in the documentation: https://pandas.pydata.org/pandas-docs/stable/user_guide/indexing.html#returning-a-view-versus-a-copy\n",
      "  price_df['rtn2'] = 1\n",
      "/var/folders/lj/ms0l79910fz22cg2hchczhw40000gn/T/ipykernel_9260/4066661178.py:5: FutureWarning: Setting an item of incompatible dtype is deprecated and will raise an error in a future version of pandas. Value '0.4406282722513089' has dtype incompatible with int64, please explicitly cast to a compatible dtype first.\n",
      "  price_df.iloc[i,3] = rtn2\n"
     ]
    },
    {
     "data": {
      "text/html": [
       "<div>\n",
       "<style scoped>\n",
       "    .dataframe tbody tr th:only-of-type {\n",
       "        vertical-align: middle;\n",
       "    }\n",
       "\n",
       "    .dataframe tbody tr th {\n",
       "        vertical-align: top;\n",
       "    }\n",
       "\n",
       "    .dataframe thead th {\n",
       "        text-align: right;\n",
       "    }\n",
       "</style>\n",
       "<table border=\"1\" class=\"dataframe\">\n",
       "  <thead>\n",
       "    <tr style=\"text-align: right;\">\n",
       "      <th></th>\n",
       "      <th>Open</th>\n",
       "      <th>Close</th>\n",
       "      <th>rtn</th>\n",
       "      <th>rtn2</th>\n",
       "    </tr>\n",
       "    <tr>\n",
       "      <th>Date</th>\n",
       "      <th></th>\n",
       "      <th></th>\n",
       "      <th></th>\n",
       "      <th></th>\n",
       "    </tr>\n",
       "  </thead>\n",
       "  <tbody>\n",
       "    <tr>\n",
       "      <th>2000-11-01</th>\n",
       "      <td>35.812500</td>\n",
       "      <td>37.375000</td>\n",
       "      <td>1.000000</td>\n",
       "      <td>1.000000</td>\n",
       "    </tr>\n",
       "    <tr>\n",
       "      <th>2001-04-30</th>\n",
       "      <td>15.630000</td>\n",
       "      <td>15.780000</td>\n",
       "      <td>0.440628</td>\n",
       "      <td>0.440628</td>\n",
       "    </tr>\n",
       "    <tr>\n",
       "      <th>2001-11-01</th>\n",
       "      <td>7.080000</td>\n",
       "      <td>6.950000</td>\n",
       "      <td>1.000000</td>\n",
       "      <td>1.000000</td>\n",
       "    </tr>\n",
       "    <tr>\n",
       "      <th>2002-04-30</th>\n",
       "      <td>16.129999</td>\n",
       "      <td>16.690001</td>\n",
       "      <td>2.357345</td>\n",
       "      <td>2.357345</td>\n",
       "    </tr>\n",
       "    <tr>\n",
       "      <th>2002-11-01</th>\n",
       "      <td>19.219999</td>\n",
       "      <td>19.799999</td>\n",
       "      <td>1.000000</td>\n",
       "      <td>1.000000</td>\n",
       "    </tr>\n",
       "    <tr>\n",
       "      <th>2003-04-30</th>\n",
       "      <td>28.600000</td>\n",
       "      <td>28.690001</td>\n",
       "      <td>1.492716</td>\n",
       "      <td>1.492716</td>\n",
       "    </tr>\n",
       "    <tr>\n",
       "      <th>2003-11-03</th>\n",
       "      <td>54.799999</td>\n",
       "      <td>56.740002</td>\n",
       "      <td>1.000000</td>\n",
       "      <td>1.000000</td>\n",
       "    </tr>\n",
       "    <tr>\n",
       "      <th>2004-04-30</th>\n",
       "      <td>46.060001</td>\n",
       "      <td>43.599998</td>\n",
       "      <td>0.795620</td>\n",
       "      <td>0.795620</td>\n",
       "    </tr>\n",
       "    <tr>\n",
       "      <th>2004-11-01</th>\n",
       "      <td>34.220001</td>\n",
       "      <td>35.099998</td>\n",
       "      <td>1.000000</td>\n",
       "      <td>1.000000</td>\n",
       "    </tr>\n",
       "    <tr>\n",
       "      <th>2005-04-29</th>\n",
       "      <td>32.860001</td>\n",
       "      <td>32.360001</td>\n",
       "      <td>0.945646</td>\n",
       "      <td>0.945646</td>\n",
       "    </tr>\n",
       "    <tr>\n",
       "      <th>2005-11-01</th>\n",
       "      <td>39.970001</td>\n",
       "      <td>40.369999</td>\n",
       "      <td>1.000000</td>\n",
       "      <td>1.000000</td>\n",
       "    </tr>\n",
       "    <tr>\n",
       "      <th>2006-04-28</th>\n",
       "      <td>35.770000</td>\n",
       "      <td>35.209999</td>\n",
       "      <td>0.880911</td>\n",
       "      <td>0.880911</td>\n",
       "    </tr>\n",
       "    <tr>\n",
       "      <th>2006-11-01</th>\n",
       "      <td>38.130001</td>\n",
       "      <td>37.560001</td>\n",
       "      <td>1.000000</td>\n",
       "      <td>1.000000</td>\n",
       "    </tr>\n",
       "    <tr>\n",
       "      <th>2007-04-30</th>\n",
       "      <td>61.910000</td>\n",
       "      <td>61.330002</td>\n",
       "      <td>1.608445</td>\n",
       "      <td>1.608445</td>\n",
       "    </tr>\n",
       "    <tr>\n",
       "      <th>2007-11-01</th>\n",
       "      <td>87.750000</td>\n",
       "      <td>87.650002</td>\n",
       "      <td>1.000000</td>\n",
       "      <td>1.000000</td>\n",
       "    </tr>\n",
       "    <tr>\n",
       "      <th>2008-04-30</th>\n",
       "      <td>80.900002</td>\n",
       "      <td>78.629997</td>\n",
       "      <td>0.896068</td>\n",
       "      <td>0.896068</td>\n",
       "    </tr>\n",
       "    <tr>\n",
       "      <th>2008-11-03</th>\n",
       "      <td>56.349998</td>\n",
       "      <td>55.770000</td>\n",
       "      <td>1.000000</td>\n",
       "      <td>1.000000</td>\n",
       "    </tr>\n",
       "    <tr>\n",
       "      <th>2009-04-30</th>\n",
       "      <td>80.930000</td>\n",
       "      <td>80.519997</td>\n",
       "      <td>1.428926</td>\n",
       "      <td>1.428926</td>\n",
       "    </tr>\n",
       "    <tr>\n",
       "      <th>2009-11-02</th>\n",
       "      <td>118.660004</td>\n",
       "      <td>118.839996</td>\n",
       "      <td>1.000000</td>\n",
       "      <td>1.000000</td>\n",
       "    </tr>\n",
       "    <tr>\n",
       "      <th>2010-04-30</th>\n",
       "      <td>141.399994</td>\n",
       "      <td>137.100006</td>\n",
       "      <td>1.155402</td>\n",
       "      <td>1.155402</td>\n",
       "    </tr>\n",
       "  </tbody>\n",
       "</table>\n",
       "</div>"
      ],
      "text/plain": [
       "                  Open       Close       rtn      rtn2\n",
       "Date                                                  \n",
       "2000-11-01   35.812500   37.375000  1.000000  1.000000\n",
       "2001-04-30   15.630000   15.780000  0.440628  0.440628\n",
       "2001-11-01    7.080000    6.950000  1.000000  1.000000\n",
       "2002-04-30   16.129999   16.690001  2.357345  2.357345\n",
       "2002-11-01   19.219999   19.799999  1.000000  1.000000\n",
       "2003-04-30   28.600000   28.690001  1.492716  1.492716\n",
       "2003-11-03   54.799999   56.740002  1.000000  1.000000\n",
       "2004-04-30   46.060001   43.599998  0.795620  0.795620\n",
       "2004-11-01   34.220001   35.099998  1.000000  1.000000\n",
       "2005-04-29   32.860001   32.360001  0.945646  0.945646\n",
       "2005-11-01   39.970001   40.369999  1.000000  1.000000\n",
       "2006-04-28   35.770000   35.209999  0.880911  0.880911\n",
       "2006-11-01   38.130001   37.560001  1.000000  1.000000\n",
       "2007-04-30   61.910000   61.330002  1.608445  1.608445\n",
       "2007-11-01   87.750000   87.650002  1.000000  1.000000\n",
       "2008-04-30   80.900002   78.629997  0.896068  0.896068\n",
       "2008-11-03   56.349998   55.770000  1.000000  1.000000\n",
       "2009-04-30   80.930000   80.519997  1.428926  1.428926\n",
       "2009-11-02  118.660004  118.839996  1.000000  1.000000\n",
       "2010-04-30  141.399994  137.100006  1.155402  1.155402"
      ]
     },
     "execution_count": 17,
     "metadata": {},
     "output_type": "execute_result"
    }
   ],
   "source": [
    "price_df['rtn2'] = 1\n",
    "\n",
    "for i in range(1, len(price_df), 2) :\n",
    "    rtn2 = price_df.iloc[i,]['Close'] / price_df.iloc[i-1,]['Open']\n",
    "    price_df.iloc[i,3] = rtn2\n",
    "\n",
    "price_df\n"
   ]
  },
  {
   "cell_type": "code",
   "execution_count": 18,
   "metadata": {},
   "outputs": [],
   "source": [
    "flag = price_df.index.month == 4"
   ]
  },
  {
   "cell_type": "code",
   "execution_count": 19,
   "metadata": {},
   "outputs": [
    {
     "name": "stderr",
     "output_type": "stream",
     "text": [
      "/var/folders/lj/ms0l79910fz22cg2hchczhw40000gn/T/ipykernel_9260/1699705598.py:1: SettingWithCopyWarning: \n",
      "A value is trying to be set on a copy of a slice from a DataFrame.\n",
      "Try using .loc[row_indexer,col_indexer] = value instead\n",
      "\n",
      "See the caveats in the documentation: https://pandas.pydata.org/pandas-docs/stable/user_guide/indexing.html#returning-a-view-versus-a-copy\n",
      "  price_df['rtn3'] = 1\n"
     ]
    }
   ],
   "source": [
    "price_df['rtn3'] = 1"
   ]
  },
  {
   "cell_type": "code",
   "execution_count": 20,
   "metadata": {},
   "outputs": [
    {
     "data": {
      "text/html": [
       "<div>\n",
       "<style scoped>\n",
       "    .dataframe tbody tr th:only-of-type {\n",
       "        vertical-align: middle;\n",
       "    }\n",
       "\n",
       "    .dataframe tbody tr th {\n",
       "        vertical-align: top;\n",
       "    }\n",
       "\n",
       "    .dataframe thead th {\n",
       "        text-align: right;\n",
       "    }\n",
       "</style>\n",
       "<table border=\"1\" class=\"dataframe\">\n",
       "  <thead>\n",
       "    <tr style=\"text-align: right;\">\n",
       "      <th></th>\n",
       "      <th>Open</th>\n",
       "      <th>Close</th>\n",
       "      <th>rtn</th>\n",
       "      <th>rtn2</th>\n",
       "      <th>rtn3</th>\n",
       "    </tr>\n",
       "    <tr>\n",
       "      <th>Date</th>\n",
       "      <th></th>\n",
       "      <th></th>\n",
       "      <th></th>\n",
       "      <th></th>\n",
       "      <th></th>\n",
       "    </tr>\n",
       "  </thead>\n",
       "  <tbody>\n",
       "    <tr>\n",
       "      <th>2001-04-30</th>\n",
       "      <td>15.630000</td>\n",
       "      <td>15.780000</td>\n",
       "      <td>0.440628</td>\n",
       "      <td>0.440628</td>\n",
       "      <td>1</td>\n",
       "    </tr>\n",
       "    <tr>\n",
       "      <th>2002-04-30</th>\n",
       "      <td>16.129999</td>\n",
       "      <td>16.690001</td>\n",
       "      <td>2.357345</td>\n",
       "      <td>2.357345</td>\n",
       "      <td>1</td>\n",
       "    </tr>\n",
       "    <tr>\n",
       "      <th>2003-04-30</th>\n",
       "      <td>28.600000</td>\n",
       "      <td>28.690001</td>\n",
       "      <td>1.492716</td>\n",
       "      <td>1.492716</td>\n",
       "      <td>1</td>\n",
       "    </tr>\n",
       "    <tr>\n",
       "      <th>2004-04-30</th>\n",
       "      <td>46.060001</td>\n",
       "      <td>43.599998</td>\n",
       "      <td>0.795620</td>\n",
       "      <td>0.795620</td>\n",
       "      <td>1</td>\n",
       "    </tr>\n",
       "    <tr>\n",
       "      <th>2005-04-29</th>\n",
       "      <td>32.860001</td>\n",
       "      <td>32.360001</td>\n",
       "      <td>0.945646</td>\n",
       "      <td>0.945646</td>\n",
       "      <td>1</td>\n",
       "    </tr>\n",
       "    <tr>\n",
       "      <th>2006-04-28</th>\n",
       "      <td>35.770000</td>\n",
       "      <td>35.209999</td>\n",
       "      <td>0.880911</td>\n",
       "      <td>0.880911</td>\n",
       "      <td>1</td>\n",
       "    </tr>\n",
       "    <tr>\n",
       "      <th>2007-04-30</th>\n",
       "      <td>61.910000</td>\n",
       "      <td>61.330002</td>\n",
       "      <td>1.608445</td>\n",
       "      <td>1.608445</td>\n",
       "      <td>1</td>\n",
       "    </tr>\n",
       "    <tr>\n",
       "      <th>2008-04-30</th>\n",
       "      <td>80.900002</td>\n",
       "      <td>78.629997</td>\n",
       "      <td>0.896068</td>\n",
       "      <td>0.896068</td>\n",
       "      <td>1</td>\n",
       "    </tr>\n",
       "    <tr>\n",
       "      <th>2009-04-30</th>\n",
       "      <td>80.930000</td>\n",
       "      <td>80.519997</td>\n",
       "      <td>1.428926</td>\n",
       "      <td>1.428926</td>\n",
       "      <td>1</td>\n",
       "    </tr>\n",
       "    <tr>\n",
       "      <th>2010-04-30</th>\n",
       "      <td>141.399994</td>\n",
       "      <td>137.100006</td>\n",
       "      <td>1.155402</td>\n",
       "      <td>1.155402</td>\n",
       "      <td>1</td>\n",
       "    </tr>\n",
       "  </tbody>\n",
       "</table>\n",
       "</div>"
      ],
      "text/plain": [
       "                  Open       Close       rtn      rtn2  rtn3\n",
       "Date                                                        \n",
       "2001-04-30   15.630000   15.780000  0.440628  0.440628     1\n",
       "2002-04-30   16.129999   16.690001  2.357345  2.357345     1\n",
       "2003-04-30   28.600000   28.690001  1.492716  1.492716     1\n",
       "2004-04-30   46.060001   43.599998  0.795620  0.795620     1\n",
       "2005-04-29   32.860001   32.360001  0.945646  0.945646     1\n",
       "2006-04-28   35.770000   35.209999  0.880911  0.880911     1\n",
       "2007-04-30   61.910000   61.330002  1.608445  1.608445     1\n",
       "2008-04-30   80.900002   78.629997  0.896068  0.896068     1\n",
       "2009-04-30   80.930000   80.519997  1.428926  1.428926     1\n",
       "2010-04-30  141.399994  137.100006  1.155402  1.155402     1"
      ]
     },
     "execution_count": 20,
     "metadata": {},
     "output_type": "execute_result"
    }
   ],
   "source": [
    "price_df.loc[flag,]"
   ]
  },
  {
   "cell_type": "code",
   "execution_count": 21,
   "metadata": {},
   "outputs": [
    {
     "name": "stderr",
     "output_type": "stream",
     "text": [
      "/var/folders/lj/ms0l79910fz22cg2hchczhw40000gn/T/ipykernel_9260/1925016373.py:4: FutureWarning: Setting an item of incompatible dtype is deprecated and will raise an error in a future version of pandas. Value '0.4406282722513089' has dtype incompatible with int64, please explicitly cast to a compatible dtype first.\n",
      "  price_df.loc[i, 'rtn3'] = rtn\n"
     ]
    },
    {
     "data": {
      "text/html": [
       "<div>\n",
       "<style scoped>\n",
       "    .dataframe tbody tr th:only-of-type {\n",
       "        vertical-align: middle;\n",
       "    }\n",
       "\n",
       "    .dataframe tbody tr th {\n",
       "        vertical-align: top;\n",
       "    }\n",
       "\n",
       "    .dataframe thead th {\n",
       "        text-align: right;\n",
       "    }\n",
       "</style>\n",
       "<table border=\"1\" class=\"dataframe\">\n",
       "  <thead>\n",
       "    <tr style=\"text-align: right;\">\n",
       "      <th></th>\n",
       "      <th>Open</th>\n",
       "      <th>Close</th>\n",
       "      <th>rtn</th>\n",
       "      <th>rtn2</th>\n",
       "      <th>rtn3</th>\n",
       "    </tr>\n",
       "    <tr>\n",
       "      <th>Date</th>\n",
       "      <th></th>\n",
       "      <th></th>\n",
       "      <th></th>\n",
       "      <th></th>\n",
       "      <th></th>\n",
       "    </tr>\n",
       "  </thead>\n",
       "  <tbody>\n",
       "    <tr>\n",
       "      <th>2000-11-01</th>\n",
       "      <td>35.812500</td>\n",
       "      <td>37.375000</td>\n",
       "      <td>1.000000</td>\n",
       "      <td>1.000000</td>\n",
       "      <td>1.000000</td>\n",
       "    </tr>\n",
       "    <tr>\n",
       "      <th>2001-04-30</th>\n",
       "      <td>15.630000</td>\n",
       "      <td>15.780000</td>\n",
       "      <td>0.440628</td>\n",
       "      <td>0.440628</td>\n",
       "      <td>0.440628</td>\n",
       "    </tr>\n",
       "    <tr>\n",
       "      <th>2001-11-01</th>\n",
       "      <td>7.080000</td>\n",
       "      <td>6.950000</td>\n",
       "      <td>1.000000</td>\n",
       "      <td>1.000000</td>\n",
       "      <td>1.000000</td>\n",
       "    </tr>\n",
       "    <tr>\n",
       "      <th>2002-04-30</th>\n",
       "      <td>16.129999</td>\n",
       "      <td>16.690001</td>\n",
       "      <td>2.357345</td>\n",
       "      <td>2.357345</td>\n",
       "      <td>2.357345</td>\n",
       "    </tr>\n",
       "    <tr>\n",
       "      <th>2002-11-01</th>\n",
       "      <td>19.219999</td>\n",
       "      <td>19.799999</td>\n",
       "      <td>1.000000</td>\n",
       "      <td>1.000000</td>\n",
       "      <td>1.000000</td>\n",
       "    </tr>\n",
       "    <tr>\n",
       "      <th>2003-04-30</th>\n",
       "      <td>28.600000</td>\n",
       "      <td>28.690001</td>\n",
       "      <td>1.492716</td>\n",
       "      <td>1.492716</td>\n",
       "      <td>1.492716</td>\n",
       "    </tr>\n",
       "    <tr>\n",
       "      <th>2003-11-03</th>\n",
       "      <td>54.799999</td>\n",
       "      <td>56.740002</td>\n",
       "      <td>1.000000</td>\n",
       "      <td>1.000000</td>\n",
       "      <td>1.000000</td>\n",
       "    </tr>\n",
       "    <tr>\n",
       "      <th>2004-04-30</th>\n",
       "      <td>46.060001</td>\n",
       "      <td>43.599998</td>\n",
       "      <td>0.795620</td>\n",
       "      <td>0.795620</td>\n",
       "      <td>0.795620</td>\n",
       "    </tr>\n",
       "    <tr>\n",
       "      <th>2004-11-01</th>\n",
       "      <td>34.220001</td>\n",
       "      <td>35.099998</td>\n",
       "      <td>1.000000</td>\n",
       "      <td>1.000000</td>\n",
       "      <td>1.000000</td>\n",
       "    </tr>\n",
       "    <tr>\n",
       "      <th>2005-04-29</th>\n",
       "      <td>32.860001</td>\n",
       "      <td>32.360001</td>\n",
       "      <td>0.945646</td>\n",
       "      <td>0.945646</td>\n",
       "      <td>0.945646</td>\n",
       "    </tr>\n",
       "    <tr>\n",
       "      <th>2005-11-01</th>\n",
       "      <td>39.970001</td>\n",
       "      <td>40.369999</td>\n",
       "      <td>1.000000</td>\n",
       "      <td>1.000000</td>\n",
       "      <td>1.000000</td>\n",
       "    </tr>\n",
       "    <tr>\n",
       "      <th>2006-04-28</th>\n",
       "      <td>35.770000</td>\n",
       "      <td>35.209999</td>\n",
       "      <td>0.880911</td>\n",
       "      <td>0.880911</td>\n",
       "      <td>0.880911</td>\n",
       "    </tr>\n",
       "    <tr>\n",
       "      <th>2006-11-01</th>\n",
       "      <td>38.130001</td>\n",
       "      <td>37.560001</td>\n",
       "      <td>1.000000</td>\n",
       "      <td>1.000000</td>\n",
       "      <td>1.000000</td>\n",
       "    </tr>\n",
       "    <tr>\n",
       "      <th>2007-04-30</th>\n",
       "      <td>61.910000</td>\n",
       "      <td>61.330002</td>\n",
       "      <td>1.608445</td>\n",
       "      <td>1.608445</td>\n",
       "      <td>1.608445</td>\n",
       "    </tr>\n",
       "    <tr>\n",
       "      <th>2007-11-01</th>\n",
       "      <td>87.750000</td>\n",
       "      <td>87.650002</td>\n",
       "      <td>1.000000</td>\n",
       "      <td>1.000000</td>\n",
       "      <td>1.000000</td>\n",
       "    </tr>\n",
       "    <tr>\n",
       "      <th>2008-04-30</th>\n",
       "      <td>80.900002</td>\n",
       "      <td>78.629997</td>\n",
       "      <td>0.896068</td>\n",
       "      <td>0.896068</td>\n",
       "      <td>0.896068</td>\n",
       "    </tr>\n",
       "    <tr>\n",
       "      <th>2008-11-03</th>\n",
       "      <td>56.349998</td>\n",
       "      <td>55.770000</td>\n",
       "      <td>1.000000</td>\n",
       "      <td>1.000000</td>\n",
       "      <td>1.000000</td>\n",
       "    </tr>\n",
       "    <tr>\n",
       "      <th>2009-04-30</th>\n",
       "      <td>80.930000</td>\n",
       "      <td>80.519997</td>\n",
       "      <td>1.428926</td>\n",
       "      <td>1.428926</td>\n",
       "      <td>1.428926</td>\n",
       "    </tr>\n",
       "    <tr>\n",
       "      <th>2009-11-02</th>\n",
       "      <td>118.660004</td>\n",
       "      <td>118.839996</td>\n",
       "      <td>1.000000</td>\n",
       "      <td>1.000000</td>\n",
       "      <td>1.000000</td>\n",
       "    </tr>\n",
       "    <tr>\n",
       "      <th>2010-04-30</th>\n",
       "      <td>141.399994</td>\n",
       "      <td>137.100006</td>\n",
       "      <td>1.155402</td>\n",
       "      <td>1.155402</td>\n",
       "      <td>1.155402</td>\n",
       "    </tr>\n",
       "  </tbody>\n",
       "</table>\n",
       "</div>"
      ],
      "text/plain": [
       "                  Open       Close       rtn      rtn2      rtn3\n",
       "Date                                                            \n",
       "2000-11-01   35.812500   37.375000  1.000000  1.000000  1.000000\n",
       "2001-04-30   15.630000   15.780000  0.440628  0.440628  0.440628\n",
       "2001-11-01    7.080000    6.950000  1.000000  1.000000  1.000000\n",
       "2002-04-30   16.129999   16.690001  2.357345  2.357345  2.357345\n",
       "2002-11-01   19.219999   19.799999  1.000000  1.000000  1.000000\n",
       "2003-04-30   28.600000   28.690001  1.492716  1.492716  1.492716\n",
       "2003-11-03   54.799999   56.740002  1.000000  1.000000  1.000000\n",
       "2004-04-30   46.060001   43.599998  0.795620  0.795620  0.795620\n",
       "2004-11-01   34.220001   35.099998  1.000000  1.000000  1.000000\n",
       "2005-04-29   32.860001   32.360001  0.945646  0.945646  0.945646\n",
       "2005-11-01   39.970001   40.369999  1.000000  1.000000  1.000000\n",
       "2006-04-28   35.770000   35.209999  0.880911  0.880911  0.880911\n",
       "2006-11-01   38.130001   37.560001  1.000000  1.000000  1.000000\n",
       "2007-04-30   61.910000   61.330002  1.608445  1.608445  1.608445\n",
       "2007-11-01   87.750000   87.650002  1.000000  1.000000  1.000000\n",
       "2008-04-30   80.900002   78.629997  0.896068  0.896068  0.896068\n",
       "2008-11-03   56.349998   55.770000  1.000000  1.000000  1.000000\n",
       "2009-04-30   80.930000   80.519997  1.428926  1.428926  1.428926\n",
       "2009-11-02  118.660004  118.839996  1.000000  1.000000  1.000000\n",
       "2010-04-30  141.399994  137.100006  1.155402  1.155402  1.155402"
      ]
     },
     "execution_count": 21,
     "metadata": {},
     "output_type": "execute_result"
    }
   ],
   "source": [
    "for i in price_df.index :\n",
    "    if i.month == 4:\n",
    "        rtn = price_df.loc[i, 'Close'] / price_df.shift().loc[i, 'Open']\n",
    "        price_df.loc[i, 'rtn3'] = rtn\n",
    "\n",
    "price_df"
   ]
  },
  {
   "cell_type": "code",
   "execution_count": 22,
   "metadata": {},
   "outputs": [
    {
     "data": {
      "text/plain": [
       "Date\n",
       "2000-11-01    1.000000\n",
       "2001-04-30    0.440628\n",
       "2001-11-01    0.440628\n",
       "2002-04-30    1.038713\n",
       "2002-11-01    1.038713\n",
       "2003-04-30    1.550503\n",
       "2003-11-03    1.550503\n",
       "2004-04-30    1.233612\n",
       "2004-11-01    1.233612\n",
       "2005-04-29    1.166560\n",
       "2005-11-01    1.166560\n",
       "2006-04-28    1.027635\n",
       "2006-11-01    1.027635\n",
       "2007-04-30    1.652894\n",
       "2007-11-01    1.652894\n",
       "2008-04-30    1.481106\n",
       "2008-11-03    1.481106\n",
       "2009-04-30    2.116392\n",
       "2009-11-02    2.116392\n",
       "2010-04-30    2.445283\n",
       "Name: rtn, dtype: float64"
      ]
     },
     "execution_count": 22,
     "metadata": {},
     "output_type": "execute_result"
    }
   ],
   "source": [
    "price_df['rtn'].cumprod()"
   ]
  },
  {
   "cell_type": "code",
   "execution_count": 23,
   "metadata": {},
   "outputs": [
    {
     "data": {
      "text/plain": [
       "datetime.datetime(2000, 11, 1, 0, 0)"
      ]
     },
     "execution_count": 23,
     "metadata": {},
     "output_type": "execute_result"
    }
   ],
   "source": [
    "start = datetime(year=2000, month=11, day=1)\n",
    "start "
   ]
  },
  {
   "cell_type": "code",
   "execution_count": 24,
   "metadata": {},
   "outputs": [
    {
     "data": {
      "text/plain": [
       "datetime.datetime(2001, 4, 1, 0, 0)"
      ]
     },
     "execution_count": 24,
     "metadata": {},
     "output_type": "execute_result"
    }
   ],
   "source": [
    "start + relativedelta(months=5) # 5달 후"
   ]
  },
  {
   "cell_type": "code",
   "execution_count": 25,
   "metadata": {},
   "outputs": [
    {
     "data": {
      "text/plain": [
       "datetime.datetime(2000, 11, 6, 0, 0)"
      ]
     },
     "execution_count": 25,
     "metadata": {},
     "output_type": "execute_result"
    }
   ],
   "source": [
    "start + relativedelta(days=5) # 5일 후\n"
   ]
  },
  {
   "cell_type": "code",
   "execution_count": 26,
   "metadata": {},
   "outputs": [],
   "source": [
    "end = start + relativedelta(months=5)"
   ]
  },
  {
   "cell_type": "code",
   "execution_count": 27,
   "metadata": {},
   "outputs": [
    {
     "data": {
      "text/plain": [
       "'2000-11'"
      ]
     },
     "execution_count": 27,
     "metadata": {},
     "output_type": "execute_result"
    }
   ],
   "source": [
    "start = start.strftime('%Y-%m')\n",
    "start"
   ]
  },
  {
   "cell_type": "code",
   "execution_count": 28,
   "metadata": {},
   "outputs": [
    {
     "data": {
      "text/plain": [
       "'2001-04'"
      ]
     },
     "execution_count": 28,
     "metadata": {},
     "output_type": "execute_result"
    }
   ],
   "source": [
    "end = end.strftime('%Y-%m')\n",
    "end"
   ]
  },
  {
   "cell_type": "code",
   "execution_count": 29,
   "metadata": {},
   "outputs": [],
   "source": [
    "# 할로윈 전략 함수화\n",
    "def six_month(_df, _start = 2000, _end = datetime.now().year, _month = 11) :\n",
    "    df = _df.copy()\n",
    "    if 'Date' in df.columns :\n",
    "        df.set_index('Date', inplace=True)\n",
    "\n",
    "    df.index = pd.to_datetime(df.index, format='%Y-%m-%d')\n",
    "    df = df[['Open', 'Close']]\n",
    "\n",
    "    result = pd.DataFrame() # 비어있는 데이터프레임\n",
    "\n",
    "    for i in range(_start, _end) :\n",
    "        start = datetime(year = i, month=_month, day=1)\n",
    "        end = start + relativedelta(months=5)\n",
    "\n",
    "        buy_month = start.strftime('%Y-%m')\n",
    "        sell_month = end.strftime('%Y-%m')\n",
    "\n",
    "        try :\n",
    "            buy = df.loc[buy_month].head(1)\n",
    "            sell = df.loc[sell_month].tail(1)\n",
    "\n",
    "            result = pd.concat([result, buy, sell], axis=0)\n",
    "\n",
    "        except :\n",
    "            break\n",
    "\n",
    "\n",
    "    result['rtn'] = 1\n",
    "    for i in range(1, len(result), 2) :\n",
    "        rtn = result.iloc[i,]['Close'] / result.iloc[i-1,]['Open']\n",
    "        result.iloc[i, 2] = rtn\n",
    "\n",
    "    result['acc_rtn'] = result['rtn'].cumprod()\n",
    "    acc_rtn = result.iloc[-1,]['acc_rtn']\n",
    "\n",
    "    return result, acc_rtn\n"
   ]
  },
  {
   "cell_type": "code",
   "execution_count": 30,
   "metadata": {},
   "outputs": [],
   "source": [
    "df = pd.read_csv('../../csv/AMZN.csv')"
   ]
  },
  {
   "cell_type": "code",
   "execution_count": 31,
   "metadata": {},
   "outputs": [
    {
     "name": "stderr",
     "output_type": "stream",
     "text": [
      "/var/folders/lj/ms0l79910fz22cg2hchczhw40000gn/T/ipykernel_9260/2451495709.py:32: FutureWarning: Setting an item of incompatible dtype is deprecated and will raise an error in a future version of pandas. Value '0.4406282722513089' has dtype incompatible with int64, please explicitly cast to a compatible dtype first.\n",
      "  result.iloc[i, 2] = rtn\n"
     ]
    },
    {
     "data": {
      "text/plain": [
       "(                   Open        Close       rtn   acc_rtn\n",
       " Date                                                    \n",
       " 2000-11-01    35.812500    37.375000  1.000000  1.000000\n",
       " 2001-04-30    15.630000    15.780000  0.440628  0.440628\n",
       " 2001-11-01     7.080000     6.950000  1.000000  0.440628\n",
       " 2002-04-30    16.129999    16.690001  2.357345  1.038713\n",
       " 2002-11-01    19.219999    19.799999  1.000000  1.038713\n",
       " 2003-04-30    28.600000    28.690001  1.492716  1.550503\n",
       " 2003-11-03    54.799999    56.740002  1.000000  1.550503\n",
       " 2004-04-30    46.060001    43.599998  0.795620  1.233612\n",
       " 2004-11-01    34.220001    35.099998  1.000000  1.233612\n",
       " 2005-04-29    32.860001    32.360001  0.945646  1.166560\n",
       " 2005-11-01    39.970001    40.369999  1.000000  1.166560\n",
       " 2006-04-28    35.770000    35.209999  0.880911  1.027635\n",
       " 2006-11-01    38.130001    37.560001  1.000000  1.027635\n",
       " 2007-04-30    61.910000    61.330002  1.608445  1.652894\n",
       " 2007-11-01    87.750000    87.650002  1.000000  1.652894\n",
       " 2008-04-30    80.900002    78.629997  0.896068  1.481106\n",
       " 2008-11-03    56.349998    55.770000  1.000000  1.481106\n",
       " 2009-04-30    80.930000    80.519997  1.428926  2.116392\n",
       " 2009-11-02   118.660004   118.839996  1.000000  2.116392\n",
       " 2010-04-30   141.399994   137.100006  1.155402  2.445283\n",
       " 2010-11-01   164.449997   162.580002  1.000000  2.445283\n",
       " 2011-04-29   194.380005   195.809998  1.190696  2.911590\n",
       " 2011-11-01   208.110001   212.100006  1.000000  2.911590\n",
       " 2012-04-30   223.949997   231.899994  1.114315  3.244427\n",
       " 2012-11-01   234.229996   232.139999  1.000000  3.244427\n",
       " 2013-04-30   249.369995   253.809998  1.083593  3.515638\n",
       " 2013-11-01   365.630005   359.000000  1.000000  3.515638\n",
       " 2014-04-30   298.100006   304.130005  0.831797  2.924298\n",
       " 2014-11-03   306.239990   305.720001  1.000000  2.924298\n",
       " 2015-04-30   427.109985   421.779999  1.377286  4.027594\n",
       " 2015-11-02   627.130005   628.349976  1.000000  4.027594\n",
       " 2016-04-29   666.000000   659.590027  1.051760  4.236061\n",
       " 2016-11-01   799.000000   785.409973  1.000000  4.236061\n",
       " 2017-04-28   948.830017   924.989990  1.157685  4.904023\n",
       " 2017-11-01  1105.400024  1103.680054  1.000000  4.904023\n",
       " 2018-04-30  1582.500000  1566.130005  1.416799  6.948016\n",
       " 2018-11-01  1623.530029  1665.530029  1.000000  6.948016\n",
       " 2019-04-30  1930.099976  1926.520020  1.186624  8.244684,\n",
       " 8.244683980501206)"
      ]
     },
     "execution_count": 31,
     "metadata": {},
     "output_type": "execute_result"
    }
   ],
   "source": [
    "six_month(df)"
   ]
  },
  {
   "cell_type": "code",
   "execution_count": 32,
   "metadata": {},
   "outputs": [],
   "source": [
    "#pip install yfinance"
   ]
  },
  {
   "cell_type": "code",
   "execution_count": 33,
   "metadata": {},
   "outputs": [],
   "source": [
    "import yfinance as yf"
   ]
  },
  {
   "cell_type": "code",
   "execution_count": 34,
   "metadata": {},
   "outputs": [],
   "source": [
    "aapl = pd.read_csv('../../csv/AAPL.csv')"
   ]
  },
  {
   "cell_type": "code",
   "execution_count": 35,
   "metadata": {},
   "outputs": [
    {
     "name": "stderr",
     "output_type": "stream",
     "text": [
      "[*********************100%%**********************]  1 of 1 completed\n"
     ]
    }
   ],
   "source": [
    "sdi = yf.download('006400.KS', start='2015-01-01')"
   ]
  },
  {
   "cell_type": "code",
   "execution_count": 47,
   "metadata": {},
   "outputs": [
    {
     "name": "stderr",
     "output_type": "stream",
     "text": [
      "/var/folders/lj/ms0l79910fz22cg2hchczhw40000gn/T/ipykernel_9260/2451495709.py:32: FutureWarning: Setting an item of incompatible dtype is deprecated and will raise an error in a future version of pandas. Value '1.1585268601778382' has dtype incompatible with int64, please explicitly cast to a compatible dtype first.\n",
      "  result.iloc[i, 2] = rtn\n"
     ]
    },
    {
     "data": {
      "text/plain": [
       "(                  Open       Close       rtn   acc_rtn\n",
       " Date                                                  \n",
       " 2010-11-01   43.174286   43.454285  1.000000  1.000000\n",
       " 2011-04-29   49.540001   50.018570  1.158527  1.158527\n",
       " 2011-11-01   56.772858   56.644287  1.000000  1.158527\n",
       " 2012-04-30   85.400002   83.425713  1.469465  1.702414\n",
       " 2012-11-01   85.459999   85.220001  1.000000  1.702414\n",
       " 2013-04-30   62.157143   63.254284  0.740162  1.260063\n",
       " 2013-11-01   74.860001   74.290001  1.000000  1.260063\n",
       " 2014-04-30   84.662857   84.298569  1.126083  1.418936\n",
       " 2014-11-03  108.220001  109.400002  1.000000  1.418936\n",
       " 2015-04-30  128.639999  125.150002  1.156441  1.640915\n",
       " 2015-11-02  120.800003  121.180000  1.000000  1.640915\n",
       " 2016-04-29   93.989998   93.739998  0.775993  1.273339\n",
       " 2016-11-01  113.459999  111.489998  1.000000  1.273339\n",
       " 2017-04-28  144.089996  143.649994  1.266085  1.612155\n",
       " 2017-11-01  169.869995  166.889999  1.000000  1.612155\n",
       " 2018-04-30  162.130005  165.259995  0.972862  1.568404\n",
       " 2018-11-01  219.050003  222.220001  1.000000  1.568404\n",
       " 2019-04-30  203.059998  200.669998  0.916092  1.436803,\n",
       " 1.4368026302332717)"
      ]
     },
     "execution_count": 47,
     "metadata": {},
     "output_type": "execute_result"
    }
   ],
   "source": [
    "six_month(aapl, _start=2010)"
   ]
  },
  {
   "cell_type": "code",
   "execution_count": 41,
   "metadata": {},
   "outputs": [
    {
     "data": {
      "text/html": [
       "<div>\n",
       "<style scoped>\n",
       "    .dataframe tbody tr th:only-of-type {\n",
       "        vertical-align: middle;\n",
       "    }\n",
       "\n",
       "    .dataframe tbody tr th {\n",
       "        vertical-align: top;\n",
       "    }\n",
       "\n",
       "    .dataframe thead th {\n",
       "        text-align: right;\n",
       "    }\n",
       "</style>\n",
       "<table border=\"1\" class=\"dataframe\">\n",
       "  <thead>\n",
       "    <tr style=\"text-align: right;\">\n",
       "      <th></th>\n",
       "      <th>Date</th>\n",
       "      <th>Open</th>\n",
       "      <th>High</th>\n",
       "      <th>Low</th>\n",
       "      <th>Close</th>\n",
       "      <th>Adj Close</th>\n",
       "      <th>Volume</th>\n",
       "    </tr>\n",
       "  </thead>\n",
       "  <tbody>\n",
       "    <tr>\n",
       "      <th>9710</th>\n",
       "      <td>2019-06-18</td>\n",
       "      <td>196.050003</td>\n",
       "      <td>200.289993</td>\n",
       "      <td>195.210007</td>\n",
       "      <td>198.449997</td>\n",
       "      <td>198.449997</td>\n",
       "      <td>26551000.0</td>\n",
       "    </tr>\n",
       "    <tr>\n",
       "      <th>9711</th>\n",
       "      <td>2019-06-19</td>\n",
       "      <td>199.679993</td>\n",
       "      <td>199.880005</td>\n",
       "      <td>197.309998</td>\n",
       "      <td>197.869995</td>\n",
       "      <td>197.869995</td>\n",
       "      <td>21124200.0</td>\n",
       "    </tr>\n",
       "    <tr>\n",
       "      <th>9712</th>\n",
       "      <td>2019-06-20</td>\n",
       "      <td>200.369995</td>\n",
       "      <td>200.610001</td>\n",
       "      <td>198.029999</td>\n",
       "      <td>199.460007</td>\n",
       "      <td>199.460007</td>\n",
       "      <td>21514000.0</td>\n",
       "    </tr>\n",
       "    <tr>\n",
       "      <th>9713</th>\n",
       "      <td>2019-06-21</td>\n",
       "      <td>198.800003</td>\n",
       "      <td>200.850006</td>\n",
       "      <td>198.149994</td>\n",
       "      <td>198.779999</td>\n",
       "      <td>198.779999</td>\n",
       "      <td>47735300.0</td>\n",
       "    </tr>\n",
       "    <tr>\n",
       "      <th>9714</th>\n",
       "      <td>2019-06-24</td>\n",
       "      <td>198.539993</td>\n",
       "      <td>200.160004</td>\n",
       "      <td>198.169998</td>\n",
       "      <td>199.169998</td>\n",
       "      <td>199.169998</td>\n",
       "      <td>9025362.0</td>\n",
       "    </tr>\n",
       "  </tbody>\n",
       "</table>\n",
       "</div>"
      ],
      "text/plain": [
       "            Date        Open        High         Low       Close   Adj Close  \\\n",
       "9710  2019-06-18  196.050003  200.289993  195.210007  198.449997  198.449997   \n",
       "9711  2019-06-19  199.679993  199.880005  197.309998  197.869995  197.869995   \n",
       "9712  2019-06-20  200.369995  200.610001  198.029999  199.460007  199.460007   \n",
       "9713  2019-06-21  198.800003  200.850006  198.149994  198.779999  198.779999   \n",
       "9714  2019-06-24  198.539993  200.160004  198.169998  199.169998  199.169998   \n",
       "\n",
       "          Volume  \n",
       "9710  26551000.0  \n",
       "9711  21124200.0  \n",
       "9712  21514000.0  \n",
       "9713  47735300.0  \n",
       "9714   9025362.0  "
      ]
     },
     "execution_count": 41,
     "metadata": {},
     "output_type": "execute_result"
    }
   ],
   "source": [
    "aapl.tail()"
   ]
  },
  {
   "cell_type": "code",
   "execution_count": 45,
   "metadata": {},
   "outputs": [
    {
     "name": "stdout",
     "output_type": "stream",
     "text": [
      "1월에 투자 시작 시 수익률 : 2.42\n",
      "2월에 투자 시작 시 수익률 : 1.95\n",
      "3월에 투자 시작 시 수익률 : 2.54\n",
      "4월에 투자 시작 시 수익률 : 1.79\n",
      "5월에 투자 시작 시 수익률 : 1.81\n",
      "6월에 투자 시작 시 수익률 : 1.6\n",
      "7월에 투자 시작 시 수익률 : 1.5\n",
      "8월에 투자 시작 시 수익률 : 1.5\n",
      "9월에 투자 시작 시 수익률 : 1.11\n",
      "10월에 투자 시작 시 수익률 : 1.91\n",
      "11월에 투자 시작 시 수익률 : 1.8\n",
      "12월에 투자 시작 시 수익률 : 2.3\n"
     ]
    },
    {
     "name": "stderr",
     "output_type": "stream",
     "text": [
      "/var/folders/lj/ms0l79910fz22cg2hchczhw40000gn/T/ipykernel_9260/2451495709.py:32: FutureWarning: Setting an item of incompatible dtype is deprecated and will raise an error in a future version of pandas. Value '0.961038961038961' has dtype incompatible with int64, please explicitly cast to a compatible dtype first.\n",
      "  result.iloc[i, 2] = rtn\n",
      "/var/folders/lj/ms0l79910fz22cg2hchczhw40000gn/T/ipykernel_9260/2451495709.py:32: FutureWarning: Setting an item of incompatible dtype is deprecated and will raise an error in a future version of pandas. Value '0.6651162790697674' has dtype incompatible with int64, please explicitly cast to a compatible dtype first.\n",
      "  result.iloc[i, 2] = rtn\n",
      "/var/folders/lj/ms0l79910fz22cg2hchczhw40000gn/T/ipykernel_9260/2451495709.py:32: FutureWarning: Setting an item of incompatible dtype is deprecated and will raise an error in a future version of pandas. Value '0.6123188405797102' has dtype incompatible with int64, please explicitly cast to a compatible dtype first.\n",
      "  result.iloc[i, 2] = rtn\n",
      "/var/folders/lj/ms0l79910fz22cg2hchczhw40000gn/T/ipykernel_9260/2451495709.py:32: FutureWarning: Setting an item of incompatible dtype is deprecated and will raise an error in a future version of pandas. Value '0.8037037037037037' has dtype incompatible with int64, please explicitly cast to a compatible dtype first.\n",
      "  result.iloc[i, 2] = rtn\n",
      "/var/folders/lj/ms0l79910fz22cg2hchczhw40000gn/T/ipykernel_9260/2451495709.py:32: FutureWarning: Setting an item of incompatible dtype is deprecated and will raise an error in a future version of pandas. Value '0.8875' has dtype incompatible with int64, please explicitly cast to a compatible dtype first.\n",
      "  result.iloc[i, 2] = rtn\n",
      "/var/folders/lj/ms0l79910fz22cg2hchczhw40000gn/T/ipykernel_9260/2451495709.py:32: FutureWarning: Setting an item of incompatible dtype is deprecated and will raise an error in a future version of pandas. Value '0.975609756097561' has dtype incompatible with int64, please explicitly cast to a compatible dtype first.\n",
      "  result.iloc[i, 2] = rtn\n",
      "/var/folders/lj/ms0l79910fz22cg2hchczhw40000gn/T/ipykernel_9260/2451495709.py:32: FutureWarning: Setting an item of incompatible dtype is deprecated and will raise an error in a future version of pandas. Value '1.0178571428571428' has dtype incompatible with int64, please explicitly cast to a compatible dtype first.\n",
      "  result.iloc[i, 2] = rtn\n",
      "/var/folders/lj/ms0l79910fz22cg2hchczhw40000gn/T/ipykernel_9260/2451495709.py:32: FutureWarning: Setting an item of incompatible dtype is deprecated and will raise an error in a future version of pandas. Value '1.0922897196261683' has dtype incompatible with int64, please explicitly cast to a compatible dtype first.\n",
      "  result.iloc[i, 2] = rtn\n",
      "/var/folders/lj/ms0l79910fz22cg2hchczhw40000gn/T/ipykernel_9260/2451495709.py:32: FutureWarning: Setting an item of incompatible dtype is deprecated and will raise an error in a future version of pandas. Value '1.176678445229682' has dtype incompatible with int64, please explicitly cast to a compatible dtype first.\n",
      "  result.iloc[i, 2] = rtn\n",
      "/var/folders/lj/ms0l79910fz22cg2hchczhw40000gn/T/ipykernel_9260/2451495709.py:32: FutureWarning: Setting an item of incompatible dtype is deprecated and will raise an error in a future version of pandas. Value '0.9166666666666666' has dtype incompatible with int64, please explicitly cast to a compatible dtype first.\n",
      "  result.iloc[i, 2] = rtn\n",
      "/var/folders/lj/ms0l79910fz22cg2hchczhw40000gn/T/ipykernel_9260/2451495709.py:32: FutureWarning: Setting an item of incompatible dtype is deprecated and will raise an error in a future version of pandas. Value '1.0555555555555556' has dtype incompatible with int64, please explicitly cast to a compatible dtype first.\n",
      "  result.iloc[i, 2] = rtn\n",
      "/var/folders/lj/ms0l79910fz22cg2hchczhw40000gn/T/ipykernel_9260/2451495709.py:32: FutureWarning: Setting an item of incompatible dtype is deprecated and will raise an error in a future version of pandas. Value '0.9336099585062241' has dtype incompatible with int64, please explicitly cast to a compatible dtype first.\n",
      "  result.iloc[i, 2] = rtn\n"
     ]
    }
   ],
   "source": [
    "# 1~12월까지 6개월 유지 투자전략\n",
    "for i in range(1, 13) :\n",
    "    df, acc_rtn = six_month(sdi, _start=2015, _month=i) \n",
    "    print(f'{i}월에 투자 시작 시 수익률 : {round(acc_rtn, 2)}')"
   ]
  },
  {
   "cell_type": "code",
   "execution_count": null,
   "metadata": {},
   "outputs": [],
   "source": []
  }
 ],
 "metadata": {
  "kernelspec": {
   "display_name": "Python 3",
   "language": "python",
   "name": "python3"
  },
  "language_info": {
   "codemirror_mode": {
    "name": "ipython",
    "version": 3
   },
   "file_extension": ".py",
   "mimetype": "text/x-python",
   "name": "python",
   "nbconvert_exporter": "python",
   "pygments_lexer": "ipython3",
   "version": "3.11.7"
  }
 },
 "nbformat": 4,
 "nbformat_minor": 2
}
