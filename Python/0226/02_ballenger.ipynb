{
 "cells": [
  {
   "cell_type": "markdown",
   "metadata": {},
   "source": [
    "# 볼린저 밴드 투자 전략\n",
    "1. 이동 평균선 생성 : 데이터 20개의 평균 값\n",
    "2. 상단 밴드 생성 : 이동 평균선 + (2 * 20)개의 표준편차\n",
    "3. 하단 밴드 생성 : 이동 평균선 - (2 * 20)개의 표준편차\n",
    "4. 가격이 하단 밴드보다 낮은 경우 매수\n",
    "5. 가격이 상단 밴드보다 높은 경우 매도"
   ]
  },
  {
   "cell_type": "code",
   "execution_count": 4,
   "metadata": {},
   "outputs": [],
   "source": [
    "import pandas as pd\n",
    "import numpy as np\n",
    "import matplotlib.pyplot as plt\n",
    "from datetime import datetime"
   ]
  },
  {
   "cell_type": "code",
   "execution_count": 5,
   "metadata": {},
   "outputs": [
    {
     "data": {
      "text/html": [
       "<div>\n",
       "<style scoped>\n",
       "    .dataframe tbody tr th:only-of-type {\n",
       "        vertical-align: middle;\n",
       "    }\n",
       "\n",
       "    .dataframe tbody tr th {\n",
       "        vertical-align: top;\n",
       "    }\n",
       "\n",
       "    .dataframe thead th {\n",
       "        text-align: right;\n",
       "    }\n",
       "</style>\n",
       "<table border=\"1\" class=\"dataframe\">\n",
       "  <thead>\n",
       "    <tr style=\"text-align: right;\">\n",
       "      <th></th>\n",
       "      <th>Open</th>\n",
       "      <th>High</th>\n",
       "      <th>Low</th>\n",
       "      <th>Close</th>\n",
       "      <th>Adj Close</th>\n",
       "      <th>Volume</th>\n",
       "    </tr>\n",
       "    <tr>\n",
       "      <th>Date</th>\n",
       "      <th></th>\n",
       "      <th></th>\n",
       "      <th></th>\n",
       "      <th></th>\n",
       "      <th></th>\n",
       "      <th></th>\n",
       "    </tr>\n",
       "  </thead>\n",
       "  <tbody>\n",
       "    <tr>\n",
       "      <th>1980-12-12</th>\n",
       "      <td>0.513393</td>\n",
       "      <td>0.515625</td>\n",
       "      <td>0.513393</td>\n",
       "      <td>0.513393</td>\n",
       "      <td>0.410525</td>\n",
       "      <td>117258400.0</td>\n",
       "    </tr>\n",
       "  </tbody>\n",
       "</table>\n",
       "</div>"
      ],
      "text/plain": [
       "                Open      High       Low     Close  Adj Close       Volume\n",
       "Date                                                                      \n",
       "1980-12-12  0.513393  0.515625  0.513393  0.513393   0.410525  117258400.0"
      ]
     },
     "execution_count": 5,
     "metadata": {},
     "output_type": "execute_result"
    }
   ],
   "source": [
    "df = pd.read_csv('../../csv/AAPL.csv', index_col='Date')\n",
    "df.head(1)"
   ]
  },
  {
   "cell_type": "code",
   "execution_count": 6,
   "metadata": {},
   "outputs": [],
   "source": [
    "# 결측치, 무한대 데이터 제거\n",
    "flag = df.isin([np.nan, np.inf, -np.inf]).any(axis=1)"
   ]
  },
  {
   "cell_type": "code",
   "execution_count": 7,
   "metadata": {},
   "outputs": [],
   "source": [
    "df = df.loc[~flag, ['Adj Close']]"
   ]
  },
  {
   "cell_type": "code",
   "execution_count": 8,
   "metadata": {},
   "outputs": [
    {
     "data": {
      "text/html": [
       "<div>\n",
       "<style scoped>\n",
       "    .dataframe tbody tr th:only-of-type {\n",
       "        vertical-align: middle;\n",
       "    }\n",
       "\n",
       "    .dataframe tbody tr th {\n",
       "        vertical-align: top;\n",
       "    }\n",
       "\n",
       "    .dataframe thead th {\n",
       "        text-align: right;\n",
       "    }\n",
       "</style>\n",
       "<table border=\"1\" class=\"dataframe\">\n",
       "  <thead>\n",
       "    <tr style=\"text-align: right;\">\n",
       "      <th></th>\n",
       "      <th>Adj Close</th>\n",
       "    </tr>\n",
       "    <tr>\n",
       "      <th>Date</th>\n",
       "      <th></th>\n",
       "    </tr>\n",
       "  </thead>\n",
       "  <tbody>\n",
       "    <tr>\n",
       "      <th>1980-12-12</th>\n",
       "      <td>0.410525</td>\n",
       "    </tr>\n",
       "    <tr>\n",
       "      <th>1980-12-15</th>\n",
       "      <td>0.389106</td>\n",
       "    </tr>\n",
       "    <tr>\n",
       "      <th>1980-12-16</th>\n",
       "      <td>0.360548</td>\n",
       "    </tr>\n",
       "    <tr>\n",
       "      <th>1980-12-17</th>\n",
       "      <td>0.369472</td>\n",
       "    </tr>\n",
       "    <tr>\n",
       "      <th>1980-12-18</th>\n",
       "      <td>0.380182</td>\n",
       "    </tr>\n",
       "    <tr>\n",
       "      <th>...</th>\n",
       "      <td>...</td>\n",
       "    </tr>\n",
       "    <tr>\n",
       "      <th>2019-06-18</th>\n",
       "      <td>198.449997</td>\n",
       "    </tr>\n",
       "    <tr>\n",
       "      <th>2019-06-19</th>\n",
       "      <td>197.869995</td>\n",
       "    </tr>\n",
       "    <tr>\n",
       "      <th>2019-06-20</th>\n",
       "      <td>199.460007</td>\n",
       "    </tr>\n",
       "    <tr>\n",
       "      <th>2019-06-21</th>\n",
       "      <td>198.779999</td>\n",
       "    </tr>\n",
       "    <tr>\n",
       "      <th>2019-06-24</th>\n",
       "      <td>199.169998</td>\n",
       "    </tr>\n",
       "  </tbody>\n",
       "</table>\n",
       "<p>9713 rows × 1 columns</p>\n",
       "</div>"
      ],
      "text/plain": [
       "             Adj Close\n",
       "Date                  \n",
       "1980-12-12    0.410525\n",
       "1980-12-15    0.389106\n",
       "1980-12-16    0.360548\n",
       "1980-12-17    0.369472\n",
       "1980-12-18    0.380182\n",
       "...                ...\n",
       "2019-06-18  198.449997\n",
       "2019-06-19  197.869995\n",
       "2019-06-20  199.460007\n",
       "2019-06-21  198.779999\n",
       "2019-06-24  199.169998\n",
       "\n",
       "[9713 rows x 1 columns]"
      ]
     },
     "execution_count": 8,
     "metadata": {},
     "output_type": "execute_result"
    }
   ],
   "source": [
    "df"
   ]
  },
  {
   "cell_type": "code",
   "execution_count": 9,
   "metadata": {},
   "outputs": [
    {
     "data": {
      "text/plain": [
       "0.4432777"
      ]
     },
     "execution_count": 9,
     "metadata": {},
     "output_type": "execute_result"
    }
   ],
   "source": [
    "# 이동 평균선 생성 (데이터 20개)\n",
    "df.iloc[0:20, 0].mean()"
   ]
  },
  {
   "cell_type": "code",
   "execution_count": 10,
   "metadata": {},
   "outputs": [],
   "source": [
    "# 이동평균선 컬럼 생성, 값들은 결측치로 대입\n",
    "df['center'] = np.nan\n"
   ]
  },
  {
   "cell_type": "code",
   "execution_count": 11,
   "metadata": {},
   "outputs": [
    {
     "data": {
      "text/html": [
       "<div>\n",
       "<style scoped>\n",
       "    .dataframe tbody tr th:only-of-type {\n",
       "        vertical-align: middle;\n",
       "    }\n",
       "\n",
       "    .dataframe tbody tr th {\n",
       "        vertical-align: top;\n",
       "    }\n",
       "\n",
       "    .dataframe thead th {\n",
       "        text-align: right;\n",
       "    }\n",
       "</style>\n",
       "<table border=\"1\" class=\"dataframe\">\n",
       "  <thead>\n",
       "    <tr style=\"text-align: right;\">\n",
       "      <th></th>\n",
       "      <th>Adj Close</th>\n",
       "      <th>center</th>\n",
       "    </tr>\n",
       "    <tr>\n",
       "      <th>Date</th>\n",
       "      <th></th>\n",
       "      <th></th>\n",
       "    </tr>\n",
       "  </thead>\n",
       "  <tbody>\n",
       "    <tr>\n",
       "      <th>1980-12-12</th>\n",
       "      <td>0.410525</td>\n",
       "      <td>NaN</td>\n",
       "    </tr>\n",
       "    <tr>\n",
       "      <th>1980-12-15</th>\n",
       "      <td>0.389106</td>\n",
       "      <td>NaN</td>\n",
       "    </tr>\n",
       "    <tr>\n",
       "      <th>1980-12-16</th>\n",
       "      <td>0.360548</td>\n",
       "      <td>NaN</td>\n",
       "    </tr>\n",
       "  </tbody>\n",
       "</table>\n",
       "</div>"
      ],
      "text/plain": [
       "            Adj Close  center\n",
       "Date                         \n",
       "1980-12-12   0.410525     NaN\n",
       "1980-12-15   0.389106     NaN\n",
       "1980-12-16   0.360548     NaN"
      ]
     },
     "execution_count": 11,
     "metadata": {},
     "output_type": "execute_result"
    }
   ],
   "source": [
    "df.head(3)"
   ]
  },
  {
   "cell_type": "code",
   "execution_count": 34,
   "metadata": {},
   "outputs": [],
   "source": [
    "# 데이터 20개 뽑기\n",
    "for i in range(20, len(df)+1) :\n",
    "    mean_data = df.iloc[i-20:i, 0].mean()\n",
    "    df.iloc[i-1, 1] = mean_data"
   ]
  },
  {
   "cell_type": "code",
   "execution_count": 35,
   "metadata": {},
   "outputs": [
    {
     "data": {
      "text/html": [
       "<div>\n",
       "<style scoped>\n",
       "    .dataframe tbody tr th:only-of-type {\n",
       "        vertical-align: middle;\n",
       "    }\n",
       "\n",
       "    .dataframe tbody tr th {\n",
       "        vertical-align: top;\n",
       "    }\n",
       "\n",
       "    .dataframe thead th {\n",
       "        text-align: right;\n",
       "    }\n",
       "</style>\n",
       "<table border=\"1\" class=\"dataframe\">\n",
       "  <thead>\n",
       "    <tr style=\"text-align: right;\">\n",
       "      <th></th>\n",
       "      <th>Adj Close</th>\n",
       "      <th>center</th>\n",
       "      <th>center2</th>\n",
       "      <th>up</th>\n",
       "      <th>lb</th>\n",
       "    </tr>\n",
       "    <tr>\n",
       "      <th>Date</th>\n",
       "      <th></th>\n",
       "      <th></th>\n",
       "      <th></th>\n",
       "      <th></th>\n",
       "      <th></th>\n",
       "    </tr>\n",
       "  </thead>\n",
       "  <tbody>\n",
       "    <tr>\n",
       "      <th>1981-01-09</th>\n",
       "      <td>0.455147</td>\n",
       "      <td>NaN</td>\n",
       "      <td>NaN</td>\n",
       "      <td>NaN</td>\n",
       "      <td>NaN</td>\n",
       "    </tr>\n",
       "    <tr>\n",
       "      <th>1981-01-12</th>\n",
       "      <td>0.451577</td>\n",
       "      <td>0.443278</td>\n",
       "      <td>0.443278</td>\n",
       "      <td>0.536950</td>\n",
       "      <td>0.349605</td>\n",
       "    </tr>\n",
       "    <tr>\n",
       "      <th>1981-01-13</th>\n",
       "      <td>0.435513</td>\n",
       "      <td>0.444527</td>\n",
       "      <td>0.444527</td>\n",
       "      <td>0.537019</td>\n",
       "      <td>0.352035</td>\n",
       "    </tr>\n",
       "    <tr>\n",
       "      <th>1981-01-14</th>\n",
       "      <td>0.437298</td>\n",
       "      <td>0.446937</td>\n",
       "      <td>0.446937</td>\n",
       "      <td>0.535789</td>\n",
       "      <td>0.358084</td>\n",
       "    </tr>\n",
       "    <tr>\n",
       "      <th>1981-01-15</th>\n",
       "      <td>0.446223</td>\n",
       "      <td>0.451220</td>\n",
       "      <td>0.451220</td>\n",
       "      <td>0.530255</td>\n",
       "      <td>0.372186</td>\n",
       "    </tr>\n",
       "  </tbody>\n",
       "</table>\n",
       "</div>"
      ],
      "text/plain": [
       "            Adj Close    center   center2        up        lb\n",
       "Date                                                         \n",
       "1981-01-09   0.455147       NaN       NaN       NaN       NaN\n",
       "1981-01-12   0.451577  0.443278  0.443278  0.536950  0.349605\n",
       "1981-01-13   0.435513  0.444527  0.444527  0.537019  0.352035\n",
       "1981-01-14   0.437298  0.446937  0.446937  0.535789  0.358084\n",
       "1981-01-15   0.446223  0.451220  0.451220  0.530255  0.372186"
      ]
     },
     "execution_count": 35,
     "metadata": {},
     "output_type": "execute_result"
    }
   ],
   "source": [
    "df.iloc[18:23, ]"
   ]
  },
  {
   "cell_type": "code",
   "execution_count": 36,
   "metadata": {},
   "outputs": [],
   "source": [
    "# rolling(n) : n개의 데이터 결합\n",
    "df['center2'] = df['Adj Close'].rolling(20).mean()"
   ]
  },
  {
   "cell_type": "code",
   "execution_count": 37,
   "metadata": {},
   "outputs": [
    {
     "data": {
      "text/html": [
       "<div>\n",
       "<style scoped>\n",
       "    .dataframe tbody tr th:only-of-type {\n",
       "        vertical-align: middle;\n",
       "    }\n",
       "\n",
       "    .dataframe tbody tr th {\n",
       "        vertical-align: top;\n",
       "    }\n",
       "\n",
       "    .dataframe thead th {\n",
       "        text-align: right;\n",
       "    }\n",
       "</style>\n",
       "<table border=\"1\" class=\"dataframe\">\n",
       "  <thead>\n",
       "    <tr style=\"text-align: right;\">\n",
       "      <th></th>\n",
       "      <th>Adj Close</th>\n",
       "      <th>center</th>\n",
       "      <th>center2</th>\n",
       "      <th>up</th>\n",
       "      <th>lb</th>\n",
       "    </tr>\n",
       "    <tr>\n",
       "      <th>Date</th>\n",
       "      <th></th>\n",
       "      <th></th>\n",
       "      <th></th>\n",
       "      <th></th>\n",
       "      <th></th>\n",
       "    </tr>\n",
       "  </thead>\n",
       "  <tbody>\n",
       "    <tr>\n",
       "      <th>1981-01-09</th>\n",
       "      <td>0.455147</td>\n",
       "      <td>NaN</td>\n",
       "      <td>NaN</td>\n",
       "      <td>NaN</td>\n",
       "      <td>NaN</td>\n",
       "    </tr>\n",
       "    <tr>\n",
       "      <th>1981-01-12</th>\n",
       "      <td>0.451577</td>\n",
       "      <td>0.443278</td>\n",
       "      <td>0.443278</td>\n",
       "      <td>0.536950</td>\n",
       "      <td>0.349605</td>\n",
       "    </tr>\n",
       "    <tr>\n",
       "      <th>1981-01-13</th>\n",
       "      <td>0.435513</td>\n",
       "      <td>0.444527</td>\n",
       "      <td>0.444527</td>\n",
       "      <td>0.537019</td>\n",
       "      <td>0.352035</td>\n",
       "    </tr>\n",
       "    <tr>\n",
       "      <th>1981-01-14</th>\n",
       "      <td>0.437298</td>\n",
       "      <td>0.446937</td>\n",
       "      <td>0.446937</td>\n",
       "      <td>0.535789</td>\n",
       "      <td>0.358084</td>\n",
       "    </tr>\n",
       "    <tr>\n",
       "      <th>1981-01-15</th>\n",
       "      <td>0.446223</td>\n",
       "      <td>0.451220</td>\n",
       "      <td>0.451220</td>\n",
       "      <td>0.530255</td>\n",
       "      <td>0.372186</td>\n",
       "    </tr>\n",
       "  </tbody>\n",
       "</table>\n",
       "</div>"
      ],
      "text/plain": [
       "            Adj Close    center   center2        up        lb\n",
       "Date                                                         \n",
       "1981-01-09   0.455147       NaN       NaN       NaN       NaN\n",
       "1981-01-12   0.451577  0.443278  0.443278  0.536950  0.349605\n",
       "1981-01-13   0.435513  0.444527  0.444527  0.537019  0.352035\n",
       "1981-01-14   0.437298  0.446937  0.446937  0.535789  0.358084\n",
       "1981-01-15   0.446223  0.451220  0.451220  0.530255  0.372186"
      ]
     },
     "execution_count": 37,
     "metadata": {},
     "output_type": "execute_result"
    }
   ],
   "source": [
    "df.iloc[18:23]"
   ]
  },
  {
   "cell_type": "code",
   "execution_count": 38,
   "metadata": {},
   "outputs": [],
   "source": [
    "# 상단, 하단 밴드 생성\n",
    "# 상단 밴드 = 이동 평균선(이평선) + (2*20)개 데이터의 표준편차\n",
    "df['up'] = df['center'] + (2 * df['Adj Close'].rolling(20).std())\n",
    "\n",
    "df['lb'] = df['center'] - (2 * df['Adj Close'].rolling(20).std())"
   ]
  },
  {
   "cell_type": "code",
   "execution_count": 39,
   "metadata": {},
   "outputs": [
    {
     "data": {
      "text/html": [
       "<div>\n",
       "<style scoped>\n",
       "    .dataframe tbody tr th:only-of-type {\n",
       "        vertical-align: middle;\n",
       "    }\n",
       "\n",
       "    .dataframe tbody tr th {\n",
       "        vertical-align: top;\n",
       "    }\n",
       "\n",
       "    .dataframe thead th {\n",
       "        text-align: right;\n",
       "    }\n",
       "</style>\n",
       "<table border=\"1\" class=\"dataframe\">\n",
       "  <thead>\n",
       "    <tr style=\"text-align: right;\">\n",
       "      <th></th>\n",
       "      <th>Adj Close</th>\n",
       "      <th>center</th>\n",
       "      <th>center2</th>\n",
       "      <th>up</th>\n",
       "      <th>lb</th>\n",
       "    </tr>\n",
       "    <tr>\n",
       "      <th>Date</th>\n",
       "      <th></th>\n",
       "      <th></th>\n",
       "      <th></th>\n",
       "      <th></th>\n",
       "      <th></th>\n",
       "    </tr>\n",
       "  </thead>\n",
       "  <tbody>\n",
       "    <tr>\n",
       "      <th>1981-01-09</th>\n",
       "      <td>0.455147</td>\n",
       "      <td>NaN</td>\n",
       "      <td>NaN</td>\n",
       "      <td>NaN</td>\n",
       "      <td>NaN</td>\n",
       "    </tr>\n",
       "    <tr>\n",
       "      <th>1981-01-12</th>\n",
       "      <td>0.451577</td>\n",
       "      <td>0.443278</td>\n",
       "      <td>0.443278</td>\n",
       "      <td>0.536950</td>\n",
       "      <td>0.349605</td>\n",
       "    </tr>\n",
       "    <tr>\n",
       "      <th>1981-01-13</th>\n",
       "      <td>0.435513</td>\n",
       "      <td>0.444527</td>\n",
       "      <td>0.444527</td>\n",
       "      <td>0.537019</td>\n",
       "      <td>0.352035</td>\n",
       "    </tr>\n",
       "    <tr>\n",
       "      <th>1981-01-14</th>\n",
       "      <td>0.437298</td>\n",
       "      <td>0.446937</td>\n",
       "      <td>0.446937</td>\n",
       "      <td>0.535789</td>\n",
       "      <td>0.358084</td>\n",
       "    </tr>\n",
       "    <tr>\n",
       "      <th>1981-01-15</th>\n",
       "      <td>0.446223</td>\n",
       "      <td>0.451220</td>\n",
       "      <td>0.451220</td>\n",
       "      <td>0.530255</td>\n",
       "      <td>0.372186</td>\n",
       "    </tr>\n",
       "  </tbody>\n",
       "</table>\n",
       "</div>"
      ],
      "text/plain": [
       "            Adj Close    center   center2        up        lb\n",
       "Date                                                         \n",
       "1981-01-09   0.455147       NaN       NaN       NaN       NaN\n",
       "1981-01-12   0.451577  0.443278  0.443278  0.536950  0.349605\n",
       "1981-01-13   0.435513  0.444527  0.444527  0.537019  0.352035\n",
       "1981-01-14   0.437298  0.446937  0.446937  0.535789  0.358084\n",
       "1981-01-15   0.446223  0.451220  0.451220  0.530255  0.372186"
      ]
     },
     "execution_count": 39,
     "metadata": {},
     "output_type": "execute_result"
    }
   ],
   "source": [
    "df.iloc[18:23,]"
   ]
  },
  {
   "cell_type": "code",
   "execution_count": 40,
   "metadata": {},
   "outputs": [],
   "source": [
    "# index를 시계열로 변경\n",
    "df.index = pd.to_datetime(df.index, format='%Y-%m-%d')"
   ]
  },
  {
   "cell_type": "code",
   "execution_count": 41,
   "metadata": {},
   "outputs": [
    {
     "data": {
      "image/png": "[encoded data removed]",
      "text/plain": [
       "<Figure size 1200x800 with 1 Axes>"
      ]
     },
     "metadata": {},
     "output_type": "display_data"
    }
   ],
   "source": [
    "x = df.tail(200).index\n",
    "price_y = df.tail(200)['Adj Close']\n",
    "up_y = df.tail(200)['up']\n",
    "lb_y = df.tail(200)['lb']\n",
    "\n",
    "plt.figure(figsize=(12,8))\n",
    "plt.plot(x, price_y)\n",
    "plt.plot(x,up_y)\n",
    "plt.plot(x, lb_y)\n",
    "plt.show()"
   ]
  },
  {
   "cell_type": "code",
   "execution_count": 42,
   "metadata": {},
   "outputs": [
    {
     "data": {
      "text/plain": [
       "<Axes: xlabel='Date'>"
      ]
     },
     "execution_count": 42,
     "metadata": {},
     "output_type": "execute_result"
    },
    {
     "data": {
      "image/png": "[encoded data removed]",
      "text/plain": [
       "<Figure size 640x480 with 1 Axes>"
      ]
     },
     "metadata": {},
     "output_type": "display_data"
    }
   ],
   "source": [
    "df[['Adj Close', 'up', 'lb']].tail(100).plot()"
   ]
  },
  {
   "cell_type": "code",
   "execution_count": 43,
   "metadata": {},
   "outputs": [],
   "source": [
    "# 투자기관 선택\n",
    "start = '2010-01-01'\n",
    "end = datetime.now()"
   ]
  },
  {
   "cell_type": "code",
   "execution_count": 44,
   "metadata": {},
   "outputs": [],
   "source": [
    "start = datetime.strptime(start, '%Y-%m-%d')"
   ]
  },
  {
   "cell_type": "code",
   "execution_count": 46,
   "metadata": {},
   "outputs": [],
   "source": [
    "test_df = df.loc[start:,]"
   ]
  },
  {
   "cell_type": "code",
   "execution_count": 47,
   "metadata": {},
   "outputs": [
    {
     "data": {
      "text/html": [
       "<div>\n",
       "<style scoped>\n",
       "    .dataframe tbody tr th:only-of-type {\n",
       "        vertical-align: middle;\n",
       "    }\n",
       "\n",
       "    .dataframe tbody tr th {\n",
       "        vertical-align: top;\n",
       "    }\n",
       "\n",
       "    .dataframe thead th {\n",
       "        text-align: right;\n",
       "    }\n",
       "</style>\n",
       "<table border=\"1\" class=\"dataframe\">\n",
       "  <thead>\n",
       "    <tr style=\"text-align: right;\">\n",
       "      <th></th>\n",
       "      <th>Adj Close</th>\n",
       "      <th>center</th>\n",
       "      <th>center2</th>\n",
       "      <th>up</th>\n",
       "      <th>lb</th>\n",
       "    </tr>\n",
       "    <tr>\n",
       "      <th>Date</th>\n",
       "      <th></th>\n",
       "      <th></th>\n",
       "      <th></th>\n",
       "      <th></th>\n",
       "      <th></th>\n",
       "    </tr>\n",
       "  </thead>\n",
       "  <tbody>\n",
       "    <tr>\n",
       "      <th>2010-01-04</th>\n",
       "      <td>26.782711</td>\n",
       "      <td>25.037723</td>\n",
       "      <td>25.037723</td>\n",
       "      <td>27.046734</td>\n",
       "      <td>23.028713</td>\n",
       "    </tr>\n",
       "    <tr>\n",
       "      <th>2010-01-05</th>\n",
       "      <td>26.829010</td>\n",
       "      <td>25.169503</td>\n",
       "      <td>25.169503</td>\n",
       "      <td>27.288098</td>\n",
       "      <td>23.050908</td>\n",
       "    </tr>\n",
       "    <tr>\n",
       "      <th>2010-01-06</th>\n",
       "      <td>26.402260</td>\n",
       "      <td>25.307290</td>\n",
       "      <td>25.307290</td>\n",
       "      <td>27.366449</td>\n",
       "      <td>23.248130</td>\n",
       "    </tr>\n",
       "    <tr>\n",
       "      <th>2010-01-07</th>\n",
       "      <td>26.353460</td>\n",
       "      <td>25.436879</td>\n",
       "      <td>25.436879</td>\n",
       "      <td>27.410937</td>\n",
       "      <td>23.462821</td>\n",
       "    </tr>\n",
       "    <tr>\n",
       "      <th>2010-01-08</th>\n",
       "      <td>26.528664</td>\n",
       "      <td>25.525609</td>\n",
       "      <td>25.525609</td>\n",
       "      <td>27.529742</td>\n",
       "      <td>23.521475</td>\n",
       "    </tr>\n",
       "    <tr>\n",
       "      <th>...</th>\n",
       "      <td>...</td>\n",
       "      <td>...</td>\n",
       "      <td>...</td>\n",
       "      <td>...</td>\n",
       "      <td>...</td>\n",
       "    </tr>\n",
       "    <tr>\n",
       "      <th>2019-06-18</th>\n",
       "      <td>198.449997</td>\n",
       "      <td>185.432500</td>\n",
       "      <td>185.432500</td>\n",
       "      <td>201.032574</td>\n",
       "      <td>169.832427</td>\n",
       "    </tr>\n",
       "    <tr>\n",
       "      <th>2019-06-19</th>\n",
       "      <td>197.869995</td>\n",
       "      <td>185.996000</td>\n",
       "      <td>185.996000</td>\n",
       "      <td>202.558154</td>\n",
       "      <td>169.433846</td>\n",
       "    </tr>\n",
       "    <tr>\n",
       "      <th>2019-06-20</th>\n",
       "      <td>199.460007</td>\n",
       "      <td>186.830000</td>\n",
       "      <td>186.830000</td>\n",
       "      <td>204.361771</td>\n",
       "      <td>169.298229</td>\n",
       "    </tr>\n",
       "    <tr>\n",
       "      <th>2019-06-21</th>\n",
       "      <td>198.779999</td>\n",
       "      <td>187.786000</td>\n",
       "      <td>187.786000</td>\n",
       "      <td>205.751400</td>\n",
       "      <td>169.820600</td>\n",
       "    </tr>\n",
       "    <tr>\n",
       "      <th>2019-06-24</th>\n",
       "      <td>199.169998</td>\n",
       "      <td>188.796000</td>\n",
       "      <td>188.796000</td>\n",
       "      <td>206.944862</td>\n",
       "      <td>170.647138</td>\n",
       "    </tr>\n",
       "  </tbody>\n",
       "</table>\n",
       "<p>2384 rows × 5 columns</p>\n",
       "</div>"
      ],
      "text/plain": [
       "             Adj Close      center     center2          up          lb\n",
       "Date                                                                  \n",
       "2010-01-04   26.782711   25.037723   25.037723   27.046734   23.028713\n",
       "2010-01-05   26.829010   25.169503   25.169503   27.288098   23.050908\n",
       "2010-01-06   26.402260   25.307290   25.307290   27.366449   23.248130\n",
       "2010-01-07   26.353460   25.436879   25.436879   27.410937   23.462821\n",
       "2010-01-08   26.528664   25.525609   25.525609   27.529742   23.521475\n",
       "...                ...         ...         ...         ...         ...\n",
       "2019-06-18  198.449997  185.432500  185.432500  201.032574  169.832427\n",
       "2019-06-19  197.869995  185.996000  185.996000  202.558154  169.433846\n",
       "2019-06-20  199.460007  186.830000  186.830000  204.361771  169.298229\n",
       "2019-06-21  198.779999  187.786000  187.786000  205.751400  169.820600\n",
       "2019-06-24  199.169998  188.796000  188.796000  206.944862  170.647138\n",
       "\n",
       "[2384 rows x 5 columns]"
      ]
     },
     "execution_count": 47,
     "metadata": {},
     "output_type": "execute_result"
    }
   ],
   "source": [
    "test_df"
   ]
  },
  {
   "cell_type": "code",
   "execution_count": 48,
   "metadata": {},
   "outputs": [
    {
     "name": "stderr",
     "output_type": "stream",
     "text": [
      "/var/folders/lj/ms0l79910fz22cg2hchczhw40000gn/T/ipykernel_5953/3123463109.py:2: SettingWithCopyWarning: \n",
      "A value is trying to be set on a copy of a slice from a DataFrame.\n",
      "Try using .loc[row_indexer,col_indexer] = value instead\n",
      "\n",
      "See the caveats in the documentation: https://pandas.pydata.org/pandas-docs/stable/user_guide/indexing.html#returning-a-view-versus-a-copy\n",
      "  test_df['trade'] = \"\"\n"
     ]
    }
   ],
   "source": [
    "# 구매 상태 확인하는 컬럼\n",
    "test_df['trade'] = \"\""
   ]
  },
  {
   "cell_type": "markdown",
   "metadata": {},
   "source": [
    "# 보유 내역 추가 (buy를 갖고있으면 보유)\n",
    "- 조건식\n",
    "    - 상단밴드보다 수정 주가가 높거나 같은 경우\n",
    "        - 현재 보유상태라면? 매도 (trade = \"\")\n",
    "        - 보유상태가 아니라면? 유지 (trade = \"\")\n",
    "\n",
    "    - 상단밴드보다 낮고 하단밴드보다 높은 경우 (밴드 사이 위치)\n",
    "        - 현재 보유 상태라면 유지 (trade = \"buy\")\n",
    "        - 아니라면 유지 (trade = \"\")\n",
    "\n",
    "    - 하단밴드보다 낮거나 같은 경우\n",
    "        - 보유 : 유지 (trade = \"buy\")\n",
    "        - 보유X : 매수 (trade = \"buy\")\n"
   ]
  },
  {
   "cell_type": "code",
   "execution_count": 50,
   "metadata": {},
   "outputs": [],
   "source": [
    "for i in test_df.index :\n",
    "    # print(i) # 날짜\n",
    "    if test_df.loc[i, 'Adj Close'] >= test_df.loc[i, 'up']: # 주가가 상단밴드보다 높거나 같은 경우\n",
    "        if test_df.shift().loc[i, 'trade'] == 'buy' : # 전날 보유중이라면\n",
    "            test_df.loc[i, 'trade'] = \"\" # (판다!) 매수타이밍\n",
    "        else : # 보유하지 않고있다면\n",
    "            test_df.loc[i, 'trade'] = \"\" # 유지\n",
    "\n",
    "    elif test_df.loc[i, 'Adj Close'] <= test_df.loc[i, 'lb']: # 하단밴드보다 낮거나 같은 경우\n",
    "        if test_df.shift().loc[i, 'trade'] == 'buy' : # 전날 보유중이라면\n",
    "            test_df.loc[i, 'trade'] = 'buy' # 유지\n",
    "        else :\n",
    "            test_df.loc[i, 'trade'] = 'buy' # (산다!) 매도타이밍\n",
    "\n",
    "    else : # 밴드 사이에 있을 때\n",
    "        if test_df.shift().loc[i, 'trade'] == 'buy' :\n",
    "            test_df.loc[i, 'trade'] = 'buy' # 유지\n",
    "        else :\n",
    "            test_df.loc[i, 'trade'] = \"\" # 유지\n"
   ]
  },
  {
   "cell_type": "code",
   "execution_count": 51,
   "metadata": {},
   "outputs": [
    {
     "data": {
      "text/plain": [
       "trade\n",
       "       1439\n",
       "buy     945\n",
       "Name: count, dtype: int64"
      ]
     },
     "execution_count": 51,
     "metadata": {},
     "output_type": "execute_result"
    }
   ],
   "source": [
    "test_df['trade'].value_counts()"
   ]
  },
  {
   "cell_type": "code",
   "execution_count": 52,
   "metadata": {},
   "outputs": [
    {
     "data": {
      "text/html": [
       "<div>\n",
       "<style scoped>\n",
       "    .dataframe tbody tr th:only-of-type {\n",
       "        vertical-align: middle;\n",
       "    }\n",
       "\n",
       "    .dataframe tbody tr th {\n",
       "        vertical-align: top;\n",
       "    }\n",
       "\n",
       "    .dataframe thead th {\n",
       "        text-align: right;\n",
       "    }\n",
       "</style>\n",
       "<table border=\"1\" class=\"dataframe\">\n",
       "  <thead>\n",
       "    <tr style=\"text-align: right;\">\n",
       "      <th></th>\n",
       "      <th>Adj Close</th>\n",
       "      <th>center</th>\n",
       "      <th>center2</th>\n",
       "      <th>up</th>\n",
       "      <th>lb</th>\n",
       "      <th>trade</th>\n",
       "    </tr>\n",
       "    <tr>\n",
       "      <th>Date</th>\n",
       "      <th></th>\n",
       "      <th></th>\n",
       "      <th></th>\n",
       "      <th></th>\n",
       "      <th></th>\n",
       "      <th></th>\n",
       "    </tr>\n",
       "  </thead>\n",
       "  <tbody>\n",
       "    <tr>\n",
       "      <th>2010-01-04</th>\n",
       "      <td>26.782711</td>\n",
       "      <td>25.037723</td>\n",
       "      <td>25.037723</td>\n",
       "      <td>27.046734</td>\n",
       "      <td>23.028713</td>\n",
       "      <td></td>\n",
       "    </tr>\n",
       "    <tr>\n",
       "      <th>2010-01-05</th>\n",
       "      <td>26.829010</td>\n",
       "      <td>25.169503</td>\n",
       "      <td>25.169503</td>\n",
       "      <td>27.288098</td>\n",
       "      <td>23.050908</td>\n",
       "      <td></td>\n",
       "    </tr>\n",
       "    <tr>\n",
       "      <th>2010-01-06</th>\n",
       "      <td>26.402260</td>\n",
       "      <td>25.307290</td>\n",
       "      <td>25.307290</td>\n",
       "      <td>27.366449</td>\n",
       "      <td>23.248130</td>\n",
       "      <td></td>\n",
       "    </tr>\n",
       "    <tr>\n",
       "      <th>2010-01-07</th>\n",
       "      <td>26.353460</td>\n",
       "      <td>25.436879</td>\n",
       "      <td>25.436879</td>\n",
       "      <td>27.410937</td>\n",
       "      <td>23.462821</td>\n",
       "      <td></td>\n",
       "    </tr>\n",
       "    <tr>\n",
       "      <th>2010-01-08</th>\n",
       "      <td>26.528664</td>\n",
       "      <td>25.525609</td>\n",
       "      <td>25.525609</td>\n",
       "      <td>27.529742</td>\n",
       "      <td>23.521475</td>\n",
       "      <td></td>\n",
       "    </tr>\n",
       "    <tr>\n",
       "      <th>...</th>\n",
       "      <td>...</td>\n",
       "      <td>...</td>\n",
       "      <td>...</td>\n",
       "      <td>...</td>\n",
       "      <td>...</td>\n",
       "      <td>...</td>\n",
       "    </tr>\n",
       "    <tr>\n",
       "      <th>2019-06-18</th>\n",
       "      <td>198.449997</td>\n",
       "      <td>185.432500</td>\n",
       "      <td>185.432500</td>\n",
       "      <td>201.032574</td>\n",
       "      <td>169.832427</td>\n",
       "      <td>buy</td>\n",
       "    </tr>\n",
       "    <tr>\n",
       "      <th>2019-06-19</th>\n",
       "      <td>197.869995</td>\n",
       "      <td>185.996000</td>\n",
       "      <td>185.996000</td>\n",
       "      <td>202.558154</td>\n",
       "      <td>169.433846</td>\n",
       "      <td>buy</td>\n",
       "    </tr>\n",
       "    <tr>\n",
       "      <th>2019-06-20</th>\n",
       "      <td>199.460007</td>\n",
       "      <td>186.830000</td>\n",
       "      <td>186.830000</td>\n",
       "      <td>204.361771</td>\n",
       "      <td>169.298229</td>\n",
       "      <td>buy</td>\n",
       "    </tr>\n",
       "    <tr>\n",
       "      <th>2019-06-21</th>\n",
       "      <td>198.779999</td>\n",
       "      <td>187.786000</td>\n",
       "      <td>187.786000</td>\n",
       "      <td>205.751400</td>\n",
       "      <td>169.820600</td>\n",
       "      <td>buy</td>\n",
       "    </tr>\n",
       "    <tr>\n",
       "      <th>2019-06-24</th>\n",
       "      <td>199.169998</td>\n",
       "      <td>188.796000</td>\n",
       "      <td>188.796000</td>\n",
       "      <td>206.944862</td>\n",
       "      <td>170.647138</td>\n",
       "      <td>buy</td>\n",
       "    </tr>\n",
       "  </tbody>\n",
       "</table>\n",
       "<p>2384 rows × 6 columns</p>\n",
       "</div>"
      ],
      "text/plain": [
       "             Adj Close      center     center2          up          lb trade\n",
       "Date                                                                        \n",
       "2010-01-04   26.782711   25.037723   25.037723   27.046734   23.028713      \n",
       "2010-01-05   26.829010   25.169503   25.169503   27.288098   23.050908      \n",
       "2010-01-06   26.402260   25.307290   25.307290   27.366449   23.248130      \n",
       "2010-01-07   26.353460   25.436879   25.436879   27.410937   23.462821      \n",
       "2010-01-08   26.528664   25.525609   25.525609   27.529742   23.521475      \n",
       "...                ...         ...         ...         ...         ...   ...\n",
       "2019-06-18  198.449997  185.432500  185.432500  201.032574  169.832427   buy\n",
       "2019-06-19  197.869995  185.996000  185.996000  202.558154  169.433846   buy\n",
       "2019-06-20  199.460007  186.830000  186.830000  204.361771  169.298229   buy\n",
       "2019-06-21  198.779999  187.786000  187.786000  205.751400  169.820600   buy\n",
       "2019-06-24  199.169998  188.796000  188.796000  206.944862  170.647138   buy\n",
       "\n",
       "[2384 rows x 6 columns]"
      ]
     },
     "execution_count": 52,
     "metadata": {},
     "output_type": "execute_result"
    }
   ],
   "source": [
    "test_df"
   ]
  },
  {
   "cell_type": "markdown",
   "metadata": {},
   "source": [
    "# 수익률 계산\n",
    "- 구매한 날의 수정 주가\n",
    "    - 전날 trade = \"\", 오늘 trade = \"buy\"\n",
    "- 판매한 날\n",
    "    - 전날 buy, 오늘 \"\"\n",
    "\n",
    "- 수익률\n",
    "    - 판매한 날의 수정주가 / 구매한 날의 수정주가"
   ]
  },
  {
   "cell_type": "code",
   "execution_count": 56,
   "metadata": {},
   "outputs": [
    {
     "name": "stderr",
     "output_type": "stream",
     "text": [
      "/var/folders/lj/ms0l79910fz22cg2hchczhw40000gn/T/ipykernel_5953/2335227899.py:2: SettingWithCopyWarning: \n",
      "A value is trying to be set on a copy of a slice from a DataFrame.\n",
      "Try using .loc[row_indexer,col_indexer] = value instead\n",
      "\n",
      "See the caveats in the documentation: https://pandas.pydata.org/pandas-docs/stable/user_guide/indexing.html#returning-a-view-versus-a-copy\n",
      "  test_df['rtn'] = 1 # 누적곱 때문에?\n",
      "/var/folders/lj/ms0l79910fz22cg2hchczhw40000gn/T/ipykernel_5953/2335227899.py:16: FutureWarning: Setting an item of incompatible dtype is deprecated and will raise an error in a future version of pandas. Value '1.0568396777445188' has dtype incompatible with int64, please explicitly cast to a compatible dtype first.\n",
      "  test_df.loc[i, 'rtn'] = rtn\n"
     ]
    },
    {
     "name": "stdout",
     "output_type": "stream",
     "text": [
      "매수일 : 2010-01-22 00:00:00, 매수가 : 24.747818\n",
      "매도일 : 2010-03-01 00:00:00, 매도가 : 26.154476, 수익률 : 1.0568396777445188\n",
      "매수일 : 2010-08-24 00:00:00, 매수가 : 30.026524\n",
      "매도일 : 2010-09-08 00:00:00, 매도가 : 32.90366, 수익률 : 1.0958198158401553\n",
      "매수일 : 2011-03-16 00:00:00, 매수가 : 41.299767\n",
      "매도일 : 2011-07-01 00:00:00, 매도가 : 42.957966, 수익률 : 1.040150323366231\n",
      "매수일 : 2011-11-14 00:00:00, 매수가 : 47.463268\n",
      "매도일 : 2011-12-27 00:00:00, 매도가 : 50.876015, 수익률 : 1.0719029081604747\n",
      "매수일 : 2012-04-16 00:00:00, 매수가 : 72.601524\n",
      "매도일 : 2012-06-18 00:00:00, 매도가 : 73.308609, 수익률 : 1.0097392583659814\n",
      "매수일 : 2012-10-08 00:00:00, 매수가 : 80.207954\n",
      "매도일 : 2013-07-29 00:00:00, 매도가 : 57.243137, 수익률 : 0.7136840443530077\n",
      "매수일 : 2013-09-11 00:00:00, 매수가 : 60.184383\n",
      "매도일 : 2013-10-18 00:00:00, 매도가 : 65.48336, 수익률 : 1.0880457144505413\n",
      "매수일 : 2014-01-03 00:00:00, 매수가 : 70.019096\n",
      "매도일 : 2014-03-25 00:00:00, 매도가 : 70.960335, 수익률 : 1.0134426042861222\n",
      "매수일 : 2014-10-15 00:00:00, 매수가 : 89.842468\n",
      "매도일 : 2014-10-23 00:00:00, 매도가 : 96.557182, 수익률 : 1.0747387527243797\n",
      "매수일 : 2014-12-12 00:00:00, 매수가 : 101.508751\n",
      "매도일 : 2015-01-28 00:00:00, 매도가 : 106.670677, 수익률 : 1.0508520294964518\n",
      "매수일 : 2015-03-11 00:00:00, 매수가 : 113.52774\n",
      "매도일 : 2015-04-23 00:00:00, 매도가 : 120.4282, 수익률 : 1.0607821489267735\n",
      "매수일 : 2015-06-29 00:00:00, 매수가 : 116.137619\n",
      "매도일 : 2015-07-20 00:00:00, 매도가 : 123.169502, 수익률 : 1.0605478488412958\n",
      "매수일 : 2015-08-04 00:00:00, 매수가 : 106.914131\n",
      "매도일 : 2015-10-22 00:00:00, 매도가 : 108.203766, 수익률 : 1.0120623437513607\n",
      "매수일 : 2015-12-14 00:00:00, 매수가 : 105.825577\n",
      "매도일 : 2016-03-01 00:00:00, 매도가 : 95.095795, 수익률 : 0.8986088022936081\n",
      "매수일 : 2016-04-27 00:00:00, 매수가 : 92.532272\n",
      "매도일 : 2016-05-24 00:00:00, 매도가 : 93.171783, 수익률 : 1.0069112212007503\n",
      "매수일 : 2016-06-20 00:00:00, 매수가 : 90.507019\n",
      "매도일 : 2016-07-18 00:00:00, 매도가 : 95.008583, 수익률 : 1.0497371811571874\n",
      "매수일 : 2016-09-09 00:00:00, 매수가 : 98.680893\n",
      "매도일 : 2016-09-14 00:00:00, 매도가 : 106.948166, 수익률 : 1.0837778494768993\n",
      "매수일 : 2016-11-01 00:00:00, 매수가 : 106.680237\n",
      "매도일 : 2016-12-13 00:00:00, 매도가 : 110.786522, 수익률 : 1.0384915249110291\n",
      "매수일 : 2017-06-09 00:00:00, 매수가 : 144.5\n",
      "매도일 : 2017-07-13 00:00:00, 매도가 : 143.32637, 수익률 : 0.9918779930795848\n",
      "매수일 : 2017-09-20 00:00:00, 매수가 : 151.971283\n",
      "매도일 : 2017-10-16 00:00:00, 매도가 : 155.681183, 수익률 : 1.0244118489149032\n",
      "매수일 : 2018-01-29 00:00:00, 매수가 : 164.136932\n",
      "매도일 : 2018-05-04 00:00:00, 매도가 : 180.378143, 수익률 : 1.0989491566712115\n",
      "매수일 : 2018-06-25 00:00:00, 매수가 : 179.438583\n",
      "매도일 : 2018-08-01 00:00:00, 매도가 : 198.47876, 수익률 : 1.106109715545402\n",
      "매수일 : 2018-11-02 00:00:00, 매수가 : 205.085831\n",
      "매도일 : 2019-01-30 00:00:00, 매도가 : 163.913071, 수익률 : 0.799241323502256\n",
      "매수일 : 2019-05-13 00:00:00, 매수가 : 185.720001\n"
     ]
    }
   ],
   "source": [
    "# 수익률 계산\n",
    "test_df['rtn'] = 1 # 누적곱 때문에?\n",
    "\n",
    "for i in test_df.index :\n",
    "    # 구매가\n",
    "    if (test_df.shift().loc[i, 'trade'] == '') & (test_df.loc[i, 'trade'] == 'buy') : # 전날비어있고 오늘 사고\n",
    "        buy = test_df.loc[i, 'Adj Close']\n",
    "        print(f'매수일 : {i}, 매수가 : {buy}')\n",
    "\n",
    "    # 판매가\n",
    "    elif (test_df.shift().loc[i, 'trade'] == 'buy') & (test_df.loc[i, 'trade'] == '') :\n",
    "        sell = test_df.loc[i, 'Adj Close']\n",
    "\n",
    "        rtn = sell / buy\n",
    "\n",
    "        test_df.loc[i, 'rtn'] = rtn\n",
    "        print(f'매도일 : {i}, 매도가 : {sell}, 수익률 : {rtn}')"
   ]
  },
  {
   "cell_type": "code",
   "execution_count": 58,
   "metadata": {},
   "outputs": [
    {
     "data": {
      "text/plain": [
       "1.3923287814461949"
      ]
     },
     "execution_count": 58,
     "metadata": {},
     "output_type": "execute_result"
    }
   ],
   "source": [
    "acc_rtn = 1\n",
    "\n",
    "for i in test_df.index :\n",
    "    rtn = test_df.loc[i, 'rtn']\n",
    "    acc_rtn *= rtn\n",
    "\n",
    "acc_rtn"
   ]
  },
  {
   "cell_type": "code",
   "execution_count": 59,
   "metadata": {},
   "outputs": [
    {
     "name": "stderr",
     "output_type": "stream",
     "text": [
      "/var/folders/lj/ms0l79910fz22cg2hchczhw40000gn/T/ipykernel_5953/1662436560.py:1: SettingWithCopyWarning: \n",
      "A value is trying to be set on a copy of a slice from a DataFrame.\n",
      "Try using .loc[row_indexer,col_indexer] = value instead\n",
      "\n",
      "See the caveats in the documentation: https://pandas.pydata.org/pandas-docs/stable/user_guide/indexing.html#returning-a-view-versus-a-copy\n",
      "  test_df['acc_rtn'] = test_df['rtn'].cumprod()\n"
     ]
    },
    {
     "data": {
      "text/plain": [
       "1.3923287814461949"
      ]
     },
     "execution_count": 59,
     "metadata": {},
     "output_type": "execute_result"
    }
   ],
   "source": [
    "test_df['acc_rtn'] = test_df['rtn'].cumprod() # 누적곱\n",
    "test_df.iloc[-1,]['acc_rtn']"
   ]
  },
  {
   "cell_type": "markdown",
   "metadata": {},
   "source": [
    "# 볼린저 밴드 함수화\n",
    "1. 밴드생성\n",
    "    - 매개변수 : 데이터프레임, 기준컬럼명, 시작시간, 종료시간\n",
    "    - 기준컬럼 기본값 : Adj Close\n",
    "    - 시작시간 : 2010-01-01\n",
    "    - 종료시간 : \"\"\n",
    "    - 데이터개수 기본값 : 20\n",
    "\n",
    "    - 인덱스 Date 인지 확인하고 아니라면 변경 -> 시계열로 변경\n",
    "    - 시작시간, 종료시간 -> 시계열로 변경\n",
    "    - 결측치, 무한대 값 제외\n",
    "\n",
    "    - 기준컬럼 제외 후 모두 삭제\n",
    "    - 이동평균선, 상단, 하단 밴드 생성\n",
    "\n",
    "    - 시작시간, 종료시간으로 필터링\n",
    "    - 데이터프레임 리턴"
   ]
  },
  {
   "cell_type": "code",
   "execution_count": 64,
   "metadata": {},
   "outputs": [],
   "source": [
    "def createBand(_df, _col='Adj Close', _cnt = 20 , _start = '2010-01-01', _end = datetime.now()) :\n",
    "    df = _df.copy()\n",
    "    if 'Date' in df.columns:\n",
    "        df.set_index('Date', inplace=True)\n",
    "    \n",
    "    df.index = pd.to_datetime(df.index, format='%Y-%m-%d') # datetime으로 바꿔주기\n",
    "    try :\n",
    "        start = datetime.strptime(_start, '%Y-%m-%d')\n",
    "        if type(_end) == 'str' :\n",
    "            end = datetime.strptime(_end, '%Y-%m-%d')\n",
    "        else :\n",
    "            end = _end\n",
    "    except :\n",
    "        return '인자값의 타입이 잘못되었습니다. (예) YYYY-mm-dd)'\n",
    "    \n",
    "    flag = df.isin([np.nan, np.inf, -np.inf]).any(axis=1) # -np.inf : 음의 무한대, any() : 하나라도 True일 경우 True 반환\n",
    "    df = df.loc[~flag, ] # 결측치, 무한대 제외\n",
    "\n",
    "    result = df[[_col]] # 기준이 되는 컬럼만 뽑기\n",
    "\n",
    "    result['center'] = result[_col].rolling(_cnt).mean() # 20일치 평균\n",
    "    result['ub'] = result['center'] + (2 * result[_col].rolling(_cnt).std())\n",
    "    result['lb'] = result['center'] - (2 * result[_col].rolling(_cnt).std())\n",
    "\n",
    "    result = result.loc[start:end, ]\n",
    "\n",
    "    return result\n"
   ]
  },
  {
   "cell_type": "code",
   "execution_count": 61,
   "metadata": {},
   "outputs": [],
   "source": [
    "df = pd.read_csv('../../csv/AMZN.csv')"
   ]
  },
  {
   "cell_type": "code",
   "execution_count": 65,
   "metadata": {},
   "outputs": [
    {
     "name": "stderr",
     "output_type": "stream",
     "text": [
      "/var/folders/lj/ms0l79910fz22cg2hchczhw40000gn/T/ipykernel_5953/1648655657.py:21: SettingWithCopyWarning: \n",
      "A value is trying to be set on a copy of a slice from a DataFrame.\n",
      "Try using .loc[row_indexer,col_indexer] = value instead\n",
      "\n",
      "See the caveats in the documentation: https://pandas.pydata.org/pandas-docs/stable/user_guide/indexing.html#returning-a-view-versus-a-copy\n",
      "  result['center'] = result[_col].rolling(_cnt).mean() # 20일치 평균\n",
      "/var/folders/lj/ms0l79910fz22cg2hchczhw40000gn/T/ipykernel_5953/1648655657.py:22: SettingWithCopyWarning: \n",
      "A value is trying to be set on a copy of a slice from a DataFrame.\n",
      "Try using .loc[row_indexer,col_indexer] = value instead\n",
      "\n",
      "See the caveats in the documentation: https://pandas.pydata.org/pandas-docs/stable/user_guide/indexing.html#returning-a-view-versus-a-copy\n",
      "  result['ub'] = result['center'] + (2 * result[_col].rolling(_cnt).std())\n",
      "/var/folders/lj/ms0l79910fz22cg2hchczhw40000gn/T/ipykernel_5953/1648655657.py:23: SettingWithCopyWarning: \n",
      "A value is trying to be set on a copy of a slice from a DataFrame.\n",
      "Try using .loc[row_indexer,col_indexer] = value instead\n",
      "\n",
      "See the caveats in the documentation: https://pandas.pydata.org/pandas-docs/stable/user_guide/indexing.html#returning-a-view-versus-a-copy\n",
      "  result['lb'] = result['center'] - (2 * result[_col].rolling(_cnt).std())\n"
     ]
    }
   ],
   "source": [
    "band_df = createBand(df)"
   ]
  },
  {
   "cell_type": "code",
   "execution_count": 66,
   "metadata": {},
   "outputs": [
    {
     "data": {
      "text/html": [
       "<div>\n",
       "<style scoped>\n",
       "    .dataframe tbody tr th:only-of-type {\n",
       "        vertical-align: middle;\n",
       "    }\n",
       "\n",
       "    .dataframe tbody tr th {\n",
       "        vertical-align: top;\n",
       "    }\n",
       "\n",
       "    .dataframe thead th {\n",
       "        text-align: right;\n",
       "    }\n",
       "</style>\n",
       "<table border=\"1\" class=\"dataframe\">\n",
       "  <thead>\n",
       "    <tr style=\"text-align: right;\">\n",
       "      <th></th>\n",
       "      <th>Adj Close</th>\n",
       "      <th>center</th>\n",
       "      <th>ub</th>\n",
       "      <th>lb</th>\n",
       "    </tr>\n",
       "    <tr>\n",
       "      <th>Date</th>\n",
       "      <th></th>\n",
       "      <th></th>\n",
       "      <th></th>\n",
       "      <th></th>\n",
       "    </tr>\n",
       "  </thead>\n",
       "  <tbody>\n",
       "    <tr>\n",
       "      <th>2010-01-04</th>\n",
       "      <td>133.899994</td>\n",
       "      <td>133.984001</td>\n",
       "      <td>141.460445</td>\n",
       "      <td>126.507556</td>\n",
       "    </tr>\n",
       "    <tr>\n",
       "      <th>2010-01-05</th>\n",
       "      <td>134.690002</td>\n",
       "      <td>133.839500</td>\n",
       "      <td>141.132776</td>\n",
       "      <td>126.546225</td>\n",
       "    </tr>\n",
       "    <tr>\n",
       "      <th>2010-01-06</th>\n",
       "      <td>132.250000</td>\n",
       "      <td>133.741500</td>\n",
       "      <td>141.066419</td>\n",
       "      <td>126.416581</td>\n",
       "    </tr>\n",
       "    <tr>\n",
       "      <th>2010-01-07</th>\n",
       "      <td>130.000000</td>\n",
       "      <td>133.536000</td>\n",
       "      <td>141.045671</td>\n",
       "      <td>126.026329</td>\n",
       "    </tr>\n",
       "    <tr>\n",
       "      <th>2010-01-08</th>\n",
       "      <td>133.520004</td>\n",
       "      <td>133.646500</td>\n",
       "      <td>141.082939</td>\n",
       "      <td>126.210062</td>\n",
       "    </tr>\n",
       "  </tbody>\n",
       "</table>\n",
       "</div>"
      ],
      "text/plain": [
       "             Adj Close      center          ub          lb\n",
       "Date                                                      \n",
       "2010-01-04  133.899994  133.984001  141.460445  126.507556\n",
       "2010-01-05  134.690002  133.839500  141.132776  126.546225\n",
       "2010-01-06  132.250000  133.741500  141.066419  126.416581\n",
       "2010-01-07  130.000000  133.536000  141.045671  126.026329\n",
       "2010-01-08  133.520004  133.646500  141.082939  126.210062"
      ]
     },
     "execution_count": 66,
     "metadata": {},
     "output_type": "execute_result"
    }
   ],
   "source": [
    "band_df.head(5)"
   ]
  },
  {
   "cell_type": "markdown",
   "metadata": {},
   "source": [
    "# trade 컬럼 생성\n",
    "    - 매개변수 : 함수에서 생성된 데이터프레임\n",
    "    - trade 컬럼을 생성하여 \"\" 대입\n",
    "    - 밴드를 이용하여 보유 상태 대입\n",
    "    - 결과값 리턴"
   ]
  },
  {
   "cell_type": "code",
   "execution_count": 69,
   "metadata": {},
   "outputs": [],
   "source": [
    "def createTrade(_df) :\n",
    "    df = _df.copy()\n",
    "    df['trade'] = \"\"\n",
    "\n",
    "    # 기준이 되는 컬럼명\n",
    "    col = _df.columns[0]\n",
    "\n",
    "    for i in df.index :\n",
    "        if df.loc[i, col] >= df.loc[i, 'ub'] :\n",
    "            df.loc[i, 'trade'] = \"\"\n",
    "        elif df.loc[i, col] <= df.loc[i, 'lb'] :\n",
    "            df.loc[i, 'trade'] = \"buy\"\n",
    "        else :\n",
    "            df.loc[i, 'trade'] = df.shift().loc[i, 'trade'] # 어제 값과 똑같이 유지\n",
    "    \n",
    "    return df"
   ]
  },
  {
   "cell_type": "code",
   "execution_count": 72,
   "metadata": {},
   "outputs": [
    {
     "data": {
      "text/plain": [
       "trade\n",
       "       1483\n",
       "buy     863\n",
       "Name: count, dtype: int64"
      ]
     },
     "execution_count": 72,
     "metadata": {},
     "output_type": "execute_result"
    }
   ],
   "source": [
    "trade_df = createTrade(band_df)\n",
    "trade_df['trade'].value_counts()"
   ]
  },
  {
   "cell_type": "markdown",
   "metadata": {},
   "source": [
    "# 수익률 계산 함수\n",
    "- 매개변수 : 2번함수의 결과\n",
    "- 수익률 컬럼 생성하여 기본값 1\n",
    "- 수익률 : 구매한 날의 수정 주가 / 판매한 날의 수정 주가\n",
    "- 누적 수익률 컬럼 생성 : 수익률의 누적곱\n",
    "- 데이터프레임과 총 누적 수익률 리턴"
   ]
  },
  {
   "cell_type": "code",
   "execution_count": 81,
   "metadata": {},
   "outputs": [],
   "source": [
    "def createRtn(_df) :\n",
    "    df = _df.copy()\n",
    "    df['rtn'] = 1\n",
    "\n",
    "    col = _df.columns[0]\n",
    "\n",
    "    for i in df.index :\n",
    "        if (df.shift().loc[i, 'trade'] == \"\") & (df.loc[i, 'trade'] == \"buy\") :\n",
    "            buy = df.loc[i, col]\n",
    "            print(f'매수일 : {i}, 매수가 : {buy}')\n",
    "        elif (df.shift().loc[i, 'trade'] == \"buy\") & (df.loc[i, 'trade'] ==\"\") :\n",
    "            sell = df.loc[i, col]\n",
    "            rtn = sell / buy\n",
    "            print(f'매도일 : {i}, 매도가 : {sell}, 수익률 : {rtn}')\n",
    "            df.loc[i, 'rtn'] = rtn\n",
    "    \n",
    "    df['acc_rtn'] = df['rtn'].cumprod()\n",
    "    acc_rtn = df.iloc[-1,]['acc_rtn']\n",
    "\n",
    "    return df, acc_rtn"
   ]
  },
  {
   "cell_type": "code",
   "execution_count": 82,
   "metadata": {},
   "outputs": [
    {
     "name": "stdout",
     "output_type": "stream",
     "text": [
      "매수일 : 2010-05-04 00:00:00, 매수가 : 129.830002\n",
      "매도일 : 2010-08-04 00:00:00, 매도가 : 127.580002, 수익률 : 0.9826696451872502\n",
      "매수일 : 2010-11-16 00:00:00, 매수가 : 157.779999\n",
      "매도일 : 2010-11-24 00:00:00, 매도가 : 177.25, 수익률 : 1.1233996775472155\n",
      "매수일 : 2011-01-21 00:00:00, 매수가 : 177.419998\n",
      "매도일 : 2011-03-30 00:00:00, 매도가 : 179.419998, 수익률 : 1.0112726864082142\n",
      "매수일 : 2011-06-06 00:00:00, 매수가 : 185.690002\n",
      "매도일 : 2011-06-27 00:00:00, 매도가 : 201.25, 수익률 : 1.0837955615941024\n",
      "매수일 : 2011-08-04 00:00:00, 매수가 : 201.479996\n",
      "매도일 : 2011-10-14 00:00:00, 매도가 : 246.710007, 수익률 : 1.2244888420585436\n",
      "매수일 : 2011-10-26 00:00:00, 매수가 : 198.399994\n",
      "매도일 : 2012-01-18 00:00:00, 매도가 : 189.440002, 수익률 : 0.9548387486342363\n",
      "매수일 : 2012-10-10 00:00:00, 매수가 : 244.990005\n",
      "매도일 : 2012-11-29 00:00:00, 매도가 : 251.270004, 수익률 : 1.0256336947297096\n",
      "매수일 : 2013-04-29 00:00:00, 매수가 : 249.740005\n",
      "매도일 : 2013-06-07 00:00:00, 매도가 : 276.869995, 수익률 : 1.1086329360808655\n",
      "매수일 : 2013-08-14 00:00:00, 매수가 : 291.339996\n",
      "매도일 : 2013-09-18 00:00:00, 매도가 : 312.029999, 수익률 : 1.0710166928127507\n",
      "매수일 : 2014-01-24 00:00:00, 매수가 : 387.600006\n",
      "매도일 : 2014-03-05 00:00:00, 매도가 : 372.369995, 수익률 : 0.9607068865731648\n",
      "매수일 : 2014-03-24 00:00:00, 매수가 : 351.850006\n",
      "매도일 : 2014-06-05 00:00:00, 매도가 : 323.570007, 수익률 : 0.9196248443434728\n",
      "매수일 : 2014-09-15 00:00:00, 매수가 : 323.890015\n",
      "매도일 : 2014-11-14 00:00:00, 매도가 : 327.820007, 수익률 : 1.0121337238506718\n",
      "매수일 : 2015-01-15 00:00:00, 매수가 : 286.950012\n",
      "매도일 : 2015-01-30 00:00:00, 매도가 : 354.529999, 수익률 : 1.2355113579852366\n",
      "매수일 : 2015-03-10 00:00:00, 매수가 : 369.51001\n",
      "매도일 : 2015-04-08 00:00:00, 매도가 : 381.200012, 수익률 : 1.031636496126316\n",
      "매수일 : 2015-08-20 00:00:00, 매수가 : 515.780029\n",
      "매도일 : 2015-10-23 00:00:00, 매도가 : 599.030029, 수익률 : 1.1614060167498266\n",
      "매수일 : 2015-12-11 00:00:00, 매수가 : 640.150024\n",
      "매도일 : 2015-12-29 00:00:00, 매도가 : 693.969971, 수익률 : 1.0840739592005388\n",
      "매수일 : 2016-01-04 00:00:00, 매수가 : 636.98999\n",
      "매도일 : 2016-03-29 00:00:00, 매도가 : 593.859985, 수익률 : 0.9322909218714724\n"
     ]
    },
    {
     "name": "stderr",
     "output_type": "stream",
     "text": [
      "/var/folders/lj/ms0l79910fz22cg2hchczhw40000gn/T/ipykernel_5953/303748622.py:15: FutureWarning: Setting an item of incompatible dtype is deprecated and will raise an error in a future version of pandas. Value '0.9826696451872502' has dtype incompatible with int64, please explicitly cast to a compatible dtype first.\n",
      "  df.loc[i, 'rtn'] = rtn\n"
     ]
    },
    {
     "name": "stdout",
     "output_type": "stream",
     "text": [
      "매수일 : 2016-06-24 00:00:00, 매수가 : 698.960022\n",
      "매도일 : 2016-07-06 00:00:00, 매도가 : 737.609985, 수익률 : 1.055296385749513\n",
      "매수일 : 2016-10-28 00:00:00, 매수가 : 776.320007\n",
      "매도일 : 2017-01-06 00:00:00, 매도가 : 795.98999, 수익률 : 1.0253374675683193\n",
      "매수일 : 2017-08-10 00:00:00, 매수가 : 956.919983\n",
      "매도일 : 2017-09-13 00:00:00, 매도가 : 999.599976, 수익률 : 1.0446014230638132\n",
      "매수일 : 2017-09-25 00:00:00, 매수가 : 939.789978\n",
      "매도일 : 2017-10-27 00:00:00, 매도가 : 1100.949951, 수익률 : 1.1714850943005055\n",
      "매수일 : 2018-03-28 00:00:00, 매수가 : 1431.420044\n",
      "매도일 : 2018-06-01 00:00:00, 매도가 : 1641.540039, 수익률 : 1.1467912901462767\n",
      "매수일 : 2018-10-08 00:00:00, 매수가 : 1864.420044\n",
      "매도일 : 2019-03-01 00:00:00, 매도가 : 1671.72998, 수익률 : 0.896648791874928\n",
      "매수일 : 2019-05-13 00:00:00, 매수가 : 1822.680054\n"
     ]
    },
    {
     "data": {
      "text/plain": [
       "(              Adj Close       center           ub           lb trade  rtn  \\\n",
       " Date                                                                        \n",
       " 2010-01-04   133.899994   133.984001   141.460445   126.507556  None  1.0   \n",
       " 2010-01-05   134.690002   133.839500   141.132776   126.546225  None  1.0   \n",
       " 2010-01-06   132.250000   133.741500   141.066419   126.416581  None  1.0   \n",
       " 2010-01-07   130.000000   133.536000   141.045671   126.026329  None  1.0   \n",
       " 2010-01-08   133.520004   133.646500   141.082939   126.210062  None  1.0   \n",
       " ...                 ...          ...          ...          ...   ...  ...   \n",
       " 2019-06-18  1901.369995  1821.456500  1935.384678  1707.528322   buy  1.0   \n",
       " 2019-06-19  1908.790039  1824.020001  1943.535145  1704.504858   buy  1.0   \n",
       " 2019-06-20  1918.189941  1826.945495  1952.830613  1701.060378   buy  1.0   \n",
       " 2019-06-21  1911.300049  1831.736499  1962.964470  1700.508528   buy  1.0   \n",
       " 2019-06-24  1907.953857  1835.970190  1971.444249  1700.496132   buy  1.0   \n",
       " \n",
       "              acc_rtn  \n",
       " Date                  \n",
       " 2010-01-04  1.000000  \n",
       " 2010-01-05  1.000000  \n",
       " 2010-01-06  1.000000  \n",
       " 2010-01-07  1.000000  \n",
       " 2010-01-08  1.000000  \n",
       " ...              ...  \n",
       " 2019-06-18  3.138061  \n",
       " 2019-06-19  3.138061  \n",
       " 2019-06-20  3.138061  \n",
       " 2019-06-21  3.138061  \n",
       " 2019-06-24  3.138061  \n",
       " \n",
       " [2384 rows x 7 columns],\n",
       " 3.138061358619031)"
      ]
     },
     "execution_count": 82,
     "metadata": {},
     "output_type": "execute_result"
    }
   ],
   "source": [
    "createRtn(trade_df)"
   ]
  },
  {
   "cell_type": "code",
   "execution_count": null,
   "metadata": {},
   "outputs": [],
   "source": []
  }
 ],
 "metadata": {
  "kernelspec": {
   "display_name": "Python 3",
   "language": "python",
   "name": "python3"
  },
  "language_info": {
   "codemirror_mode": {
    "name": "ipython",
    "version": 3
   },
   "file_extension": ".py",
   "mimetype": "text/x-python",
   "name": "python",
   "nbconvert_exporter": "python",
   "pygments_lexer": "ipython3",
   "version": "3.11.7"
  }
 },
 "nbformat": 4,
 "nbformat_minor": 2
}
