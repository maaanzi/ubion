{
 "cells": [
  {
   "cell_type": "markdown",
   "metadata": {},
   "source": [
    "# class 상속\n",
    "- 부모클래스의 기능 유지\n",
    "- 자식클래스가 부모 클래스의 기능을 추가하여 사용\n",
    "\n",
    "# 부모 클래스\n",
    "- 유저의 정보를 등록하는 클래스\n",
    "- 유저의 정보 : 이름, 나이, 성별\n",
    "- 클래스 변수 : 등록된 유저 이름의 목록\n",
    "- 함수 : 유저의 정보, 목록을 출력"
   ]
  },
  {
   "cell_type": "code",
   "execution_count": 3,
   "metadata": {},
   "outputs": [],
   "source": [
    "class User :\n",
    "    # 유저의 목록을 담아주는 클래스 변수\n",
    "    user_list = []\n",
    "    \n",
    "    def __init__(self, _name, _age, _gender) :\n",
    "        self.name = _name\n",
    "        self.age = _age\n",
    "        self.gender = _gender\n",
    "\n",
    "        self.user_list.append(_name)\n",
    "\n",
    "    # 유저 정보 출력\n",
    "    def info(self) :\n",
    "        return f\"유저의 이름은 {self.name}이고, 나이는 {self.age}세 입니다. 성별은 {self.gender} 입니다\"\n",
    "    # 유저 목록 출력\n",
    "    def view_list(self) :\n",
    "        return self.user_list"
   ]
  },
  {
   "cell_type": "code",
   "execution_count": 5,
   "metadata": {},
   "outputs": [],
   "source": [
    "# 클래스 생성\n",
    "user1 = User('kim',20,'female')"
   ]
  },
  {
   "cell_type": "code",
   "execution_count": 6,
   "metadata": {},
   "outputs": [
    {
     "data": {
      "text/plain": [
       "'유저의 이름은 kim이고, 나이는 20세 입니다. 성별은 female 입니다'"
      ]
     },
     "execution_count": 6,
     "metadata": {},
     "output_type": "execute_result"
    }
   ],
   "source": [
    "# 클래스 내부 함수 호출\n",
    "user1.info()"
   ]
  },
  {
   "cell_type": "code",
   "execution_count": 7,
   "metadata": {},
   "outputs": [
    {
     "data": {
      "text/plain": [
       "['kim']"
      ]
     },
     "execution_count": 7,
     "metadata": {},
     "output_type": "execute_result"
    }
   ],
   "source": [
    "user1.view_list()"
   ]
  },
  {
   "cell_type": "code",
   "execution_count": 8,
   "metadata": {},
   "outputs": [],
   "source": [
    "user2 = User('park',25,'male')"
   ]
  },
  {
   "cell_type": "code",
   "execution_count": 9,
   "metadata": {},
   "outputs": [
    {
     "data": {
      "text/plain": [
       "'유저의 이름은 park이고, 나이는 25세 입니다. 성별은 male 입니다'"
      ]
     },
     "execution_count": 9,
     "metadata": {},
     "output_type": "execute_result"
    }
   ],
   "source": [
    "user2.info()"
   ]
  },
  {
   "cell_type": "code",
   "execution_count": 10,
   "metadata": {},
   "outputs": [
    {
     "data": {
      "text/plain": [
       "['kim', 'park']"
      ]
     },
     "execution_count": 10,
     "metadata": {},
     "output_type": "execute_result"
    }
   ],
   "source": [
    "user2.view_list()"
   ]
  },
  {
   "cell_type": "markdown",
   "metadata": {},
   "source": [
    "# 자식 클래스\n",
    "- 클래스 : Wallet, User 클래스 상속\n",
    "- 지갑의 잔액 (객체 변수), default = 0\n",
    "- 구매한 물품의 목록 (객체 변수)\n",
    "- work() 함수 생성\n",
    "    - 매개변수 1개\n",
    "    - 일의 종류에 따라 잔액 증가\n",
    "- buy() 함수 생성\n",
    "    - 매개변수 1개\n",
    "    - 구매하는 상품에 따라 잔액 차감\n",
    "    - 현재 잔액보다 구매하려는 물품의 가격이 높을 경우 구매 불가 출력"
   ]
  },
  {
   "cell_type": "code",
   "execution_count": 43,
   "metadata": {},
   "outputs": [],
   "source": [
    "# 자식 클래스\n",
    "class Wallet (User) : # user클래스 상속\n",
    "    def __init__(self, _name, _age, _gender, _balance = 0):\n",
    "        self.balance = _balance # 객체 변수 (독립적)\n",
    "        self.goods = []\n",
    "        super().__init__(_name, _age, _gender) # 부모 호출\n",
    "\n",
    "    def work(self, _type) :\n",
    "        # case1\n",
    "        if _type == '서비스직' :\n",
    "            self.balance += 2500000\n",
    "            result = f\"{_type}의 일 완료. 현재 잔액은 {self.balance}입니다.\"\n",
    "        elif _type == '전문직' :\n",
    "            self.balance += 3000000\n",
    "            result = f\"{_type}의 일 완료. 현재 잔액은 {self.balance}입니다.\"\n",
    "        elif _type == '분석가' :\n",
    "            self.balance += 5000000\n",
    "            result = f\"{_type}의 일 완료. 현재 잔액은 {self.balance}입니다.\"\n",
    "        else :\n",
    "            result = \"등록되지 않은 일의 종류 입니다.\"\n",
    "\n",
    "    def work2(self, _type) :\n",
    "        types = {\n",
    "            '서비스직' : 2500000,\n",
    "            '전문직' : 3000000,\n",
    "            '분석가' : 5000000\n",
    "        }\n",
    "        if _type in types.keys() :\n",
    "            self.balance += types[_type]\n",
    "            result = f\"{_type}의 일 완료. 현재 잔액은 {self.balance}입니다.\"\n",
    "        else :\n",
    "            result = \"등록되지 않은 일의 종류입니다.\"\n",
    "\n",
    "        return result\n"
   ]
  },
  {
   "cell_type": "code",
   "execution_count": 38,
   "metadata": {},
   "outputs": [],
   "source": [
    "wallet1 = Wallet('lee',30,'male')"
   ]
  },
  {
   "cell_type": "code",
   "execution_count": 14,
   "metadata": {},
   "outputs": [
    {
     "name": "stdout",
     "output_type": "stream",
     "text": [
      "lee\n",
      "30\n",
      "male\n",
      "0\n",
      "[]\n",
      "['kim', 'park', 'lee']\n"
     ]
    }
   ],
   "source": [
    "print(wallet1.name)\n",
    "print(wallet1.age)\n",
    "print(wallet1.gender)\n",
    "print(wallet1.balance)\n",
    "print(wallet1.goods)\n",
    "print(wallet1.user_list)"
   ]
  },
  {
   "cell_type": "code",
   "execution_count": 45,
   "metadata": {},
   "outputs": [],
   "source": [
    "wallet2 = Wallet('choi',25,'female')"
   ]
  },
  {
   "cell_type": "code",
   "execution_count": 46,
   "metadata": {},
   "outputs": [
    {
     "data": {
      "text/plain": [
       "'서비스직의 일 완료. 현재 잔액은 2500000입니다.'"
      ]
     },
     "execution_count": 46,
     "metadata": {},
     "output_type": "execute_result"
    }
   ],
   "source": [
    "wallet2.work2('서비스직')"
   ]
  }
 ],
 "metadata": {
  "kernelspec": {
   "display_name": "Python 3",
   "language": "python",
   "name": "python3"
  },
  "language_info": {
   "codemirror_mode": {
    "name": "ipython",
    "version": 3
   },
   "file_extension": ".py",
   "mimetype": "text/x-python",
   "name": "python",
   "nbconvert_exporter": "python",
   "pygments_lexer": "ipython3",
   "version": "3.11.7"
  }
 },
 "nbformat": 4,
 "nbformat_minor": 2
}
