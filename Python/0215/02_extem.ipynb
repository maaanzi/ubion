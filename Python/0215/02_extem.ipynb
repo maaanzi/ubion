{
 "cells": [
  {
   "cell_type": "markdown",
   "metadata": {},
   "source": [
    "# class 상속\n",
    "- 부모클래스의 기능 유지\n",
    "- 자식클래스가 부모 클래스의 기능을 추가하여 사용\n",
    "\n",
    "# 부모 클래스\n",
    "- 유저의 정보를 등록하는 클래스\n",
    "- 유저의 정보 : 이름, 나이, 성별\n",
    "- 클래스 변수 : 등록된 유저 이름의 목록\n",
    "- 함수 : 유저의 정보, 목록을 출력"
   ]
  },
  {
   "cell_type": "code",
   "execution_count": null,
   "metadata": {},
   "outputs": [],
   "source": [
    "class User :\n",
    "    # 유저의 목록을 담아주는 클래스 변수\n",
    "    user_list = []\n",
    "    \n",
    "    def __init__(self, _name, _age, _gender) :\n",
    "        self.name = _name\n",
    "        self.age = _age\n",
    "        self.gender = _gender\n",
    "\n",
    "        self.user_list.append(_name)\n",
    "\n",
    "    # 유저 정보 출력\n",
    "    def info(self) :\n",
    "        return f\"유저의 이름은 {self.name}이고, 나이는 {self.age}세 입니다. 성별은 {self.gender} 입니다\"\n",
    "    # 유저 목록 출력\n",
    "    def view_list(self) :\n",
    "        return self.user_list"
   ]
  }
 ],
 "metadata": {
  "kernelspec": {
   "display_name": "Python 3",
   "language": "python",
   "name": "python3"
  },
  "language_info": {
   "name": "python",
   "version": "3.11.7"
  }
 },
 "nbformat": 4,
 "nbformat_minor": 2
}
