{
 "cells": [
  {
   "cell_type": "markdown",
   "metadata": {},
   "source": [
    "Python에서 제공하는 문자열 내장함수"
   ]
  },
  {
   "cell_type": "code",
   "execution_count": 1,
   "metadata": {},
   "outputs": [
    {
     "name": "stdout",
     "output_type": "stream",
     "text": [
      "5\n",
      "7\n"
     ]
    }
   ],
   "source": [
    "# 문자열 길이 출력\n",
    "a = 'Hello'\n",
    "b = ' Hello '\n",
    "print(len(a))\n",
    "print(len(b))"
   ]
  },
  {
   "cell_type": "markdown",
   "metadata": {},
   "source": []
  },
  {
   "cell_type": "code",
   "execution_count": 3,
   "metadata": {},
   "outputs": [
    {
     "name": "stdout",
     "output_type": "stream",
     "text": [
      "HELLO WORLD\n",
      "hello world\n",
      "hELLO WORLD\n",
      "Hello World\n"
     ]
    }
   ],
   "source": [
    "# 문자 형태 변환, 대소문자\n",
    "a = 'Hello world'\n",
    "\n",
    "print(a.upper()) # 대문자\n",
    "print(a.lower()) # 소문자\n",
    "print(a.swapcase()) # 반대로\n",
    "print(a.title()) # 첫글자만(공백인정)"
   ]
  },
  {
   "cell_type": "code",
   "execution_count": 4,
   "metadata": {},
   "outputs": [
    {
     "name": "stdout",
     "output_type": "stream",
     "text": [
      "None\n"
     ]
    }
   ],
   "source": [
    "_list = [4,3,2,6]\n",
    "print(_list.sort()) # 왜??????????"
   ]
  },
  {
   "cell_type": "code",
   "execution_count": 5,
   "metadata": {},
   "outputs": [
    {
     "name": "stdout",
     "output_type": "stream",
     "text": [
      "HELLO WORLD\n"
     ]
    }
   ],
   "source": [
    "a = a.upper()\n",
    "print(a)"
   ]
  },
  {
   "cell_type": "code",
   "execution_count": 8,
   "metadata": {},
   "outputs": [
    {
     "data": {
      "text/plain": [
       "'Hello World'"
      ]
     },
     "execution_count": 8,
     "metadata": {},
     "output_type": "execute_result"
    }
   ],
   "source": [
    "# 문자열 앞뒤 공백 제거\n",
    "test_text = '       Hello World         '\n",
    "test_text.strip() # 좌 : lstrip, 우 : rstrip"
   ]
  },
  {
   "cell_type": "code",
   "execution_count": 14,
   "metadata": {},
   "outputs": [
    {
     "data": {
      "text/plain": [
       "100"
      ]
     },
     "execution_count": 14,
     "metadata": {},
     "output_type": "execute_result"
    }
   ],
   "source": [
    "test = '$100'\n",
    "int(test.lstrip('$')) # $지우고 정수형으로 바꾸겠다"
   ]
  },
  {
   "cell_type": "code",
   "execution_count": 19,
   "metadata": {},
   "outputs": [
    {
     "data": {
      "text/plain": [
       "False"
      ]
     },
     "execution_count": 19,
     "metadata": {},
     "output_type": "execute_result"
    }
   ],
   "source": [
    "a = 'Hello world'\n",
    "b = '   Hello WORLD   '\n",
    "\n",
    "a == b"
   ]
  },
  {
   "cell_type": "code",
   "execution_count": 23,
   "metadata": {},
   "outputs": [
    {
     "data": {
      "text/plain": [
       "True"
      ]
     },
     "execution_count": 23,
     "metadata": {},
     "output_type": "execute_result"
    }
   ],
   "source": [
    "b = b.strip()\n",
    "a = a.upper()\n",
    "b = b.upper()\n",
    "\n",
    "a == b"
   ]
  },
  {
   "cell_type": "code",
   "execution_count": 24,
   "metadata": {},
   "outputs": [
    {
     "data": {
      "text/plain": [
       "'HI WORLD'"
      ]
     },
     "execution_count": 24,
     "metadata": {},
     "output_type": "execute_result"
    }
   ],
   "source": [
    "# replace((특정문자), {치환할 문자})\n",
    "a.replace('HELLO', 'HI')"
   ]
  },
  {
   "cell_type": "code",
   "execution_count": 32,
   "metadata": {},
   "outputs": [
    {
     "name": "stdout",
     "output_type": "stream",
     "text": [
      "상품A\n",
      "상품A\n"
     ]
    },
    {
     "data": {
      "text/plain": [
       "True"
      ]
     },
     "execution_count": 32,
     "metadata": {},
     "output_type": "execute_result"
    }
   ],
   "source": [
    "a = '상 품 A'\n",
    "b = '상품a'\n",
    "\n",
    "a = a.replace(' ','')\n",
    "b = b.upper()\n",
    "\n",
    "print(a)\n",
    "print(b)\n",
    "\n",
    "a == b"
   ]
  },
  {
   "cell_type": "code",
   "execution_count": 34,
   "metadata": {},
   "outputs": [
    {
     "name": "stdout",
     "output_type": "stream",
     "text": [
      "a b c d\n",
      "['a', 'b', 'c', 'd']\n"
     ]
    }
   ],
   "source": [
    "# split() : 기본값 - 공백\n",
    "a = 'a b c d'\n",
    "print(a)\n",
    "print(a.split())\n"
   ]
  },
  {
   "cell_type": "code",
   "execution_count": 35,
   "metadata": {},
   "outputs": [
    {
     "name": "stdout",
     "output_type": "stream",
     "text": [
      "['1', '2', '3', '4', '5', '6']\n"
     ]
    }
   ],
   "source": [
    "b = '1/2/3/4/5/6'\n",
    "print(b.split('/'))"
   ]
  },
  {
   "cell_type": "code",
   "execution_count": 44,
   "metadata": {},
   "outputs": [],
   "source": [
    "sql_data = \"\"\"\n",
    "select * from user\n",
    "\"\"\"\n",
    "sql_data2 = \"\"\"\n",
    "insert into user values('test','1234')\n",
    "\"\"\""
   ]
  },
  {
   "cell_type": "code",
   "execution_count": 47,
   "metadata": {},
   "outputs": [
    {
     "data": {
      "text/plain": [
       "True"
      ]
     },
     "execution_count": 47,
     "metadata": {},
     "output_type": "execute_result"
    }
   ],
   "source": [
    "sql_data.split()[0] == 'select'\n",
    "        \n",
    "    "
   ]
  },
  {
   "cell_type": "code",
   "execution_count": 48,
   "metadata": {},
   "outputs": [
    {
     "data": {
      "text/plain": [
       "True"
      ]
     },
     "execution_count": 48,
     "metadata": {},
     "output_type": "execute_result"
    }
   ],
   "source": [
    "sql_data3 = \"\"\"\n",
    "SELECT * FROM USER\n",
    "\"\"\"\n",
    "sql_data3.lower().split()[0] == 'select'"
   ]
  },
  {
   "cell_type": "code",
   "execution_count": 49,
   "metadata": {},
   "outputs": [
    {
     "data": {
      "text/plain": [
       "True"
      ]
     },
     "execution_count": 49,
     "metadata": {},
     "output_type": "execute_result"
    }
   ],
   "source": [
    "sql_data3.lower().strip().startswith('select') # startswith : ~로 시작하는가"
   ]
  },
  {
   "cell_type": "markdown",
   "metadata": {},
   "source": [
    "# 일반함수\n",
    "- 어떠한 입력값을 가지고 작업을 실행해 결과물을 리턴해주는 기능"
   ]
  },
  {
   "cell_type": "code",
   "execution_count": 50,
   "metadata": {},
   "outputs": [],
   "source": [
    "def func1(a, b) :\n",
    "    result = a + b\n",
    "    return result\n",
    "\n",
    "def func2(a, b) :\n",
    "    result = a + b\n",
    "    print(result)"
   ]
  },
  {
   "cell_type": "code",
   "execution_count": 53,
   "metadata": {},
   "outputs": [],
   "source": [
    "test = func1(3, 6)\n"
   ]
  },
  {
   "cell_type": "code",
   "execution_count": 54,
   "metadata": {},
   "outputs": [
    {
     "name": "stdout",
     "output_type": "stream",
     "text": [
      "9\n"
     ]
    }
   ],
   "source": [
    "test2 = func2(3, 6)"
   ]
  },
  {
   "cell_type": "code",
   "execution_count": 55,
   "metadata": {},
   "outputs": [
    {
     "name": "stdout",
     "output_type": "stream",
     "text": [
      "9\n",
      "None\n"
     ]
    }
   ],
   "source": [
    "print(test)\n",
    "print(test2) # 리턴이 없음!!!!!"
   ]
  },
  {
   "cell_type": "code",
   "execution_count": 60,
   "metadata": {},
   "outputs": [
    {
     "name": "stdout",
     "output_type": "stream",
     "text": [
      "<class 'tuple'>\n",
      "(1, 2, 3, 4)\n",
      "4\n",
      "<class 'tuple'>\n",
      "(6, 10, 'tet')\n",
      "3\n"
     ]
    }
   ],
   "source": [
    "# 인자의 개수가 가변인 경우\n",
    "def func3(*args) :\n",
    "    print(type(args)) # tuple\n",
    "    print(args)\n",
    "    print(len(args))\n",
    "\n",
    "func3(1,2,3,4)\n",
    "func3(6,10,'tet')"
   ]
  },
  {
   "cell_type": "code",
   "execution_count": 63,
   "metadata": {},
   "outputs": [
    {
     "data": {
      "text/plain": [
       "2"
      ]
     },
     "execution_count": 63,
     "metadata": {},
     "output_type": "execute_result"
    }
   ],
   "source": [
    "# 매개변수 2개\n",
    "# 두개의 변수 중 작은 값을 출력\n",
    "def func4(a, b) :\n",
    "    if(a < b):\n",
    "        return a\n",
    "    else : return b\n",
    "\n",
    "func4(10,2)"
   ]
  },
  {
   "cell_type": "code",
   "execution_count": 64,
   "metadata": {},
   "outputs": [
    {
     "data": {
      "text/plain": [
       "2"
      ]
     },
     "execution_count": 64,
     "metadata": {},
     "output_type": "execute_result"
    }
   ],
   "source": [
    "min(3,6,10,2,9)"
   ]
  },
  {
   "cell_type": "code",
   "execution_count": 93,
   "metadata": {},
   "outputs": [
    {
     "data": {
      "text/plain": [
       "2"
      ]
     },
     "execution_count": 93,
     "metadata": {},
     "output_type": "execute_result"
    }
   ],
   "source": [
    "def minn(*args) :\n",
    "    result = args[0]\n",
    "    # case1\n",
    "    # for i in range(1,len(args),1) :\n",
    "    #     if result > args[i] :\n",
    "    #         result = args[i]\n",
    "    # return result\n",
    "    \n",
    "    # case2\n",
    "    for i in args[1:] :\n",
    "        if result > i :\n",
    "            result = i\n",
    "    return result\n",
    "\n",
    "\n",
    "minn(2,3,4)"
   ]
  },
  {
   "cell_type": "code",
   "execution_count": 99,
   "metadata": {},
   "outputs": [
    {
     "data": {
      "text/plain": [
       "6.0"
      ]
     },
     "execution_count": 99,
     "metadata": {},
     "output_type": "execute_result"
    }
   ],
   "source": [
    "# 평균 값\n",
    "def avg(*args) :\n",
    "    total = 0\n",
    "    cnt = 0\n",
    "    for i in args :\n",
    "        total += i\n",
    "        cnt += 1\n",
    "    total /= cnt\n",
    "    return total\n",
    "\n",
    "avg(3,6,9)"
   ]
  },
  {
   "cell_type": "code",
   "execution_count": 105,
   "metadata": {},
   "outputs": [
    {
     "name": "stdout",
     "output_type": "stream",
     "text": [
      "1\n",
      "3.0\n"
     ]
    }
   ],
   "source": [
    "# 첫번째 매개변수는 최솟값, 평균을 선택하는 변수\n",
    "# 두번째 매개변수는 인자개수 가변\n",
    "def func7(flag, *args):\n",
    "    if (flag == 'min'):\n",
    "        result = args[0]\n",
    "        for i in args[1:] :\n",
    "            if result > i :\n",
    "                result = i\n",
    "\n",
    "    elif flag == 'avg' :\n",
    "        result = 0\n",
    "        cnt = 0\n",
    "        for i in args :\n",
    "            result += i\n",
    "            cnt += 1\n",
    "        result /= cnt\n",
    "\n",
    "    return result\n",
    "\n",
    "print(func7('min', 1,4,5))\n",
    "print(func7('avg', 1,2,3,4,5))\n"
   ]
  }
 ],
 "metadata": {
  "kernelspec": {
   "display_name": "Python 3",
   "language": "python",
   "name": "python3"
  },
  "language_info": {
   "codemirror_mode": {
    "name": "ipython",
    "version": 3
   },
   "file_extension": ".py",
   "mimetype": "text/x-python",
   "name": "python",
   "nbconvert_exporter": "python",
   "pygments_lexer": "ipython3",
   "version": "3.11.7"
  }
 },
 "nbformat": 4,
 "nbformat_minor": 2
}
