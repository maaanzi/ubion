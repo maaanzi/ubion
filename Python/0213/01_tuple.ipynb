{
 "cells": [
  {
   "cell_type": "markdown",
   "metadata": {},
   "source": [
    "# 자료형 구조 데이터\n",
    "1. ( tuple )\n",
    "- 자료형 데이터에서 가장 기본적인 데이터의 형태\n",
    "- 각 원소들 수정, 추가, 삭제 불가능\n",
    "\n",
    "2. [ ㅣist ]\n",
    "- 수정, 추가, 삭제 가능\n",
    "- 원소 0개부터 리스트 생성 가능\n",
    "\n",
    "3. { dict }\n",
    "- 사전형 데이터의 구조\n",
    "- key : value 형태"
   ]
  },
  {
   "cell_type": "code",
   "execution_count": 2,
   "metadata": {},
   "outputs": [
    {
     "name": "stdout",
     "output_type": "stream",
     "text": [
      "(1, 'Hello')\n",
      "<class 'tuple'>\n",
      "(3, 3.24)\n",
      "<class 'tuple'>\n"
     ]
    }
   ],
   "source": [
    "# 튜플 데이터\n",
    "a = (1, 'Hello')\n",
    "b = (3, 3.24)\n",
    "print(a)\n",
    "print(type(a))\n",
    "print(b)\n",
    "print(type(b))"
   ]
  },
  {
   "cell_type": "code",
   "execution_count": 4,
   "metadata": {},
   "outputs": [
    {
     "name": "stdout",
     "output_type": "stream",
     "text": [
      "(1, 'Hello', 3, 3.24)\n"
     ]
    }
   ],
   "source": [
    "# tuple 합\n",
    "c = a + b\n",
    "print(c)"
   ]
  },
  {
   "cell_type": "code",
   "execution_count": 6,
   "metadata": {},
   "outputs": [
    {
     "name": "stdout",
     "output_type": "stream",
     "text": [
      "(1, 'Hello', 1, 'Hello', 1, 'Hello')\n"
     ]
    }
   ],
   "source": [
    "d = a * 3\n",
    "print(d)"
   ]
  },
  {
   "cell_type": "code",
   "execution_count": 7,
   "metadata": {},
   "outputs": [
    {
     "name": "stdout",
     "output_type": "stream",
     "text": [
      "1\n",
      "3.24\n"
     ]
    }
   ],
   "source": [
    "print(a[0])\n",
    "print(b[1])"
   ]
  },
  {
   "cell_type": "code",
   "execution_count": 9,
   "metadata": {},
   "outputs": [
    {
     "name": "stdout",
     "output_type": "stream",
     "text": [
      "<class 'list'>\n",
      "<class 'list'>\n"
     ]
    }
   ],
   "source": [
    "# list \n",
    "a = [10,20,40,30]\n",
    "b = [20,10,30,40]\n",
    "\n",
    "print(type(a))\n",
    "print(type(b))"
   ]
  },
  {
   "cell_type": "code",
   "execution_count": 12,
   "metadata": {},
   "outputs": [
    {
     "name": "stdout",
     "output_type": "stream",
     "text": [
      "[10, 20, 30, 40]\n",
      "[40, 30, 10, 20]\n"
     ]
    }
   ],
   "source": [
    "# 리스크 순서 변경\n",
    "# 오름차순\n",
    "a.sort()\n",
    "print(a)\n",
    "\n",
    "# 역순\n",
    "b.reverse()\n",
    "print(b)\n"
   ]
  },
  {
   "cell_type": "code",
   "execution_count": 13,
   "metadata": {},
   "outputs": [
    {
     "name": "stdout",
     "output_type": "stream",
     "text": [
      "[8, 6, 4, 3, 2, 1]\n"
     ]
    }
   ],
   "source": [
    "c = [3,6,8,4,2,1]\n",
    "\n",
    "# 내림차순\n",
    "c.sort()\n",
    "c.reverse()\n",
    "print(c)"
   ]
  },
  {
   "cell_type": "code",
   "execution_count": 15,
   "metadata": {},
   "outputs": [
    {
     "name": "stdout",
     "output_type": "stream",
     "text": [
      "[8, 6, 4, 3, 2, 1]\n"
     ]
    }
   ],
   "source": [
    "c = [3,6,8,4,2,1]\n",
    "\n",
    "c.sort(reverse=True) # sort 안에 reverse가 존재\n",
    "print(c)"
   ]
  },
  {
   "cell_type": "code",
   "execution_count": 16,
   "metadata": {},
   "outputs": [
    {
     "name": "stdout",
     "output_type": "stream",
     "text": [
      "[10, 20, 30]\n"
     ]
    }
   ],
   "source": [
    "# 리스트의 마지막 원소 제거\n",
    "# pop()\n",
    "a.pop()\n",
    "print(a)"
   ]
  },
  {
   "cell_type": "code",
   "execution_count": 19,
   "metadata": {},
   "outputs": [
    {
     "name": "stdout",
     "output_type": "stream",
     "text": [
      "[40, 30, 10, 20, 22]\n"
     ]
    }
   ],
   "source": [
    "# 리스트의 마지막 원소 추가\n",
    "# append()\n",
    "b.append(22)\n",
    "print(b)"
   ]
  },
  {
   "cell_type": "code",
   "execution_count": 27,
   "metadata": {},
   "outputs": [
    {
     "name": "stdout",
     "output_type": "stream",
     "text": [
      "[10, 20, 30, 50, 70]\n"
     ]
    }
   ],
   "source": [
    "# 반복문을 이용해 리스트의 중복데이터 제거\n",
    "_list = [10,20,30,10,20,50,70]\n",
    "result = []\n",
    "for i in _list:\n",
    "    # print(i)\n",
    "    # result에 i가 존재하는가?\n",
    "    # 존재하지 않는다면(count(i)의 값이 0인 경우) result에 i 추가\n",
    "    # 존재한다면 아무 행동도 하지 않는다\n",
    "    if result.count(i) == 0 : # result안에 i가 몇개인지 (위치값이 아님!!!!!)\n",
    "        result.append(i)\n",
    "print(result)"
   ]
  },
  {
   "cell_type": "code",
   "execution_count": 25,
   "metadata": {},
   "outputs": [
    {
     "name": "stdout",
     "output_type": "stream",
     "text": [
      "0\n"
     ]
    }
   ],
   "source": [
    "# index()\n",
    "# print(_list.index(22)) # 찾지 못함(오류)\n",
    "\n",
    "# count()\n",
    "print(_list.count(22))"
   ]
  },
  {
   "cell_type": "code",
   "execution_count": 29,
   "metadata": {},
   "outputs": [
    {
     "name": "stdout",
     "output_type": "stream",
     "text": [
      "{'name': 'test', 'age': 20, 'phone': '01012345678'}\n"
     ]
    }
   ],
   "source": [
    "# dict\n",
    "_dict = {\n",
    "    'name' : 'test',\n",
    "    'age' : 20,\n",
    "    'phone' : '01012345678'\n",
    "}\n",
    "print(_dict)"
   ]
  },
  {
   "cell_type": "code",
   "execution_count": 31,
   "metadata": {},
   "outputs": [],
   "source": [
    "# 새로운 key : value 추가\n",
    "_dict['loc'] = 'seoul'"
   ]
  },
  {
   "cell_type": "code",
   "execution_count": 32,
   "metadata": {},
   "outputs": [
    {
     "name": "stdout",
     "output_type": "stream",
     "text": [
      "{'name': 'test', 'age': 20, 'phone': '01012345678', 'loc': 'seoul'}\n"
     ]
    }
   ],
   "source": [
    "print(_dict)"
   ]
  },
  {
   "cell_type": "code",
   "execution_count": 34,
   "metadata": {},
   "outputs": [
    {
     "name": "stdout",
     "output_type": "stream",
     "text": [
      "{'name': 'Kim', 'age': 20, 'phone': '01012345678', 'loc': 'seoul'}\n"
     ]
    }
   ],
   "source": [
    "# 기존 값 변경\n",
    "_dict['name'] = 'Kim'\n",
    "print(_dict)"
   ]
  },
  {
   "cell_type": "code",
   "execution_count": 37,
   "metadata": {},
   "outputs": [
    {
     "name": "stdout",
     "output_type": "stream",
     "text": [
      "[10, 50, 30, 10, 20, 50, 70]\n"
     ]
    }
   ],
   "source": [
    "_list[1] = 50\n",
    "print(_list)"
   ]
  },
  {
   "cell_type": "code",
   "execution_count": 40,
   "metadata": {},
   "outputs": [
    {
     "name": "stdout",
     "output_type": "stream",
     "text": [
      "Kim\n",
      "20\n",
      "01012345678\n",
      "seoul\n"
     ]
    }
   ],
   "source": [
    "for i in _dict:\n",
    "    # print(i) # key값만 출력\n",
    "    print(_dict[i]) # value"
   ]
  },
  {
   "cell_type": "code",
   "execution_count": 44,
   "metadata": {},
   "outputs": [
    {
     "data": {
      "text/plain": [
       "dict_keys(['name', 'age', 'phone', 'loc'])"
      ]
     },
     "execution_count": 44,
     "metadata": {},
     "output_type": "execute_result"
    }
   ],
   "source": [
    "_dict.keys()\n"
   ]
  },
  {
   "cell_type": "code",
   "execution_count": 43,
   "metadata": {},
   "outputs": [
    {
     "data": {
      "text/plain": [
       "dict_values(['Kim', 20, '01012345678', 'seoul'])"
      ]
     },
     "execution_count": 43,
     "metadata": {},
     "output_type": "execute_result"
    }
   ],
   "source": [
    "_dict.values()"
   ]
  },
  {
   "cell_type": "code",
   "execution_count": 45,
   "metadata": {},
   "outputs": [
    {
     "name": "stdout",
     "output_type": "stream",
     "text": [
      "Kim\n",
      "20\n",
      "01012345678\n",
      "seoul\n"
     ]
    }
   ],
   "source": [
    "for i in _dict.values() :\n",
    "    print(i)"
   ]
  },
  {
   "cell_type": "code",
   "execution_count": 46,
   "metadata": {},
   "outputs": [],
   "source": [
    "# openapi, DB\n",
    "test_data = [\n",
    "    {\n",
    "        'name' : 'test',\n",
    "        'age' : 20\n",
    "    },\n",
    "    {\n",
    "        'name' : 'test2',\n",
    "        'age' : 30\n",
    "    },\n",
    "    {\n",
    "        'name' : 'test3',\n",
    "        'age' : 40\n",
    "    }\n",
    "]"
   ]
  },
  {
   "cell_type": "code",
   "execution_count": 49,
   "metadata": {},
   "outputs": [
    {
     "name": "stdout",
     "output_type": "stream",
     "text": [
      "[{'name': 'test', 'age': 20}, {'name': 'test2', 'age': 30}, {'name': 'test3', 'age': 40}]\n",
      "{'name': 'test', 'age': 20}\n",
      "test\n"
     ]
    }
   ],
   "source": [
    "# test_data에서 'test'라는 문자열 출력\n",
    "print(test_data)\n",
    "print(test_data[0])\n",
    "print(test_data[0]['name'])"
   ]
  },
  {
   "cell_type": "code",
   "execution_count": 69,
   "metadata": {},
   "outputs": [
    {
     "name": "stdout",
     "output_type": "stream",
     "text": [
      "['test', 'test2', 'test3']\n"
     ]
    }
   ],
   "source": [
    "# test_data에서 'name'의 value만 출력\n",
    "result = []\n",
    "result.append(test_data[0]['name'])\n",
    "result.append(test_data[1]['name'])\n",
    "result.append(test_data[2]['name'])\n",
    "\n",
    "print(result)\n"
   ]
  },
  {
   "cell_type": "code",
   "execution_count": 73,
   "metadata": {},
   "outputs": [
    {
     "name": "stdout",
     "output_type": "stream",
     "text": [
      "['test', 'test2', 'test3']\n"
     ]
    }
   ],
   "source": [
    "# 리스트의 길이 이용\n",
    "result = []\n",
    "for i in range(0, len(test_data),1) :\n",
    "    result.append(test_data[i]['name'])\n",
    "print(result)\n"
   ]
  },
  {
   "cell_type": "code",
   "execution_count": 76,
   "metadata": {},
   "outputs": [
    {
     "name": "stdout",
     "output_type": "stream",
     "text": [
      "['test', 'test2', 'test3']\n"
     ]
    }
   ],
   "source": [
    "result = []\n",
    "for i in test_data :\n",
    "    # print(i['name'])\n",
    "    result.append(i['name'])\n",
    "print(result)"
   ]
  },
  {
   "cell_type": "code",
   "execution_count": 90,
   "metadata": {},
   "outputs": [
    {
     "name": "stdout",
     "output_type": "stream",
     "text": [
      "['test', 'test2', 'test3']\n"
     ]
    }
   ],
   "source": [
    "result = []\n",
    "i = 0\n",
    "while(i < len(test_data)) :\n",
    "    result.append(test_data[i]['name'])\n",
    "    i += 1\n",
    "print(result)"
   ]
  },
  {
   "cell_type": "code",
   "execution_count": 92,
   "metadata": {},
   "outputs": [
    {
     "name": "stdout",
     "output_type": "stream",
     "text": [
      "['test', 'test2', 'test3']\n"
     ]
    }
   ],
   "source": [
    "# try ... except 구문 (예외처리)\n",
    "result = []\n",
    "i = 0\n",
    "while True :\n",
    "    try :\n",
    "        result.append(test_data[i]['name'])\n",
    "    except :\n",
    "        break\n",
    "    i += 1\n",
    "print(result)"
   ]
  }
 ],
 "metadata": {
  "kernelspec": {
   "display_name": "Python 3",
   "language": "python",
   "name": "python3"
  },
  "language_info": {
   "codemirror_mode": {
    "name": "ipython",
    "version": 3
   },
   "file_extension": ".py",
   "mimetype": "text/x-python",
   "name": "python",
   "nbconvert_exporter": "python",
   "pygments_lexer": "ipython3",
   "version": "3.11.7"
  }
 },
 "nbformat": 4,
 "nbformat_minor": 2
}
