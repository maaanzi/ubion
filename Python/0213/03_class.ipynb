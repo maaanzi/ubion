{
 "cells": [
  {
   "cell_type": "markdown",
   "metadata": {},
   "source": [
    "# class 선언\n",
    "- 첫문자 대문자로 표기\n",
    "\n",
    "# class 생성\n",
    "- 변수에 저장하는 과정\n",
    "\n",
    "# class의 변수와 함수 호출\n",
    "- class가 저장된 변수안에 변수, 함수 호출"
   ]
  },
  {
   "cell_type": "code",
   "execution_count": 1,
   "metadata": {},
   "outputs": [],
   "source": [
    "# class 선언\n",
    "class Test :\n",
    "    def __init__(self, _a, _b) : # 생성자 함수 : 클래스가 생성될 때 실행\n",
    "        self.a = _a # 객체 변수 (self 변수) 생성\n",
    "        self.b = _b"
   ]
  },
  {
   "cell_type": "code",
   "execution_count": 2,
   "metadata": {},
   "outputs": [],
   "source": [
    "# class 생성\n",
    "class1 = Test(10,20)"
   ]
  },
  {
   "cell_type": "code",
   "execution_count": 4,
   "metadata": {},
   "outputs": [
    {
     "name": "stdout",
     "output_type": "stream",
     "text": [
      "10\n",
      "20\n"
     ]
    }
   ],
   "source": [
    "# 클래스 안에 있는 함수 호출\n",
    "print(class1.a)\n",
    "print(class1.b)"
   ]
  },
  {
   "cell_type": "code",
   "execution_count": 5,
   "metadata": {},
   "outputs": [],
   "source": [
    "class2 = Test(30,40)"
   ]
  },
  {
   "cell_type": "code",
   "execution_count": 6,
   "metadata": {},
   "outputs": [
    {
     "name": "stdout",
     "output_type": "stream",
     "text": [
      "30\n",
      "40\n"
     ]
    }
   ],
   "source": [
    "print(class2.a)\n",
    "print(class2.b)"
   ]
  },
  {
   "cell_type": "code",
   "execution_count": 8,
   "metadata": {},
   "outputs": [],
   "source": [
    "# class 선언 : 변수 + 함수\n",
    "class Test2 :\n",
    "    def __init__ (self, _a, _b) :\n",
    "        self.a = _a\n",
    "        self.b = _b\n",
    "\n",
    "    def add(self) :\n",
    "        result = self.a + self.b\n",
    "        return result"
   ]
  },
  {
   "cell_type": "code",
   "execution_count": 9,
   "metadata": {},
   "outputs": [],
   "source": [
    "class1 = Test2(10,20)\n",
    "class2 = Test2(30,40)"
   ]
  },
  {
   "cell_type": "code",
   "execution_count": 11,
   "metadata": {},
   "outputs": [
    {
     "name": "stdout",
     "output_type": "stream",
     "text": [
      "30\n",
      "70\n"
     ]
    }
   ],
   "source": [
    "print(class1.add())\n",
    "print(class2.add())"
   ]
  },
  {
   "cell_type": "code",
   "execution_count": 19,
   "metadata": {},
   "outputs": [],
   "source": [
    "class Test3 :\n",
    "    def __init__(self, _a, _b):\n",
    "        self.a = _a\n",
    "        self.b = _b\n",
    "        self.res = 0\n",
    "\n",
    "    def __repr__(self) : # 생성된 클래스를 호출할 때 실행\n",
    "        return str(self.res)\n",
    "    \n",
    "    def add(self) :\n",
    "        result = self.a + self.b\n",
    "        return result\n",
    "    \n",
    "    def sub(self) :\n",
    "        result = self.a - self.b\n",
    "        self.res = result"
   ]
  },
  {
   "cell_type": "code",
   "execution_count": 21,
   "metadata": {},
   "outputs": [],
   "source": [
    "class3 = Test3(10,20)\n",
    "class4 = Test3(30,40)"
   ]
  },
  {
   "cell_type": "code",
   "execution_count": 22,
   "metadata": {},
   "outputs": [
    {
     "name": "stdout",
     "output_type": "stream",
     "text": [
      "<__main__.Test2 object at 0x106ccc9d0>\n",
      "0\n"
     ]
    }
   ],
   "source": [
    "print(class2) # <__main__.Test2 object at 0x106ccc9d0>\n",
    "print(class3) # 0"
   ]
  },
  {
   "cell_type": "code",
   "execution_count": 24,
   "metadata": {},
   "outputs": [
    {
     "name": "stdout",
     "output_type": "stream",
     "text": [
      "30\n",
      "70\n"
     ]
    }
   ],
   "source": [
    "print(class3.add())\n",
    "print(class4.add())\n"
   ]
  },
  {
   "cell_type": "code",
   "execution_count": 26,
   "metadata": {},
   "outputs": [
    {
     "name": "stdout",
     "output_type": "stream",
     "text": [
      "None\n",
      "-10\n"
     ]
    }
   ],
   "source": [
    "print(class3.sub()) # None (리턴 값 없음)\n",
    "print(class3) # 리턴은 안되었지만 저장되어 있어서?"
   ]
  },
  {
   "cell_type": "code",
   "execution_count": 27,
   "metadata": {},
   "outputs": [],
   "source": [
    "# 클래스 변수가 포함되어 있는 클래스 선언\n",
    "# 클래스 변수 : 같은 클래스가 생성될 때 서로 공유하는 변수\n",
    "# 객체 변수 : 클래스마다 독립적인 데이터를 가지는 변수\n",
    "class Test4:\n",
    "    user_list = [] # 클래스 변수 (공유)\n",
    "    def __init__ (self, _id, _name) :\n",
    "        self.id = _id\n",
    "        self.name = _name\n",
    "        self.user_list.append(_id)\n",
    "\n",
    "    "
   ]
  },
  {
   "cell_type": "code",
   "execution_count": 28,
   "metadata": {},
   "outputs": [],
   "source": [
    "user_1 = Test4('test','Kim')"
   ]
  },
  {
   "cell_type": "code",
   "execution_count": 29,
   "metadata": {},
   "outputs": [
    {
     "name": "stdout",
     "output_type": "stream",
     "text": [
      "test\n",
      "Kim\n",
      "['test']\n"
     ]
    }
   ],
   "source": [
    "print(user_1.id)\n",
    "print(user_1.name)\n",
    "print(user_1.user_list)"
   ]
  },
  {
   "cell_type": "code",
   "execution_count": 30,
   "metadata": {},
   "outputs": [],
   "source": [
    "user_2 = Test4('test2','Park')\n"
   ]
  },
  {
   "cell_type": "code",
   "execution_count": 32,
   "metadata": {},
   "outputs": [
    {
     "name": "stdout",
     "output_type": "stream",
     "text": [
      "test2\n",
      "Park\n",
      "['test', 'test2']\n",
      "['test', 'test2']\n"
     ]
    }
   ],
   "source": [
    "print(user_2.id)\n",
    "print(user_2.name)\n",
    "print(user_2.user_list)\n",
    "\n",
    "print(user_1.user_list)"
   ]
  }
 ],
 "metadata": {
  "kernelspec": {
   "display_name": "Python 3",
   "language": "python",
   "name": "python3"
  },
  "language_info": {
   "codemirror_mode": {
    "name": "ipython",
    "version": 3
   },
   "file_extension": ".py",
   "mimetype": "text/x-python",
   "name": "python",
   "nbconvert_exporter": "python",
   "pygments_lexer": "ipython3",
   "version": "3.11.7"
  }
 },
 "nbformat": 4,
 "nbformat_minor": 2
}
