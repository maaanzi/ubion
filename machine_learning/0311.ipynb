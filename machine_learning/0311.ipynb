{
 "cells": [
  {
   "cell_type": "code",
   "execution_count": 8,
   "id": "ce60155d",
   "metadata": {},
   "outputs": [
    {
     "name": "stderr",
     "output_type": "stream",
     "text": [
      "/Library/Frameworks/Python.framework/Versions/3.6/lib/python3.6/importlib/_bootstrap.py:219: RuntimeWarning: numpy.ufunc size changed, may indicate binary incompatibility. Expected 192 from C header, got 216 from PyObject\n",
      "  return f(*args, **kwds)\n"
     ]
    },
    {
     "data": {
      "text/plain": [
       "array([ 0.,  0.,  5., 13.,  9.,  1.,  0.,  0.,  0.,  0., 13., 15., 10.,\n",
       "       15.,  5.,  0.,  0.,  3., 15.,  2.,  0., 11.,  8.,  0.,  0.,  4.,\n",
       "       12.,  0.,  0.,  8.,  8.,  0.,  0.,  5.,  8.,  0.,  0.,  9.,  8.,\n",
       "        0.,  0.,  4., 11.,  0.,  1., 12.,  7.,  0.,  0.,  2., 14.,  5.,\n",
       "       10., 12.,  0.,  0.,  0.,  0.,  6., 13., 10.,  0.,  0.,  0.])"
      ]
     },
     "execution_count": 8,
     "metadata": {},
     "output_type": "execute_result"
    }
   ],
   "source": [
    "# confusion metrix\n",
    "\n",
    "from sklearn.datasets import load_digits\n",
    "load_digits()['data'][0]"
   ]
  },
  {
   "cell_type": "code",
   "execution_count": 9,
   "id": "c2de4607",
   "metadata": {},
   "outputs": [
    {
     "data": {
      "text/plain": [
       "0"
      ]
     },
     "execution_count": 9,
     "metadata": {},
     "output_type": "execute_result"
    }
   ],
   "source": [
    "load_digits()['target'][0] # 0번째 숫자값"
   ]
  },
  {
   "cell_type": "code",
   "execution_count": 10,
   "id": "855e2de5",
   "metadata": {},
   "outputs": [
    {
     "name": "stdout",
     "output_type": "stream",
     "text": [
      "[[ 0.  0.  5. ...  0.  0.  0.]\n",
      " [ 0.  0.  0. ... 10.  0.  0.]\n",
      " [ 0.  0.  0. ... 16.  9.  0.]\n",
      " ...\n",
      " [ 0.  0.  1. ...  6.  0.  0.]\n",
      " [ 0.  0.  2. ... 12.  0.  0.]\n",
      " [ 0.  0. 10. ... 12.  1.  0.]]\n",
      "### digits. data. shape: (1797, 64)\n",
      "[0 1 2 ... 8 9 8]\n",
      "### digits. target shape: (1797,)\n",
      " 레이블  테스트 세트 크기 :  (450,)\n",
      " 테스트 세트 레이블 0과 1의 분포도 \n",
      "0    405\n",
      "1     45\n",
      "dtype: int64\n",
      "모든 예측을 0으로 하여도 정확도는 : 0.900\n"
     ]
    }
   ],
   "source": [
    "from sklearn.datasets import load_digits\n",
    "from sklearn.model_selection import train_test_split\n",
    "from sklearn.base import BaseEstimator\n",
    "from sklearn.metrics import accuracy_score\n",
    "import numpy as np\n",
    "import pandas as pd\n",
    "\n",
    "class MyFakeClassifier (BaseEstimator) :\n",
    "    def fit(self,X,Y) :\n",
    "        pass\n",
    "\n",
    "    def predict (self, X):\n",
    "        return np.zeros ((len(X), 1) , dtype=bool)\n",
    "    \n",
    "digits = load_digits()\n",
    "print (digits. data)\n",
    "print (\"### digits. data. shape:\" , digits.data.shape)\n",
    "print (digits. target)\n",
    "print(\"### digits. target shape:\", digits.target.shape)\n",
    "\n",
    "digits.target == 7\n",
    "\n",
    "y = (digits. target == 7).astype(int)\n",
    "X_train, X_test, y_train, y_test = train_test_split( digits. data, y, random_state=11)\n",
    "          \n",
    "print ( ' 레이블  테스트 세트 크기 : ' , y_test.shape )\n",
    "print ( ' 테스트 세트 레이블 0과 1의 분포도 ' )\n",
    "print (pd. Series(y_test). value_counts())\n",
    "\n",
    "fakeclf = MyFakeClassifier()\n",
    "fakeclf.fit (X_train , y_train)\n",
    "fakepred = fakeclf.predict (X_test)\n",
    "print (f'모든 예측을 0으로 하여도 정확도는 : {accuracy_score(y_test, fakepred):.3f}')\n"
   ]
  },
  {
   "cell_type": "code",
   "execution_count": 11,
   "id": "2094044e",
   "metadata": {},
   "outputs": [
    {
     "data": {
      "text/plain": [
       "(405, 0, 45, 0)"
      ]
     },
     "execution_count": 11,
     "metadata": {},
     "output_type": "execute_result"
    }
   ],
   "source": [
    "from sklearn.metrics import confusion_matrix\n",
    "\n",
    "result = confusion_matrix(y_test, fakepred)\n",
    "tn, fp, fn, tp = result.ravel() # 1차원 배열로 변경, 하나씩 할당\n",
    "tn, fp, fn, tp # t:true n:negative(0) f:false p:positive(1)"
   ]
  },
  {
   "cell_type": "code",
   "execution_count": 12,
   "id": "7664a2dd",
   "metadata": {},
   "outputs": [
    {
     "data": {
      "text/plain": [
       "0.0"
      ]
     },
     "execution_count": 12,
     "metadata": {},
     "output_type": "execute_result"
    }
   ],
   "source": [
    "from sklearn.metrics import accuracy_score, precision_score, recall_score\n",
    "\n",
    "#accuracy_score(y_test, fakepred)\n",
    "#precision_score(y_test, fakepred) # 정밀도 # 0으로 나눠지지 않는 오류\n",
    "recall_score(y_test, fakepred) # 재현율\n"
   ]
  },
  {
   "cell_type": "code",
   "execution_count": 13,
   "id": "3b1b9872",
   "metadata": {},
   "outputs": [],
   "source": [
    "import pandas as pd\n",
    "from sklearn.preprocessing import LabelEncoder\n",
    "from sklearn.linear_model import LogisticRegression\n",
    "\n",
    "titanic_train_df = pd.read_csv('./datasets/titanic_train.csv')\n",
    "titanic_test_df = pd.read_csv('./datasets/titanic_test.csv')\n",
    "titanic_train_df.head()\n",
    "\n",
    "# 결측치 처리\n",
    "mean = titanic_train_df['Age'].mean()\n",
    "titanic_train_df['Age'] = titanic_train_df['Age'].fillna(mean)\n",
    "titanic_test_df['Age'] = titanic_test_df['Age'].fillna(mean)\n",
    "\n",
    "# 성별 숫자로 변경\n",
    "le = LabelEncoder()\n",
    "le.fit(titanic_train_df['Sex'])\n",
    "\n",
    "titanic_train_df['Sex'] = le.transform(titanic_train_df['Sex'])\n",
    "titanic_test_df['Sex'] = le.transform(titanic_test_df['Sex'])\n",
    "\n",
    "# 데이터 뽑아오기\n",
    "gender_submission = pd.read_csv('./datasets/titanic_gender_submission.csv')\n",
    "X_train_df = titanic_train_df[['Pclass', 'Sex','Age']]\n",
    "y_train = titanic_train_df['Survived']\n",
    "\n",
    "X_test_df = titanic_test_df[['Pclass', 'Sex','Age']]\n",
    "y_test = gender_submission['Survived'] # 실제값\n",
    "\n",
    "lr_clf = LogisticRegression()\n",
    "\n",
    "clf = LogisticRegression(random_state=0)\n",
    "clf.fit(X_train_df, y_train)\n",
    "\n",
    "pred = clf.predict(X_test_df) # 예측값"
   ]
  },
  {
   "cell_type": "code",
   "execution_count": 14,
   "id": "8ce8c8a8",
   "metadata": {},
   "outputs": [
    {
     "data": {
      "text/plain": [
       "0.9442622950819671"
      ]
     },
     "execution_count": 14,
     "metadata": {},
     "output_type": "execute_result"
    }
   ],
   "source": [
    "from sklearn.metrics import accuracy_score, precision_score, recall_score, f1_score\n",
    "\n",
    "accuracy_score(y_test, pred)\n",
    "precision_score(y_test, pred)\n",
    "recall_score(y_test, pred)\n",
    "f1_score(y_test, pred)"
   ]
  },
  {
   "cell_type": "code",
   "execution_count": 15,
   "id": "1bc7115a",
   "metadata": {},
   "outputs": [
    {
     "data": {
      "text/plain": [
       "array([0.07767982, 0.40963907, 0.09627557, 0.09727169, 0.61202216,\n",
       "       0.14174774, 0.54810359, 0.25794639, 0.64272812, 0.11600615,\n",
       "       0.08975887, 0.36001494, 0.93701217, 0.09345497, 0.87116826,\n",
       "       0.82178832, 0.20548974, 0.11600615, 0.57237915, 0.42561727,\n",
       "       0.29505472, 0.16292912, 0.92270506, 0.56118646, 0.86743607,\n",
       "       0.04817737, 0.93892344, 0.11104772, 0.39866189, 0.08975887,\n",
       "       0.13644965, 0.27072102, 0.52359695, 0.55055062, 0.4875822 ,\n",
       "       0.12469746, 0.55055062, 0.61979339, 0.10319562, 0.08975887,\n",
       "       0.06772787, 0.49005204, 0.06369536, 0.79107279, 0.87836421,\n",
       "       0.10319562, 0.36761826, 0.08975887, 0.81521567, 0.49897616,\n",
       "       0.53678971, 0.25170852, 0.84022663, 0.92659327, 0.23537782,\n",
       "       0.15849824, 0.07651113, 0.10319562, 0.08975887, 0.90658985,\n",
       "       0.13017612, 0.22204711, 0.12650136, 0.61202216, 0.62452221,\n",
       "       0.79270174, 0.64272812, 0.35248123, 0.47937857, 0.81521567,\n",
       "       0.59631111, 0.11600615, 0.55622679, 0.49989882, 0.90933493,\n",
       "       0.46709532, 0.08975887, 0.83869078, 0.23360354, 0.59631111,\n",
       "       0.17682036, 0.22008472, 0.33763471, 0.08975887, 0.23537782,\n",
       "       0.08975887, 0.57237915, 0.64272812, 0.55055062, 0.43333851,\n",
       "       0.61202216, 0.08975887, 0.92879667, 0.08975887, 0.52861225,\n",
       "       0.10319562, 0.72285053, 0.09165308, 0.62750371, 0.08128456,\n",
       "       0.8852112 , 0.25170852, 0.08975887, 0.10019476, 0.65766974,\n",
       "       0.09442496, 0.11600615, 0.08975887, 0.08975887, 0.30782948,\n",
       "       0.17516767, 0.55055062, 0.90658985, 0.63894756, 0.79990649,\n",
       "       0.12650136, 0.08975887, 0.75872348, 0.43861421, 0.79645041,\n",
       "       0.87244191, 0.08975887, 0.90933493, 0.09442496, 0.08975887,\n",
       "       0.6502358 , 0.11267957, 0.55055062, 0.17047175, 0.10627574,\n",
       "       0.08377179, 0.3089021 , 0.55055062, 0.08975887, 0.05988752,\n",
       "       0.10627574, 0.09872359, 0.25794639, 0.60419352, 0.06568285,\n",
       "       0.7005742 , 0.91460803, 0.25577104, 0.24557158, 0.3908133 ,\n",
       "       0.08632797, 0.49005204, 0.11267957, 0.49005204, 0.23360354,\n",
       "       0.93701217, 0.08975887, 0.03460878, 0.49897616, 0.14579148,\n",
       "       0.10627574, 0.92432725, 0.60419352, 0.3908133 , 0.58040004,\n",
       "       0.55055062, 0.17208937, 0.81196186, 0.08975887, 0.17516767,\n",
       "       0.58040004, 0.34502018, 0.12650136, 0.92270506, 0.61202216,\n",
       "       0.08975887, 0.09727169, 0.10943658, 0.08975887, 0.06568285,\n",
       "       0.86106584, 0.84022663, 0.30193336, 0.7566311 , 0.79459663,\n",
       "       0.23360354, 0.43054223, 0.94603839, 0.08975887, 0.92879667,\n",
       "       0.17996489, 0.83576706, 0.13017612, 0.55055062, 0.17996489,\n",
       "       0.21090505, 0.49005204, 0.15203594, 0.09917198, 0.38571752,\n",
       "       0.08128456, 0.67672145, 0.64272812, 0.27725549, 0.55055062,\n",
       "       0.55055062, 0.20558044, 0.35248123, 0.88636413, 0.26428425,\n",
       "       0.49005204, 0.50718844, 0.27072102, 0.91460803, 0.10319562,\n",
       "       0.08377179, 0.08975887, 0.3184271 , 0.58561585, 0.48255768,\n",
       "       0.3908133 , 0.55055062, 0.28157518, 0.85969687, 0.08975887,\n",
       "       0.79107279, 0.11600615, 0.83120802, 0.11600615, 0.84738299,\n",
       "       0.55055062, 0.10943658, 0.55055062, 0.064682  , 0.20017822,\n",
       "       0.34018805, 0.94078039, 0.11600615, 0.08975887, 0.41451256,\n",
       "       0.11941772, 0.23746659, 0.11941772, 0.84885099, 0.86743607,\n",
       "       0.83869078, 0.69817815, 0.36761826, 0.08975887, 0.08975887,\n",
       "       0.39866189, 0.83120802, 0.17047175, 0.79645041, 0.55055062,\n",
       "       0.90777075, 0.11941772, 0.51221555, 0.10627574, 0.08251965,\n",
       "       0.08975887, 0.08975887, 0.09442496, 0.84458762, 0.11600615,\n",
       "       0.07310123, 0.11600615, 0.79645041, 0.75872348, 0.23360354,\n",
       "       0.08975887, 0.49005204, 0.08975887, 0.55055062, 0.13017612,\n",
       "       0.36001494, 0.08975887, 0.93093886, 0.55055062, 0.08975887,\n",
       "       0.84022663, 0.24557158, 0.17996489, 0.23360354, 0.28388628,\n",
       "       0.60419352, 0.20333623, 0.55055062, 0.70741966, 0.75265868,\n",
       "       0.07422201, 0.08975887, 0.53678971, 0.08975887, 0.08975887,\n",
       "       0.49005204, 0.54810359, 0.08975887, 0.3089021 , 0.07422201,\n",
       "       0.10019476, 0.90755049, 0.08975887, 0.4875822 , 0.09165308,\n",
       "       0.08377179, 0.23537782, 0.16587639, 0.10627574, 0.55055062,\n",
       "       0.79459663, 0.4875822 , 0.20291084, 0.29505472, 0.42561727,\n",
       "       0.12650136, 0.11267957, 0.08975887, 0.49076443, 0.83869078,\n",
       "       0.6502358 , 0.28157518, 0.30434077, 0.09727169, 0.28388628,\n",
       "       0.10019476, 0.10319562, 0.25794639, 0.46300902, 0.89790283,\n",
       "       0.10943658, 0.87244191, 0.36001494, 0.23953636, 0.29061189,\n",
       "       0.67701422, 0.41451256, 0.08975887, 0.63514971, 0.09727169,\n",
       "       0.4875822 , 0.22204711, 0.06772787, 0.26428425, 0.08975887,\n",
       "       0.31134029, 0.08377179, 0.08975887, 0.82490876, 0.08975887,\n",
       "       0.65766974, 0.25794639, 0.48255768, 0.27072102, 0.78559135,\n",
       "       0.87836421, 0.26428425, 0.31134029, 0.14036697, 0.76367966,\n",
       "       0.3303276 , 0.82011318, 0.08975887, 0.08975887, 0.54810359,\n",
       "       0.13976122, 0.82178832, 0.78559135, 0.09727169, 0.93302124,\n",
       "       0.55055062, 0.08975887, 0.61202216, 0.87836421, 0.23953636,\n",
       "       0.29061189, 0.91960156, 0.33763471, 0.16138082, 0.84308587,\n",
       "       0.87836421, 0.61202216, 0.29061189, 0.29505472, 0.18165287,\n",
       "       0.08975887, 0.10019476, 0.55055062, 0.63514971, 0.23537782,\n",
       "       0.82178832, 0.10627574, 0.11154516, 0.11600615, 0.17682036,\n",
       "       0.54494744, 0.85568741, 0.14579148, 0.14848374, 0.09165308,\n",
       "       0.94603839, 0.10627574, 0.86743607, 0.11267957, 0.08632797,\n",
       "       0.92199716, 0.18986569, 0.93892344, 0.59324178, 0.38302082,\n",
       "       0.29743065, 0.27725549, 0.3303276 , 0.55055062, 0.74649237,\n",
       "       0.55055062, 0.90377046, 0.56432003, 0.08975887, 0.89790283,\n",
       "       0.06877239, 0.08975887, 0.08975887])"
      ]
     },
     "execution_count": 15,
     "metadata": {},
     "output_type": "execute_result"
    }
   ],
   "source": [
    "pred_proba = clf.predict_proba(X_test_df)\n",
    "pred_proba[:, 1]"
   ]
  },
  {
   "cell_type": "code",
   "execution_count": 16,
   "id": "cd5892d7",
   "metadata": {},
   "outputs": [],
   "source": [
    "from sklearn.metrics import accuracy_score , precision_score , recall_score , f1_score\n",
    "def get_clf_eval(y_test,pred):\n",
    "    confusion = confusion_matrix(y_test,pred)\n",
    "    accuracy = accuracy_score(y_test,pred)\n",
    "    precision = precision_score(y_test,pred)\n",
    "    recall = recall_score(y_test,pred)\n",
    "    f1score = f1_score(y_test,pred)\n",
    "    print('오차행렬')\n",
    "    print(confusion)\n",
    "    print(f'정확도:{accuracy:.4f}, 정밀도:{precision:.4f}, 재현율: {recall:.4f} , f1 : {f1score:.4f}')"
   ]
  },
  {
   "cell_type": "code",
   "execution_count": 17,
   "id": "5f663e6e",
   "metadata": {},
   "outputs": [
    {
     "name": "stdout",
     "output_type": "stream",
     "text": [
      "임계값 : 0.4\n",
      "오차행렬\n",
      "[[237  29]\n",
      " [  0 152]]\n",
      "정확도:0.9306, 정밀도:0.8398, 재현율: 1.0000 , f1 : 0.9129\n",
      "임계값 : 0.45\n",
      "오차행렬\n",
      "[[242  24]\n",
      " [  3 149]]\n",
      "정확도:0.9354, 정밀도:0.8613, 재현율: 0.9803 , f1 : 0.9169\n",
      "임계값 : 0.5\n",
      "오차행렬\n",
      "[[257   9]\n",
      " [  8 144]]\n",
      "정확도:0.9593, 정밀도:0.9412, 재현율: 0.9474 , f1 : 0.9443\n",
      "임계값 : 0.55\n",
      "오차행렬\n",
      "[[262   4]\n",
      " [ 13 139]]\n",
      "정확도:0.9593, 정밀도:0.9720, 재현율: 0.9145 , f1 : 0.9424\n",
      "임계값 : 0.6\n",
      "오차행렬\n",
      "[[264   2]\n",
      " [ 44 108]]\n",
      "정확도:0.8900, 정밀도:0.9818, 재현율: 0.7105 , f1 : 0.8244\n"
     ]
    }
   ],
   "source": [
    "from sklearn.preprocessing import Binarizer\n",
    "from sklearn.metrics import accuracy_score , precision_score , recall_score , f1_score\n",
    "thresholds = [0.4,0.45,0.50,0.55,0.60]\n",
    "\n",
    "def get_eval_by_threshold(y_test,pred_proba_c1,thresholds):\n",
    "    for custom_threshold in thresholds:\n",
    "        binarizer = Binarizer(threshold = custom_threshold).fit(pred_proba_c1)\n",
    "        custom_predict = binarizer.transform(pred_proba_c1)\n",
    "        print(f'임계값 : {custom_threshold}')\n",
    "        get_clf_eval(y_test,custom_predict)\n",
    "\n",
    "get_eval_by_threshold(y_test,pred_proba[:,1].reshape(-1,1),thresholds)"
   ]
  },
  {
   "cell_type": "code",
   "execution_count": 18,
   "id": "6e5fde6f",
   "metadata": {},
   "outputs": [
    {
     "data": {
      "text/plain": [
       "(array([0.83977901, 0.83888889, 0.84831461, 0.84659091, 0.85142857,\n",
       "        0.85632184, 0.86127168, 0.86627907, 0.87134503, 0.87647059,\n",
       "        0.875     , 0.89634146, 0.93630573, 0.93589744, 0.93506494,\n",
       "        0.94117647, 0.94078947, 0.94701987, 0.94666667, 0.95302013,\n",
       "        0.96598639, 0.97260274, 0.97202797, 0.96694215, 0.96666667,\n",
       "        0.97478992, 0.97457627, 0.97413793, 0.97368421, 0.97345133,\n",
       "        0.98214286, 0.98181818, 0.98130841, 0.98019802, 0.98      ,\n",
       "        0.98989899, 0.98979592, 0.98958333, 0.98947368, 0.98901099,\n",
       "        0.98876404, 0.98850575, 1.        , 1.        , 1.        ,\n",
       "        1.        , 1.        , 1.        , 1.        , 1.        ,\n",
       "        1.        , 1.        , 1.        , 1.        , 1.        ,\n",
       "        1.        , 1.        , 1.        , 1.        , 1.        ,\n",
       "        1.        , 1.        , 1.        , 1.        , 1.        ,\n",
       "        1.        , 1.        , 1.        , 1.        , 1.        ,\n",
       "        1.        , 1.        , 1.        , 1.        , 1.        ,\n",
       "        1.        , 1.        , 1.        , 1.        , 1.        ,\n",
       "        1.        , 1.        , 1.        , 1.        , 1.        ,\n",
       "        1.        , 1.        , 1.        , 1.        , 1.        ,\n",
       "        1.        , 1.        , 1.        , 1.        , 1.        ,\n",
       "        1.        , 1.        , 1.        , 1.        , 1.        ]),\n",
       " array([1.        , 0.99342105, 0.99342105, 0.98026316, 0.98026316,\n",
       "        0.98026316, 0.98026316, 0.98026316, 0.98026316, 0.98026316,\n",
       "        0.96710526, 0.96710526, 0.96710526, 0.96052632, 0.94736842,\n",
       "        0.94736842, 0.94078947, 0.94078947, 0.93421053, 0.93421053,\n",
       "        0.93421053, 0.93421053, 0.91447368, 0.76973684, 0.76315789,\n",
       "        0.76315789, 0.75657895, 0.74342105, 0.73026316, 0.72368421,\n",
       "        0.72368421, 0.71052632, 0.69078947, 0.65131579, 0.64473684,\n",
       "        0.64473684, 0.63815789, 0.625     , 0.61842105, 0.59210526,\n",
       "        0.57894737, 0.56578947, 0.56578947, 0.55921053, 0.55263158,\n",
       "        0.54605263, 0.53947368, 0.53289474, 0.52631579, 0.51973684,\n",
       "        0.51315789, 0.5       , 0.49342105, 0.48026316, 0.46710526,\n",
       "        0.46052632, 0.44736842, 0.42763158, 0.42105263, 0.41447368,\n",
       "        0.40131579, 0.39473684, 0.375     , 0.36842105, 0.35526316,\n",
       "        0.34868421, 0.32894737, 0.30921053, 0.30263158, 0.29605263,\n",
       "        0.28947368, 0.28289474, 0.27631579, 0.26973684, 0.26315789,\n",
       "        0.24342105, 0.23684211, 0.22368421, 0.19736842, 0.19078947,\n",
       "        0.18421053, 0.17105263, 0.16447368, 0.15131579, 0.14473684,\n",
       "        0.13815789, 0.125     , 0.11184211, 0.10526316, 0.09868421,\n",
       "        0.08552632, 0.07894737, 0.07236842, 0.05921053, 0.05263158,\n",
       "        0.04605263, 0.03289474, 0.01973684, 0.01315789, 0.        ]),\n",
       " array([0.40963907, 0.41451256, 0.42561727, 0.43054223, 0.43333851,\n",
       "        0.43861421, 0.46300902, 0.46709532, 0.47937857, 0.48255768,\n",
       "        0.4875822 , 0.49005204, 0.49076443, 0.49897616, 0.49989882,\n",
       "        0.50718844, 0.51221555, 0.52359695, 0.52861225, 0.53678971,\n",
       "        0.54494744, 0.54810359, 0.55055062, 0.55622679, 0.56118646,\n",
       "        0.56432003, 0.57237915, 0.58040004, 0.58561585, 0.59324178,\n",
       "        0.59631111, 0.60419352, 0.61202216, 0.61979339, 0.62452221,\n",
       "        0.62750371, 0.63514971, 0.63894756, 0.64272812, 0.6502358 ,\n",
       "        0.65766974, 0.67672145, 0.67701422, 0.69817815, 0.7005742 ,\n",
       "        0.70741966, 0.72285053, 0.74649237, 0.75265868, 0.7566311 ,\n",
       "        0.75872348, 0.76367966, 0.78559135, 0.79107279, 0.79270174,\n",
       "        0.79459663, 0.79645041, 0.79990649, 0.81196186, 0.81521567,\n",
       "        0.82011318, 0.82178832, 0.82490876, 0.83120802, 0.83576706,\n",
       "        0.83869078, 0.84022663, 0.84308587, 0.84458762, 0.84738299,\n",
       "        0.84885099, 0.85568741, 0.85969687, 0.86106584, 0.86743607,\n",
       "        0.87116826, 0.87244191, 0.87836421, 0.8852112 , 0.88636413,\n",
       "        0.89790283, 0.90377046, 0.90658985, 0.90755049, 0.90777075,\n",
       "        0.90933493, 0.91460803, 0.91960156, 0.92199716, 0.92270506,\n",
       "        0.92432725, 0.92659327, 0.92879667, 0.93093886, 0.93302124,\n",
       "        0.93701217, 0.93892344, 0.94078039, 0.94603839]))"
      ]
     },
     "execution_count": 18,
     "metadata": {},
     "output_type": "execute_result"
    }
   ],
   "source": [
    "# sklearn.metrics.precision_recall_curve\n",
    "from sklearn.metrics import precision_recall_curve\n",
    "\n",
    "precision, recall, thresholds = precision_recall_curve(y_test, pred_proba[: , 1])\n",
    "\n",
    "precision , recall, thresholds"
   ]
  },
  {
   "cell_type": "code",
   "execution_count": 19,
   "id": "f2ee6b16",
   "metadata": {},
   "outputs": [
    {
     "data": {
      "image/png": "[encoded data removed]",
      "text/plain": [
       "<Figure size 432x288 with 1 Axes>"
      ]
     },
     "metadata": {
      "needs_background": "light"
     },
     "output_type": "display_data"
    }
   ],
   "source": [
    "# matplotlib.pyplot.plot\n",
    "import matplotlib.pyplot as plt\n",
    "\n",
    "plt.plot(thresholds , precision[:-1] , 'b--' , label=\"precision\")\n",
    "plt.plot(thresholds , recall[:-1] , 'r-', label=\"recall\")\n",
    "plt.xlabel(\"thresholds\")\n",
    "plt.ylabel(\"precsion & recall\")\n",
    "plt.legend()\n",
    "plt.show()"
   ]
  },
  {
   "cell_type": "code",
   "execution_count": 20,
   "id": "8e940c3f",
   "metadata": {},
   "outputs": [
    {
     "data": {
      "text/plain": [
       "(99, 100)"
      ]
     },
     "execution_count": 20,
     "metadata": {},
     "output_type": "execute_result"
    }
   ],
   "source": [
    "len(thresholds), len(recall)"
   ]
  },
  {
   "cell_type": "code",
   "execution_count": 21,
   "id": "56058e10",
   "metadata": {},
   "outputs": [
    {
     "data": {
      "text/plain": [
       "(126, 126)"
      ]
     },
     "execution_count": 21,
     "metadata": {},
     "output_type": "execute_result"
    }
   ],
   "source": [
    "# sklearn.metrics.roc_curve\n",
    "from sklearn.metrics import roc_curve\n",
    "fprs, tprs, thresholds =roc_curve(y_test, pred_proba[: , 1])\n",
    "\n",
    "len(fprs) , len(tprs)"
   ]
  },
  {
   "cell_type": "code",
   "execution_count": 22,
   "id": "e08da36e",
   "metadata": {},
   "outputs": [
    {
     "data": {
      "image/png": "[encoded data removed]",
      "text/plain": [
       "<Figure size 432x288 with 1 Axes>"
      ]
     },
     "metadata": {
      "needs_background": "light"
     },
     "output_type": "display_data"
    }
   ],
   "source": [
    "# matplotlib.pyplot.plot\n",
    "import matplotlib.pyplot as plt\n",
    "\n",
    "plt.plot(fprs ,tprs ,  color='red')\n",
    "plt.xlabel(\"fpr\")\n",
    "plt.ylabel(\"tpr\")\n",
    "plt.show()"
   ]
  },
  {
   "cell_type": "code",
   "execution_count": 23,
   "id": "78bc6b17",
   "metadata": {},
   "outputs": [
    {
     "data": {
      "text/plain": [
       "0.9918381480015829"
      ]
     },
     "execution_count": 23,
     "metadata": {},
     "output_type": "execute_result"
    }
   ],
   "source": [
    "# sklearn.metrics.roc_auc_score\n",
    "from sklearn.metrics import roc_auc_score\n",
    "roc_auc_score(y_test, pred_proba[: , 1])"
   ]
  },
  {
   "cell_type": "markdown",
   "id": "b35ca7da",
   "metadata": {},
   "source": [
    "## PIMA Diabets ##"
   ]
  },
  {
   "cell_type": "code",
   "execution_count": 27,
   "id": "e0e8906e",
   "metadata": {},
   "outputs": [
    {
     "name": "stdout",
     "output_type": "stream",
     "text": [
      "0    500\n",
      "1    268\n",
      "Name: Outcome, dtype: int64\n"
     ]
    },
    {
     "data": {
      "text/html": [
       "<div>\n",
       "<style scoped>\n",
       "    .dataframe tbody tr th:only-of-type {\n",
       "        vertical-align: middle;\n",
       "    }\n",
       "\n",
       "    .dataframe tbody tr th {\n",
       "        vertical-align: top;\n",
       "    }\n",
       "\n",
       "    .dataframe thead th {\n",
       "        text-align: right;\n",
       "    }\n",
       "</style>\n",
       "<table border=\"1\" class=\"dataframe\">\n",
       "  <thead>\n",
       "    <tr style=\"text-align: right;\">\n",
       "      <th></th>\n",
       "      <th>Pregnancies</th>\n",
       "      <th>Glucose</th>\n",
       "      <th>BloodPressure</th>\n",
       "      <th>SkinThickness</th>\n",
       "      <th>Insulin</th>\n",
       "      <th>BMI</th>\n",
       "      <th>DiabetesPedigreeFunction</th>\n",
       "      <th>Age</th>\n",
       "      <th>Outcome</th>\n",
       "    </tr>\n",
       "  </thead>\n",
       "  <tbody>\n",
       "    <tr>\n",
       "      <th>0</th>\n",
       "      <td>6</td>\n",
       "      <td>148</td>\n",
       "      <td>72</td>\n",
       "      <td>35</td>\n",
       "      <td>0</td>\n",
       "      <td>33.6</td>\n",
       "      <td>0.627</td>\n",
       "      <td>50</td>\n",
       "      <td>1</td>\n",
       "    </tr>\n",
       "    <tr>\n",
       "      <th>1</th>\n",
       "      <td>1</td>\n",
       "      <td>85</td>\n",
       "      <td>66</td>\n",
       "      <td>29</td>\n",
       "      <td>0</td>\n",
       "      <td>26.6</td>\n",
       "      <td>0.351</td>\n",
       "      <td>31</td>\n",
       "      <td>0</td>\n",
       "    </tr>\n",
       "    <tr>\n",
       "      <th>2</th>\n",
       "      <td>8</td>\n",
       "      <td>183</td>\n",
       "      <td>64</td>\n",
       "      <td>0</td>\n",
       "      <td>0</td>\n",
       "      <td>23.3</td>\n",
       "      <td>0.672</td>\n",
       "      <td>32</td>\n",
       "      <td>1</td>\n",
       "    </tr>\n",
       "  </tbody>\n",
       "</table>\n",
       "</div>"
      ],
      "text/plain": [
       "   Pregnancies  Glucose  BloodPressure  SkinThickness  Insulin   BMI  \\\n",
       "0            6      148             72             35        0  33.6   \n",
       "1            1       85             66             29        0  26.6   \n",
       "2            8      183             64              0        0  23.3   \n",
       "\n",
       "   DiabetesPedigreeFunction  Age  Outcome  \n",
       "0                     0.627   50        1  \n",
       "1                     0.351   31        0  \n",
       "2                     0.672   32        1  "
      ]
     },
     "execution_count": 27,
     "metadata": {},
     "output_type": "execute_result"
    }
   ],
   "source": [
    "import numpy as np\n",
    "import pandas as pd\n",
    "import matplotlib.pyplot as plt\n",
    "%matplotlib inline\n",
    "\n",
    "from sklearn.model_selection import train_test_split\n",
    "from sklearn.metrics import accuracy_score, precision_score, recall_score, roc_auc_score\n",
    "from sklearn.metrics import f1_score, confusion_matrix, precision_recall_curve, roc_curve\n",
    "from sklearn.preprocessing import StandardScaler\n",
    "from sklearn.linear_model import LogisticRegression\n",
    "\n",
    "diabetes_data = pd.read_csv('./datasets/pima_diabetes.csv')\n",
    "print(diabetes_data['Outcome'].value_counts())\n",
    "diabetes_data.head(3)"
   ]
  },
  {
   "cell_type": "code",
   "execution_count": 30,
   "id": "319df514",
   "metadata": {},
   "outputs": [
    {
     "name": "stderr",
     "output_type": "stream",
     "text": [
      "/Library/Frameworks/Python.framework/Versions/3.6/lib/python3.6/site-packages/sklearn/linear_model/_logistic.py:765: ConvergenceWarning: lbfgs failed to converge (status=1):\n",
      "STOP: TOTAL NO. of ITERATIONS REACHED LIMIT.\n",
      "\n",
      "Increase the number of iterations (max_iter) or scale the data as shown in:\n",
      "    https://scikit-learn.org/stable/modules/preprocessing.html\n",
      "Please also refer to the documentation for alternative solver options:\n",
      "    https://scikit-learn.org/stable/modules/linear_model.html#logistic-regression\n",
      "  extra_warning_msg=_LOGISTIC_SOLVER_CONVERGENCE_MSG)\n"
     ]
    }
   ],
   "source": [
    "X = diabetes_data.iloc[:,:-1]\n",
    "y = diabetes_data.iloc[:,-1]\n",
    "\n",
    "X_train, X_test, y_train, y_test = train_test_split(X, y, test_size = 0.2, random_state = 156)\n",
    "\n",
    "lr_clf = LogisticRegression()\n",
    "lr_clf.fit(X_train, y_train)\n",
    "pred = lr_clf.predict(X_test)\n",
    "\n",
    "# 한쪽기준으로 정리\n",
    "pred_proba = lr_clf.predict_proba(X_test)[:, 1]"
   ]
  },
  {
   "cell_type": "code",
   "execution_count": 31,
   "id": "16e24b80",
   "metadata": {},
   "outputs": [],
   "source": [
    "from sklearn.metrics import accuracy_score , precision_score , recall_score , f1_score\n",
    "\n",
    "def get_clf_eval(y_test, pred, pred_proba):\n",
    "    confusion = confusion_matrix(y_test, pred)\n",
    "    accuracy = accuracy_score(y_test, pred)\n",
    "    precision = precision_score(y_test, pred)\n",
    "    recall = recall_score(y_test, pred)\n",
    "    f1score = f1_score(y_test, pred)\n",
    "    auc = roc_auc_score(y_test, pred_proba)\n",
    "    \n",
    "    print('오차행렬')\n",
    "    print(confusion)\n",
    "    print(f'정확도:{accuracy:.4f}, 정밀도:{precision:.4f}, 재현율: {recall:.4f} , f1 : {f1score:.4f}, AUC : {auc:.4f}')"
   ]
  },
  {
   "cell_type": "code",
   "execution_count": 32,
   "id": "56b95d5c",
   "metadata": {},
   "outputs": [
    {
     "name": "stdout",
     "output_type": "stream",
     "text": [
      "오차행렬\n",
      "[[84 13]\n",
      " [24 33]]\n",
      "정확도:0.7597, 정밀도:0.7174, 재현율: 0.5789 , f1 : 0.6408, AUC : 0.8412\n"
     ]
    }
   ],
   "source": [
    "get_clf_eval(y_test, pred, pred_proba)"
   ]
  },
  {
   "cell_type": "code",
   "execution_count": 34,
   "id": "e4f06a29",
   "metadata": {},
   "outputs": [],
   "source": [
    "def precision_recall_curve_plot(y_test, pred_proba) :\n",
    "    precision, recall, thresholds = precision_recall_curve(y_test, pred_proba)\n",
    "    print(precision)\n",
    "    \n",
    "    plt.plot(thresholds , precision[:-1] , 'b--' , label=\"precision\")\n",
    "    plt.plot(thresholds , recall[:-1] , 'r-', label=\"recall\")\n",
    "    plt.xlabel(\"thresholds\")\n",
    "    plt.ylabel(\"precision & recall\")\n",
    "    plt.legend()\n",
    "    plt.show()"
   ]
  },
  {
   "cell_type": "code",
   "execution_count": 35,
   "id": "825e5c53",
   "metadata": {},
   "outputs": [
    {
     "name": "stdout",
     "output_type": "stream",
     "text": [
      "[0.42857143 0.42424242 0.42748092 0.43076923 0.43410853 0.4375\n",
      " 0.44094488 0.44444444 0.448      0.4516129  0.45528455 0.45901639\n",
      " 0.46280992 0.46666667 0.47058824 0.47457627 0.47863248 0.48275862\n",
      " 0.48695652 0.49122807 0.49557522 0.49107143 0.48648649 0.49090909\n",
      " 0.49541284 0.5        0.5046729  0.50943396 0.51428571 0.51923077\n",
      " 0.52427184 0.52941176 0.53465347 0.54       0.54545455 0.55102041\n",
      " 0.55670103 0.5625     0.56842105 0.57446809 0.56989247 0.57608696\n",
      " 0.57142857 0.57777778 0.58426966 0.57954545 0.57471264 0.58139535\n",
      " 0.58823529 0.58333333 0.59036145 0.59756098 0.60493827 0.6125\n",
      " 0.60759494 0.61538462 0.62337662 0.61842105 0.61333333 0.60810811\n",
      " 0.61643836 0.61111111 0.61971831 0.61428571 0.62318841 0.63235294\n",
      " 0.64179104 0.63636364 0.64615385 0.65625    0.66666667 0.66129032\n",
      " 0.6557377  0.66666667 0.66101695 0.67241379 0.66666667 0.66071429\n",
      " 0.65454545 0.66666667 0.66037736 0.65384615 0.66666667 0.66\n",
      " 0.67346939 0.6875     0.70212766 0.7173913  0.73333333 0.72727273\n",
      " 0.72093023 0.73809524 0.73170732 0.725      0.74358974 0.73684211\n",
      " 0.72972973 0.75       0.77142857 0.79411765 0.78787879 0.78125\n",
      " 0.80645161 0.8        0.82758621 0.82142857 0.81481481 0.84615385\n",
      " 0.84       0.875      0.86956522 0.86363636 0.85714286 0.85\n",
      " 0.84210526 0.88888889 0.88235294 0.9375     0.93333333 0.92857143\n",
      " 0.92307692 0.91666667 0.90909091 0.9        0.88888889 0.875\n",
      " 0.85714286 0.83333333 0.8        0.75       0.66666667 0.5\n",
      " 1.         1.        ]\n"
     ]
    },
    {
     "data": {
      "image/png": "[encoded data removed]",
      "text/plain": [
       "<Figure size 432x288 with 1 Axes>"
      ]
     },
     "metadata": {
      "needs_background": "light"
     },
     "output_type": "display_data"
    }
   ],
   "source": [
    "precision_recall_curve_plot(y_test, pred_proba)"
   ]
  },
  {
   "cell_type": "code",
   "execution_count": null,
   "id": "14447087",
   "metadata": {},
   "outputs": [],
   "source": []
  }
 ],
 "metadata": {
  "kernelspec": {
   "display_name": "Python 3",
   "language": "python",
   "name": "python3"
  },
  "language_info": {
   "codemirror_mode": {
    "name": "ipython",
    "version": 3
   },
   "file_extension": ".py",
   "mimetype": "text/x-python",
   "name": "python",
   "nbconvert_exporter": "python",
   "pygments_lexer": "ipython3",
   "version": "3.6.8"
  }
 },
 "nbformat": 4,
 "nbformat_minor": 5
}
