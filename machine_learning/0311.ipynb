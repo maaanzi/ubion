{
 "cells": [
  {
   "cell_type": "code",
   "execution_count": 2,
   "id": "ce60155d",
   "metadata": {},
   "outputs": [
    {
     "data": {
      "text/plain": [
       "array([ 0.,  0.,  5., 13.,  9.,  1.,  0.,  0.,  0.,  0., 13., 15., 10.,\n",
       "       15.,  5.,  0.,  0.,  3., 15.,  2.,  0., 11.,  8.,  0.,  0.,  4.,\n",
       "       12.,  0.,  0.,  8.,  8.,  0.,  0.,  5.,  8.,  0.,  0.,  9.,  8.,\n",
       "        0.,  0.,  4., 11.,  0.,  1., 12.,  7.,  0.,  0.,  2., 14.,  5.,\n",
       "       10., 12.,  0.,  0.,  0.,  0.,  6., 13., 10.,  0.,  0.,  0.])"
      ]
     },
     "execution_count": 2,
     "metadata": {},
     "output_type": "execute_result"
    }
   ],
   "source": [
    "# confusion metrix\n",
    "\n",
    "from sklearn.datasets import load_digits\n",
    "load_digits()['data'][0]"
   ]
  },
  {
   "cell_type": "code",
   "execution_count": 3,
   "id": "c2de4607",
   "metadata": {},
   "outputs": [
    {
     "data": {
      "text/plain": [
       "0"
      ]
     },
     "execution_count": 3,
     "metadata": {},
     "output_type": "execute_result"
    }
   ],
   "source": [
    "load_digits()['target'][0] # 0번째 숫자값"
   ]
  },
  {
   "cell_type": "code",
   "execution_count": 4,
   "id": "855e2de5",
   "metadata": {},
   "outputs": [
    {
     "name": "stdout",
     "output_type": "stream",
     "text": [
      "[[ 0.  0.  5. ...  0.  0.  0.]\n",
      " [ 0.  0.  0. ... 10.  0.  0.]\n",
      " [ 0.  0.  0. ... 16.  9.  0.]\n",
      " ...\n",
      " [ 0.  0.  1. ...  6.  0.  0.]\n",
      " [ 0.  0.  2. ... 12.  0.  0.]\n",
      " [ 0.  0. 10. ... 12.  1.  0.]]\n",
      "### digits. data. shape: (1797, 64)\n",
      "[0 1 2 ... 8 9 8]\n",
      "### digits. target shape: (1797,)\n",
      " 레이블  테스트 세트 크기 :  (450,)\n",
      " 테스트 세트 레이블 0과 1의 분포도 \n",
      "0    405\n",
      "1     45\n",
      "Name: count, dtype: int64\n",
      "모든 예측을 0으로 하여도 정확도는 : 0.900\n"
     ]
    },
    {
     "name": "stderr",
     "output_type": "stream",
     "text": [
      "/var/folders/lj/ms0l79910fz22cg2hchczhw40000gn/T/ipykernel_35389/2497620010.py:6: DeprecationWarning: \n",
      "Pyarrow will become a required dependency of pandas in the next major release of pandas (pandas 3.0),\n",
      "(to allow more performant data types, such as the Arrow string type, and better interoperability with other libraries)\n",
      "but was not found to be installed on your system.\n",
      "If this would cause problems for you,\n",
      "please provide us feedback at https://github.com/pandas-dev/pandas/issues/54466\n",
      "        \n",
      "  import pandas as pd\n"
     ]
    }
   ],
   "source": [
    "from sklearn.datasets import load_digits\n",
    "from sklearn.model_selection import train_test_split\n",
    "from sklearn.base import BaseEstimator\n",
    "from sklearn.metrics import accuracy_score\n",
    "import numpy as np\n",
    "import pandas as pd\n",
    "\n",
    "class MyFakeClassifier (BaseEstimator) :\n",
    "    def fit(self,X,Y) :\n",
    "        pass\n",
    "\n",
    "    def predict (self, X):\n",
    "        return np.zeros ((len(X), 1) , dtype=bool)\n",
    "    \n",
    "digits = load_digits()\n",
    "print (digits. data)\n",
    "print (\"### digits. data. shape:\" , digits.data.shape)\n",
    "print (digits. target)\n",
    "print(\"### digits. target shape:\", digits.target.shape)\n",
    "\n",
    "digits.target == 7\n",
    "\n",
    "y = (digits. target == 7).astype(int)\n",
    "X_train, X_test, y_train, y_test = train_test_split( digits. data, y, random_state=11)\n",
    "          \n",
    "print ( ' 레이블  테스트 세트 크기 : ' , y_test.shape )\n",
    "print ( ' 테스트 세트 레이블 0과 1의 분포도 ' )\n",
    "print (pd. Series(y_test). value_counts())\n",
    "\n",
    "fakeclf = MyFakeClassifier()\n",
    "fakeclf.fit (X_train , y_train)\n",
    "fakepred = fakeclf.predict (X_test)\n",
    "print (f'모든 예측을 0으로 하여도 정확도는 : {accuracy_score(y_test, fakepred):.3f}')\n"
   ]
  },
  {
   "cell_type": "code",
   "execution_count": 5,
   "id": "2094044e",
   "metadata": {},
   "outputs": [
    {
     "data": {
      "text/plain": [
       "(405, 0, 45, 0)"
      ]
     },
     "execution_count": 5,
     "metadata": {},
     "output_type": "execute_result"
    }
   ],
   "source": [
    "from sklearn.metrics import confusion_matrix\n",
    "\n",
    "result = confusion_matrix(y_test, fakepred)\n",
    "tn, fp, fn, tp = result.ravel() # 1차원 배열로 변경, 하나씩 할당\n",
    "tn, fp, fn, tp # t:true n:negative(0) f:false p:positive(1)"
   ]
  },
  {
   "cell_type": "code",
   "execution_count": 6,
   "id": "7664a2dd",
   "metadata": {},
   "outputs": [
    {
     "data": {
      "text/plain": [
       "0.0"
      ]
     },
     "execution_count": 6,
     "metadata": {},
     "output_type": "execute_result"
    }
   ],
   "source": [
    "from sklearn.metrics import accuracy_score, precision_score, recall_score\n",
    "\n",
    "#accuracy_score(y_test, fakepred)\n",
    "#precision_score(y_test, fakepred) # 정밀도 # 0으로 나눠지지 않는 오류\n",
    "recall_score(y_test, fakepred) # 재현율\n"
   ]
  },
  {
   "cell_type": "code",
   "execution_count": 7,
   "id": "3b1b9872",
   "metadata": {},
   "outputs": [],
   "source": [
    "import pandas as pd\n",
    "from sklearn.preprocessing import LabelEncoder\n",
    "from sklearn.linear_model import LogisticRegression\n",
    "\n",
    "titanic_train_df = pd.read_csv('./datasets/titanic_train.csv')\n",
    "titanic_test_df = pd.read_csv('./datasets/titanic_test.csv')\n",
    "titanic_train_df.head()\n",
    "\n",
    "# 결측치 처리\n",
    "mean = titanic_train_df['Age'].mean()\n",
    "titanic_train_df['Age'] = titanic_train_df['Age'].fillna(mean)\n",
    "titanic_test_df['Age'] = titanic_test_df['Age'].fillna(mean)\n",
    "\n",
    "# 성별 숫자로 변경\n",
    "le = LabelEncoder()\n",
    "le.fit(titanic_train_df['Sex'])\n",
    "\n",
    "titanic_train_df['Sex'] = le.transform(titanic_train_df['Sex'])\n",
    "titanic_test_df['Sex'] = le.transform(titanic_test_df['Sex'])\n",
    "\n",
    "# 데이터 뽑아오기\n",
    "gender_submission = pd.read_csv('./datasets/titanic_gender_submission.csv')\n",
    "X_train_df = titanic_train_df[['Pclass', 'Sex','Age']]\n",
    "y_train = titanic_train_df['Survived']\n",
    "\n",
    "X_test_df = titanic_test_df[['Pclass', 'Sex','Age']]\n",
    "y_test = gender_submission['Survived'] # 실제값\n",
    "\n",
    "lr_clf = LogisticRegression()\n",
    "\n",
    "clf = LogisticRegression(random_state=0)\n",
    "clf.fit(X_train_df, y_train)\n",
    "\n",
    "pred = clf.predict(X_test_df) # 예측값"
   ]
  },
  {
   "cell_type": "code",
   "execution_count": 8,
   "id": "8ce8c8a8",
   "metadata": {},
   "outputs": [
    {
     "data": {
      "text/plain": [
       "0.9411764705882353"
      ]
     },
     "execution_count": 8,
     "metadata": {},
     "output_type": "execute_result"
    }
   ],
   "source": [
    "from sklearn.metrics import accuracy_score, precision_score, recall_score, f1_score\n",
    "\n",
    "accuracy_score(y_test, pred)\n",
    "precision_score(y_test, pred)\n",
    "recall_score(y_test, pred)\n",
    "f1_score(y_test, pred)"
   ]
  },
  {
   "cell_type": "code",
   "execution_count": 9,
   "id": "1bc7115a",
   "metadata": {},
   "outputs": [
    {
     "data": {
      "text/plain": [
       "array([0.07758662, 0.40917757, 0.09613191, 0.09719739, 0.61192902,\n",
       "       0.14174069, 0.54788624, 0.25804812, 0.64269377, 0.11595667,\n",
       "       0.08967637, 0.36016139, 0.93714081, 0.09330995, 0.87124971,\n",
       "       0.821906  , 0.20548738, 0.11595667, 0.57220891, 0.42518038,\n",
       "       0.29507337, 0.16296258, 0.92283159, 0.56171633, 0.86751255,\n",
       "       0.04807468, 0.93905191, 0.11099111, 0.39888698, 0.08967637,\n",
       "       0.13634077, 0.27084991, 0.52333267, 0.55033799, 0.48798348,\n",
       "       0.12466134, 0.55033799, 0.61971526, 0.10312852, 0.08967637,\n",
       "       0.06762853, 0.49045797, 0.0635943 , 0.79114548, 0.8784547 ,\n",
       "       0.10312852, 0.36778013, 0.08967637, 0.81520624, 0.4986658 ,\n",
       "       0.53727952, 0.2517972 , 0.84036705, 0.92672094, 0.23543308,\n",
       "       0.15852287, 0.07641708, 0.10312852, 0.08967637, 0.90670777,\n",
       "       0.13014896, 0.22207604, 0.12646814, 0.61192902, 0.62514043,\n",
       "       0.792777  , 0.64269377, 0.35261246, 0.47976428, 0.81520624,\n",
       "       0.59618749, 0.11595667, 0.55602515, 0.50032308, 0.90945472,\n",
       "       0.46745738, 0.08967637, 0.83872334, 0.23365525, 0.59618749,\n",
       "       0.17688256, 0.21997518, 0.33773616, 0.08967637, 0.23543308,\n",
       "       0.08967637, 0.57220891, 0.64269377, 0.55033799, 0.43382654,\n",
       "       0.61192902, 0.08967637, 0.9289248 , 0.08967637, 0.529088  ,\n",
       "       0.10312852, 0.7226435 , 0.09157253, 0.62744039, 0.08119421,\n",
       "       0.88530958, 0.2517972 , 0.08967637, 0.10012393, 0.65766338,\n",
       "       0.09434741, 0.11595667, 0.08967637, 0.08967637, 0.30803969,\n",
       "       0.175113  , 0.55033799, 0.90670777, 0.63890605, 0.79986733,\n",
       "       0.12646814, 0.08967637, 0.75888483, 0.43892009, 0.79653153,\n",
       "       0.87261227, 0.08967637, 0.90945472, 0.09434741, 0.08967637,\n",
       "       0.65021557, 0.11262527, 0.55033799, 0.17040966, 0.10621264,\n",
       "       0.08368358, 0.30894714, 0.55033799, 0.08967637, 0.0597853 ,\n",
       "       0.10621264, 0.09865099, 0.25804812, 0.60408522, 0.06558258,\n",
       "       0.70064462, 0.91473097, 0.25571883, 0.24564756, 0.3910224 ,\n",
       "       0.0862421 , 0.49045797, 0.11262527, 0.49045797, 0.23365525,\n",
       "       0.93714081, 0.08967637, 0.03451273, 0.4986658 , 0.14579181,\n",
       "       0.10621264, 0.92445429, 0.60408522, 0.3910224 , 0.58024542,\n",
       "       0.55033799, 0.17214161, 0.81206604, 0.08967637, 0.175113  ,\n",
       "       0.58024542, 0.3451364 , 0.12646814, 0.92283159, 0.61192902,\n",
       "       0.08967637, 0.09719739, 0.10937774, 0.08967637, 0.06558258,\n",
       "       0.86122723, 0.84036705, 0.30196504, 0.75664507, 0.7945468 ,\n",
       "       0.23365525, 0.43083192, 0.94616511, 0.08967637, 0.9289248 ,\n",
       "       0.179918  , 0.83590232, 0.13014896, 0.55033799, 0.179918  ,\n",
       "       0.21091273, 0.49045797, 0.15204802, 0.09902989, 0.3861022 ,\n",
       "       0.08119421, 0.67739093, 0.64269377, 0.27739847, 0.55033799,\n",
       "       0.55033799, 0.20570643, 0.35261246, 0.88654272, 0.26439939,\n",
       "       0.49045797, 0.50689331, 0.27084991, 0.91473097, 0.10312852,\n",
       "       0.08368358, 0.08967637, 0.31866096, 0.58528095, 0.48221742,\n",
       "       0.3910224 , 0.55033799, 0.28156878, 0.85976246, 0.08967637,\n",
       "       0.79114548, 0.11595667, 0.83133777, 0.11595667, 0.8474298 ,\n",
       "       0.55033799, 0.10937774, 0.55033799, 0.06458132, 0.20016618,\n",
       "       0.34047077, 0.94090856, 0.11595667, 0.08967637, 0.41476987,\n",
       "       0.11937336, 0.23738398, 0.11937336, 0.84900075, 0.86751255,\n",
       "       0.83872334, 0.69807909, 0.36778013, 0.08967637, 0.08967637,\n",
       "       0.39888698, 0.83133777, 0.17040966, 0.79653153, 0.55033799,\n",
       "       0.90795509, 0.11937336, 0.51266229, 0.10621264, 0.08243034,\n",
       "       0.08967637, 0.08967637, 0.09434741, 0.84473288, 0.11595667,\n",
       "       0.07300488, 0.11595667, 0.79653153, 0.75888483, 0.23365525,\n",
       "       0.08967637, 0.49045797, 0.08967637, 0.55033799, 0.13014896,\n",
       "       0.36016139, 0.08967637, 0.93106731, 0.55033799, 0.08967637,\n",
       "       0.84036705, 0.24564756, 0.179918  , 0.23365525, 0.28404367,\n",
       "       0.60408522, 0.20345706, 0.55033799, 0.70750169, 0.75281148,\n",
       "       0.07412639, 0.08967637, 0.53727952, 0.08967637, 0.08967637,\n",
       "       0.49045797, 0.54788624, 0.08967637, 0.30894714, 0.07412639,\n",
       "       0.10012393, 0.90773481, 0.08967637, 0.48798348, 0.09157253,\n",
       "       0.08368358, 0.23543308, 0.16580726, 0.10621264, 0.55033799,\n",
       "       0.7945468 , 0.48798348, 0.2030307 , 0.29507337, 0.42518038,\n",
       "       0.12646814, 0.11262527, 0.08967637, 0.49043902, 0.83872334,\n",
       "       0.65021557, 0.28156878, 0.30454322, 0.09719739, 0.28404367,\n",
       "       0.10012393, 0.10312852, 0.25804812, 0.46336312, 0.89801381,\n",
       "       0.10937774, 0.87261227, 0.36016139, 0.23960002, 0.290784  ,\n",
       "       0.67687163, 0.41476987, 0.08967637, 0.63510098, 0.09719739,\n",
       "       0.48798348, 0.22207604, 0.06762853, 0.26439939, 0.08967637,\n",
       "       0.31155831, 0.08368358, 0.08967637, 0.82491724, 0.08967637,\n",
       "       0.65766338, 0.25804812, 0.48221742, 0.27084991, 0.78565521,\n",
       "       0.8784547 , 0.26439939, 0.31155831, 0.14026278, 0.76384781,\n",
       "       0.33041453, 0.82011289, 0.08967637, 0.08967637, 0.54788624,\n",
       "       0.1397506 , 0.821906  , 0.78565521, 0.09719739, 0.93314989,\n",
       "       0.55033799, 0.08967637, 0.61192902, 0.8784547 , 0.23960002,\n",
       "       0.290784  , 0.9197269 , 0.33773616, 0.16130499, 0.84312572,\n",
       "       0.8784547 , 0.61192902, 0.290784  , 0.29507337, 0.18172542,\n",
       "       0.08967637, 0.10012393, 0.55033799, 0.63510098, 0.23543308,\n",
       "       0.821906  , 0.10621264, 0.11141154, 0.11595667, 0.17688256,\n",
       "       0.54545096, 0.85574708, 0.14579181, 0.1483899 , 0.09157253,\n",
       "       0.94616511, 0.10621264, 0.86751255, 0.11262527, 0.0862421 ,\n",
       "       0.92212343, 0.18983547, 0.93905191, 0.5938195 , 0.38321403,\n",
       "       0.29761779, 0.27739847, 0.33041453, 0.55033799, 0.74663622,\n",
       "       0.55033799, 0.90388629, 0.56413411, 0.08967637, 0.89801381,\n",
       "       0.06867356, 0.08967637, 0.08967637])"
      ]
     },
     "execution_count": 9,
     "metadata": {},
     "output_type": "execute_result"
    }
   ],
   "source": [
    "pred_proba = clf.predict_proba(X_test_df)\n",
    "pred_proba[:, 1]"
   ]
  },
  {
   "cell_type": "code",
   "execution_count": 10,
   "id": "cd5892d7",
   "metadata": {},
   "outputs": [],
   "source": [
    "from sklearn.metrics import accuracy_score , precision_score , recall_score , f1_score\n",
    "def get_clf_eval(y_test,pred):\n",
    "    confusion = confusion_matrix(y_test,pred)\n",
    "    accuracy = accuracy_score(y_test,pred)\n",
    "    precision = precision_score(y_test,pred)\n",
    "    recall = recall_score(y_test,pred)\n",
    "    f1score = f1_score(y_test,pred)\n",
    "    print('오차행렬')\n",
    "    print(confusion)\n",
    "    print(f'정확도:{accuracy:.4f}, 정밀도:{precision:.4f}, 재현율: {recall:.4f} , f1 : {f1score:.4f}')"
   ]
  },
  {
   "cell_type": "code",
   "execution_count": 11,
   "id": "5f663e6e",
   "metadata": {},
   "outputs": [
    {
     "name": "stdout",
     "output_type": "stream",
     "text": [
      "임계값 : 0.4\n",
      "오차행렬\n",
      "[[237  29]\n",
      " [  0 152]]\n",
      "정확도:0.9306, 정밀도:0.8398, 재현율: 1.0000 , f1 : 0.9129\n",
      "임계값 : 0.45\n",
      "오차행렬\n",
      "[[242  24]\n",
      " [  3 149]]\n",
      "정확도:0.9354, 정밀도:0.8613, 재현율: 0.9803 , f1 : 0.9169\n",
      "임계값 : 0.5\n",
      "오차행렬\n",
      "[[256  10]\n",
      " [  8 144]]\n",
      "정확도:0.9569, 정밀도:0.9351, 재현율: 0.9474 , f1 : 0.9412\n",
      "임계값 : 0.55\n",
      "오차행렬\n",
      "[[262   4]\n",
      " [ 13 139]]\n",
      "정확도:0.9593, 정밀도:0.9720, 재현율: 0.9145 , f1 : 0.9424\n",
      "임계값 : 0.6\n",
      "오차행렬\n",
      "[[264   2]\n",
      " [ 44 108]]\n",
      "정확도:0.8900, 정밀도:0.9818, 재현율: 0.7105 , f1 : 0.8244\n"
     ]
    }
   ],
   "source": [
    "from sklearn.preprocessing import Binarizer\n",
    "from sklearn.metrics import accuracy_score , precision_score , recall_score , f1_score\n",
    "thresholds = [0.4,0.45,0.50,0.55,0.60]\n",
    "\n",
    "def get_eval_by_threshold(y_test,pred_proba_c1,thresholds):\n",
    "    for custom_threshold in thresholds:\n",
    "        binarizer = Binarizer(threshold = custom_threshold).fit(pred_proba_c1)\n",
    "        custom_predict = binarizer.transform(pred_proba_c1)\n",
    "        print(f'임계값 : {custom_threshold}')\n",
    "        get_clf_eval(y_test,custom_predict)\n",
    "\n",
    "get_eval_by_threshold(y_test,pred_proba[:,1].reshape(-1,1),thresholds)"
   ]
  },
  {
   "cell_type": "code",
   "execution_count": 12,
   "id": "6e5fde6f",
   "metadata": {},
   "outputs": [
    {
     "data": {
      "text/plain": [
       "(array([0.36363636, 0.36450839, 0.36538462, 0.36626506, 0.36714976,\n",
       "        0.36803874, 0.36982968, 0.37163814, 0.37254902, 0.37346437,\n",
       "        0.37530864, 0.37623762, 0.37717122, 0.37905237, 0.38      ,\n",
       "        0.38383838, 0.3857868 , 0.44186047, 0.4457478 , 0.44705882,\n",
       "        0.45103858, 0.45238095, 0.4592145 , 0.46060606, 0.46200608,\n",
       "        0.46769231, 0.47648903, 0.48717949, 0.49190939, 0.49350649,\n",
       "        0.49511401, 0.50165017, 0.51877133, 0.52413793, 0.52595156,\n",
       "        0.53333333, 0.53900709, 0.54092527, 0.54285714, 0.54480287,\n",
       "        0.54676259, 0.55072464, 0.55272727, 0.55474453, 0.55677656,\n",
       "        0.55882353, 0.56088561, 0.56296296, 0.56716418, 0.56928839,\n",
       "        0.57358491, 0.57794677, 0.58461538, 0.58687259, 0.58914729,\n",
       "        0.59143969, 0.59375   , 0.59607843, 0.5984252 , 0.60079051,\n",
       "        0.6031746 , 0.60557769, 0.61044177, 0.62295082, 0.63333333,\n",
       "        0.63598326, 0.64135021, 0.64680851, 0.65236052, 0.65517241,\n",
       "        0.66666667, 0.67555556, 0.68468468, 0.69090909, 0.69724771,\n",
       "        0.7037037 , 0.71361502, 0.72380952, 0.72727273, 0.73076923,\n",
       "        0.73429952, 0.73786408, 0.74509804, 0.75247525, 0.75621891,\n",
       "        0.7638191 , 0.7715736 , 0.7755102 , 0.77948718, 0.78756477,\n",
       "        0.8       , 0.80851064, 0.81283422, 0.8172043 , 0.83060109,\n",
       "        0.83977901, 0.83888889, 0.84831461, 0.84659091, 0.85142857,\n",
       "        0.85632184, 0.86127168, 0.86627907, 0.87134503, 0.87647059,\n",
       "        0.875     , 0.89634146, 0.89570552, 0.93589744, 0.93506494,\n",
       "        0.94117647, 0.94078947, 0.94701987, 0.94666667, 0.95302013,\n",
       "        0.96598639, 0.97260274, 0.97202797, 0.96694215, 0.96666667,\n",
       "        0.97478992, 0.97457627, 0.97413793, 0.97368421, 0.97345133,\n",
       "        0.98214286, 0.98181818, 0.98130841, 0.98019802, 0.98      ,\n",
       "        0.98989899, 0.98979592, 0.98958333, 0.98947368, 0.98901099,\n",
       "        0.98876404, 0.98850575, 0.98837209, 1.        , 1.        ,\n",
       "        1.        , 1.        , 1.        , 1.        , 1.        ,\n",
       "        1.        , 1.        , 1.        , 1.        , 1.        ,\n",
       "        1.        , 1.        , 1.        , 1.        , 1.        ,\n",
       "        1.        , 1.        , 1.        , 1.        , 1.        ,\n",
       "        1.        , 1.        , 1.        , 1.        , 1.        ,\n",
       "        1.        , 1.        , 1.        , 1.        , 1.        ,\n",
       "        1.        , 1.        , 1.        , 1.        , 1.        ,\n",
       "        1.        , 1.        , 1.        , 1.        , 1.        ,\n",
       "        1.        , 1.        , 1.        , 1.        , 1.        ,\n",
       "        1.        , 1.        , 1.        , 1.        , 1.        ,\n",
       "        1.        , 1.        , 1.        , 1.        , 1.        ]),\n",
       " array([1.        , 1.        , 1.        , 1.        , 1.        ,\n",
       "        1.        , 1.        , 1.        , 1.        , 1.        ,\n",
       "        1.        , 1.        , 1.        , 1.        , 1.        ,\n",
       "        1.        , 1.        , 1.        , 1.        , 1.        ,\n",
       "        1.        , 1.        , 1.        , 1.        , 1.        ,\n",
       "        1.        , 1.        , 1.        , 1.        , 1.        ,\n",
       "        1.        , 1.        , 1.        , 1.        , 1.        ,\n",
       "        1.        , 1.        , 1.        , 1.        , 1.        ,\n",
       "        1.        , 1.        , 1.        , 1.        , 1.        ,\n",
       "        1.        , 1.        , 1.        , 1.        , 1.        ,\n",
       "        1.        , 1.        , 1.        , 1.        , 1.        ,\n",
       "        1.        , 1.        , 1.        , 1.        , 1.        ,\n",
       "        1.        , 1.        , 1.        , 1.        , 1.        ,\n",
       "        1.        , 1.        , 1.        , 1.        , 1.        ,\n",
       "        1.        , 1.        , 1.        , 1.        , 1.        ,\n",
       "        1.        , 1.        , 1.        , 1.        , 1.        ,\n",
       "        1.        , 1.        , 1.        , 1.        , 1.        ,\n",
       "        1.        , 1.        , 1.        , 1.        , 1.        ,\n",
       "        1.        , 1.        , 1.        , 1.        , 1.        ,\n",
       "        1.        , 0.99342105, 0.99342105, 0.98026316, 0.98026316,\n",
       "        0.98026316, 0.98026316, 0.98026316, 0.98026316, 0.98026316,\n",
       "        0.96710526, 0.96710526, 0.96052632, 0.96052632, 0.94736842,\n",
       "        0.94736842, 0.94078947, 0.94078947, 0.93421053, 0.93421053,\n",
       "        0.93421053, 0.93421053, 0.91447368, 0.76973684, 0.76315789,\n",
       "        0.76315789, 0.75657895, 0.74342105, 0.73026316, 0.72368421,\n",
       "        0.72368421, 0.71052632, 0.69078947, 0.65131579, 0.64473684,\n",
       "        0.64473684, 0.63815789, 0.625     , 0.61842105, 0.59210526,\n",
       "        0.57894737, 0.56578947, 0.55921053, 0.55921053, 0.55263158,\n",
       "        0.54605263, 0.53947368, 0.53289474, 0.52631579, 0.51973684,\n",
       "        0.51315789, 0.5       , 0.49342105, 0.48026316, 0.46710526,\n",
       "        0.46052632, 0.44736842, 0.42763158, 0.42105263, 0.41447368,\n",
       "        0.40131579, 0.39473684, 0.375     , 0.36842105, 0.35526316,\n",
       "        0.34868421, 0.32894737, 0.30921053, 0.30263158, 0.29605263,\n",
       "        0.28947368, 0.28289474, 0.27631579, 0.26973684, 0.26315789,\n",
       "        0.24342105, 0.23684211, 0.22368421, 0.19736842, 0.19078947,\n",
       "        0.18421053, 0.17105263, 0.16447368, 0.15131579, 0.14473684,\n",
       "        0.13815789, 0.125     , 0.11184211, 0.10526316, 0.09868421,\n",
       "        0.08552632, 0.07894737, 0.07236842, 0.05921053, 0.05263158,\n",
       "        0.04605263, 0.03289474, 0.01973684, 0.01315789, 0.        ]),\n",
       " array([0.03451273, 0.04807468, 0.0597853 , 0.0635943 , 0.06458132,\n",
       "        0.06558258, 0.06762853, 0.06867356, 0.07300488, 0.07412639,\n",
       "        0.07641708, 0.07758662, 0.08119421, 0.08243034, 0.08368358,\n",
       "        0.0862421 , 0.08967637, 0.09157253, 0.09330995, 0.09434741,\n",
       "        0.09613191, 0.09719739, 0.09865099, 0.09902989, 0.10012393,\n",
       "        0.10312852, 0.10621264, 0.10937774, 0.11099111, 0.11141154,\n",
       "        0.11262527, 0.11595667, 0.11937336, 0.12466134, 0.12646814,\n",
       "        0.13014896, 0.13634077, 0.1397506 , 0.14026278, 0.14174069,\n",
       "        0.14579181, 0.1483899 , 0.15204802, 0.15852287, 0.16130499,\n",
       "        0.16296258, 0.16580726, 0.17040966, 0.17214161, 0.175113  ,\n",
       "        0.17688256, 0.179918  , 0.18172542, 0.18983547, 0.20016618,\n",
       "        0.2030307 , 0.20345706, 0.20548738, 0.20570643, 0.21091273,\n",
       "        0.21997518, 0.22207604, 0.23365525, 0.23543308, 0.23738398,\n",
       "        0.23960002, 0.24564756, 0.2517972 , 0.25571883, 0.25804812,\n",
       "        0.26439939, 0.27084991, 0.27739847, 0.28156878, 0.28404367,\n",
       "        0.290784  , 0.29507337, 0.29761779, 0.30196504, 0.30454322,\n",
       "        0.30803969, 0.30894714, 0.31155831, 0.31866096, 0.33041453,\n",
       "        0.33773616, 0.34047077, 0.3451364 , 0.35261246, 0.36016139,\n",
       "        0.36778013, 0.38321403, 0.3861022 , 0.3910224 , 0.39888698,\n",
       "        0.40917757, 0.41476987, 0.42518038, 0.43083192, 0.43382654,\n",
       "        0.43892009, 0.46336312, 0.46745738, 0.47976428, 0.48221742,\n",
       "        0.48798348, 0.49043902, 0.49045797, 0.4986658 , 0.50032308,\n",
       "        0.50689331, 0.51266229, 0.52333267, 0.529088  , 0.53727952,\n",
       "        0.54545096, 0.54788624, 0.55033799, 0.55602515, 0.56171633,\n",
       "        0.56413411, 0.57220891, 0.58024542, 0.58528095, 0.5938195 ,\n",
       "        0.59618749, 0.60408522, 0.61192902, 0.61971526, 0.62514043,\n",
       "        0.62744039, 0.63510098, 0.63890605, 0.64269377, 0.65021557,\n",
       "        0.65766338, 0.67687163, 0.67739093, 0.69807909, 0.70064462,\n",
       "        0.70750169, 0.7226435 , 0.74663622, 0.75281148, 0.75664507,\n",
       "        0.75888483, 0.76384781, 0.78565521, 0.79114548, 0.792777  ,\n",
       "        0.7945468 , 0.79653153, 0.79986733, 0.81206604, 0.81520624,\n",
       "        0.82011289, 0.821906  , 0.82491724, 0.83133777, 0.83590232,\n",
       "        0.83872334, 0.84036705, 0.84312572, 0.84473288, 0.8474298 ,\n",
       "        0.84900075, 0.85574708, 0.85976246, 0.86122723, 0.86751255,\n",
       "        0.87124971, 0.87261227, 0.8784547 , 0.88530958, 0.88654272,\n",
       "        0.89801381, 0.90388629, 0.90670777, 0.90773481, 0.90795509,\n",
       "        0.90945472, 0.91473097, 0.9197269 , 0.92212343, 0.92283159,\n",
       "        0.92445429, 0.92672094, 0.9289248 , 0.93106731, 0.93314989,\n",
       "        0.93714081, 0.93905191, 0.94090856, 0.94616511]))"
      ]
     },
     "execution_count": 12,
     "metadata": {},
     "output_type": "execute_result"
    }
   ],
   "source": [
    "# sklearn.metrics.precision_recall_curve\n",
    "from sklearn.metrics import precision_recall_curve\n",
    "\n",
    "precision, recall, thresholds = precision_recall_curve(y_test, pred_proba[: , 1])\n",
    "\n",
    "precision , recall, thresholds"
   ]
  },
  {
   "cell_type": "code",
   "execution_count": 13,
   "id": "f2ee6b16",
   "metadata": {},
   "outputs": [
    {
     "data": {
      "image/png": "[encoded data removed]",
      "text/plain": [
       "<Figure size 640x480 with 1 Axes>"
      ]
     },
     "metadata": {},
     "output_type": "display_data"
    }
   ],
   "source": [
    "# matplotlib.pyplot.plot\n",
    "import matplotlib.pyplot as plt\n",
    "\n",
    "plt.plot(thresholds , precision[:-1] , 'b--' , label=\"precision\")\n",
    "plt.plot(thresholds , recall[:-1] , 'r-', label=\"recall\")\n",
    "plt.xlabel(\"thresholds\")\n",
    "plt.ylabel(\"precsion & recall\")\n",
    "plt.legend()\n",
    "plt.show()"
   ]
  },
  {
   "cell_type": "code",
   "execution_count": 14,
   "id": "8e940c3f",
   "metadata": {},
   "outputs": [
    {
     "data": {
      "text/plain": [
       "(194, 195)"
      ]
     },
     "execution_count": 14,
     "metadata": {},
     "output_type": "execute_result"
    }
   ],
   "source": [
    "len(thresholds), len(recall)"
   ]
  },
  {
   "cell_type": "code",
   "execution_count": 15,
   "id": "56058e10",
   "metadata": {},
   "outputs": [
    {
     "data": {
      "text/plain": [
       "(127, 127)"
      ]
     },
     "execution_count": 15,
     "metadata": {},
     "output_type": "execute_result"
    }
   ],
   "source": [
    "# sklearn.metrics.roc_curve\n",
    "from sklearn.metrics import roc_curve\n",
    "fprs, tprs, thresholds =roc_curve(y_test, pred_proba[: , 1])\n",
    "\n",
    "len(fprs) , len(tprs)"
   ]
  },
  {
   "cell_type": "code",
   "execution_count": 16,
   "id": "e08da36e",
   "metadata": {},
   "outputs": [
    {
     "data": {
      "image/png": "[encoded data removed]",
      "text/plain": [
       "<Figure size 640x480 with 1 Axes>"
      ]
     },
     "metadata": {},
     "output_type": "display_data"
    }
   ],
   "source": [
    "# matplotlib.pyplot.plot\n",
    "import matplotlib.pyplot as plt\n",
    "\n",
    "plt.plot(fprs ,tprs ,  color='red')\n",
    "plt.xlabel(\"fpr\")\n",
    "plt.ylabel(\"tpr\")\n",
    "plt.show()"
   ]
  },
  {
   "cell_type": "code",
   "execution_count": 17,
   "id": "78bc6b17",
   "metadata": {},
   "outputs": [
    {
     "data": {
      "text/plain": [
       "0.9916402849228334"
      ]
     },
     "execution_count": 17,
     "metadata": {},
     "output_type": "execute_result"
    }
   ],
   "source": [
    "# sklearn.metrics.roc_auc_score\n",
    "from sklearn.metrics import roc_auc_score\n",
    "roc_auc_score(y_test, pred_proba[: , 1])"
   ]
  },
  {
   "cell_type": "markdown",
   "id": "b35ca7da",
   "metadata": {},
   "source": [
    "## PIMA Diabets ##"
   ]
  },
  {
   "cell_type": "code",
   "execution_count": 18,
   "id": "e0e8906e",
   "metadata": {},
   "outputs": [
    {
     "name": "stdout",
     "output_type": "stream",
     "text": [
      "Outcome\n",
      "0    500\n",
      "1    268\n",
      "Name: count, dtype: int64\n"
     ]
    },
    {
     "data": {
      "text/html": [
       "<div>\n",
       "<style scoped>\n",
       "    .dataframe tbody tr th:only-of-type {\n",
       "        vertical-align: middle;\n",
       "    }\n",
       "\n",
       "    .dataframe tbody tr th {\n",
       "        vertical-align: top;\n",
       "    }\n",
       "\n",
       "    .dataframe thead th {\n",
       "        text-align: right;\n",
       "    }\n",
       "</style>\n",
       "<table border=\"1\" class=\"dataframe\">\n",
       "  <thead>\n",
       "    <tr style=\"text-align: right;\">\n",
       "      <th></th>\n",
       "      <th>Pregnancies</th>\n",
       "      <th>Glucose</th>\n",
       "      <th>BloodPressure</th>\n",
       "      <th>SkinThickness</th>\n",
       "      <th>Insulin</th>\n",
       "      <th>BMI</th>\n",
       "      <th>DiabetesPedigreeFunction</th>\n",
       "      <th>Age</th>\n",
       "      <th>Outcome</th>\n",
       "    </tr>\n",
       "  </thead>\n",
       "  <tbody>\n",
       "    <tr>\n",
       "      <th>0</th>\n",
       "      <td>6</td>\n",
       "      <td>148</td>\n",
       "      <td>72</td>\n",
       "      <td>35</td>\n",
       "      <td>0</td>\n",
       "      <td>33.6</td>\n",
       "      <td>0.627</td>\n",
       "      <td>50</td>\n",
       "      <td>1</td>\n",
       "    </tr>\n",
       "    <tr>\n",
       "      <th>1</th>\n",
       "      <td>1</td>\n",
       "      <td>85</td>\n",
       "      <td>66</td>\n",
       "      <td>29</td>\n",
       "      <td>0</td>\n",
       "      <td>26.6</td>\n",
       "      <td>0.351</td>\n",
       "      <td>31</td>\n",
       "      <td>0</td>\n",
       "    </tr>\n",
       "    <tr>\n",
       "      <th>2</th>\n",
       "      <td>8</td>\n",
       "      <td>183</td>\n",
       "      <td>64</td>\n",
       "      <td>0</td>\n",
       "      <td>0</td>\n",
       "      <td>23.3</td>\n",
       "      <td>0.672</td>\n",
       "      <td>32</td>\n",
       "      <td>1</td>\n",
       "    </tr>\n",
       "  </tbody>\n",
       "</table>\n",
       "</div>"
      ],
      "text/plain": [
       "   Pregnancies  Glucose  BloodPressure  SkinThickness  Insulin   BMI  \\\n",
       "0            6      148             72             35        0  33.6   \n",
       "1            1       85             66             29        0  26.6   \n",
       "2            8      183             64              0        0  23.3   \n",
       "\n",
       "   DiabetesPedigreeFunction  Age  Outcome  \n",
       "0                     0.627   50        1  \n",
       "1                     0.351   31        0  \n",
       "2                     0.672   32        1  "
      ]
     },
     "execution_count": 18,
     "metadata": {},
     "output_type": "execute_result"
    }
   ],
   "source": [
    "import numpy as np\n",
    "import pandas as pd\n",
    "import matplotlib.pyplot as plt\n",
    "%matplotlib inline\n",
    "\n",
    "from sklearn.model_selection import train_test_split\n",
    "from sklearn.metrics import accuracy_score, precision_score, recall_score, roc_auc_score\n",
    "from sklearn.metrics import f1_score, confusion_matrix, precision_recall_curve, roc_curve\n",
    "from sklearn.preprocessing import StandardScaler\n",
    "from sklearn.linear_model import LogisticRegression\n",
    "\n",
    "diabetes_data = pd.read_csv('./datasets/pima_diabetes.csv')\n",
    "print(diabetes_data['Outcome'].value_counts())\n",
    "diabetes_data.head(3)"
   ]
  },
  {
   "cell_type": "code",
   "execution_count": 19,
   "id": "319df514",
   "metadata": {},
   "outputs": [
    {
     "name": "stderr",
     "output_type": "stream",
     "text": [
      "/opt/homebrew/lib/python3.11/site-packages/sklearn/linear_model/_logistic.py:469: ConvergenceWarning: lbfgs failed to converge (status=1):\n",
      "STOP: TOTAL NO. of ITERATIONS REACHED LIMIT.\n",
      "\n",
      "Increase the number of iterations (max_iter) or scale the data as shown in:\n",
      "    https://scikit-learn.org/stable/modules/preprocessing.html\n",
      "Please also refer to the documentation for alternative solver options:\n",
      "    https://scikit-learn.org/stable/modules/linear_model.html#logistic-regression\n",
      "  n_iter_i = _check_optimize_result(\n"
     ]
    }
   ],
   "source": [
    "X = diabetes_data.iloc[:,:-1]\n",
    "y = diabetes_data.iloc[:,-1]\n",
    "\n",
    "X_train, X_test, y_train, y_test = train_test_split(X, y, test_size = 0.2, random_state = 156)\n",
    "\n",
    "lr_clf = LogisticRegression()\n",
    "lr_clf.fit(X_train, y_train)\n",
    "pred = lr_clf.predict(X_test)\n",
    "\n",
    "# 한쪽기준으로 정리\n",
    "pred_proba = lr_clf.predict_proba(X_test)[:, 1]"
   ]
  },
  {
   "cell_type": "code",
   "execution_count": 20,
   "id": "16e24b80",
   "metadata": {},
   "outputs": [],
   "source": [
    "from sklearn.metrics import accuracy_score , precision_score , recall_score , f1_score\n",
    "\n",
    "def get_clf_eval(y_test, pred, pred_proba):\n",
    "    confusion = confusion_matrix(y_test, pred)\n",
    "    accuracy = accuracy_score(y_test, pred)\n",
    "    precision = precision_score(y_test, pred)\n",
    "    recall = recall_score(y_test, pred)\n",
    "    f1score = f1_score(y_test, pred)\n",
    "    auc = roc_auc_score(y_test, pred_proba)\n",
    "    \n",
    "    print('오차행렬')\n",
    "    print(confusion)\n",
    "    print(f'정확도:{accuracy:.4f}, 정밀도:{precision:.4f}, 재현율: {recall:.4f} , f1 : {f1score:.4f}, AUC : {auc:.4f}')"
   ]
  },
  {
   "cell_type": "code",
   "execution_count": 21,
   "id": "56b95d5c",
   "metadata": {},
   "outputs": [
    {
     "name": "stdout",
     "output_type": "stream",
     "text": [
      "오차행렬\n",
      "[[84 13]\n",
      " [25 32]]\n",
      "정확도:0.7532, 정밀도:0.7111, 재현율: 0.5614 , f1 : 0.6275, AUC : 0.8405\n"
     ]
    }
   ],
   "source": [
    "get_clf_eval(y_test, pred, pred_proba)"
   ]
  },
  {
   "cell_type": "code",
   "execution_count": 22,
   "id": "e4f06a29",
   "metadata": {},
   "outputs": [],
   "source": [
    "def precision_recall_curve_plot(y_test, pred_proba) :\n",
    "    precision, recall, thresholds = precision_recall_curve(y_test, pred_proba)\n",
    "    print(precision)\n",
    "    \n",
    "    plt.plot(thresholds , precision[:-1] , 'b--' , label=\"precision\")\n",
    "    plt.plot(thresholds , recall[:-1] , 'r-', label=\"recall\")\n",
    "    plt.xlabel(\"thresholds\")\n",
    "    plt.ylabel(\"precision & recall\")\n",
    "    plt.legend()\n",
    "    plt.show()"
   ]
  },
  {
   "cell_type": "code",
   "execution_count": 23,
   "id": "825e5c53",
   "metadata": {},
   "outputs": [
    {
     "name": "stdout",
     "output_type": "stream",
     "text": [
      "[0.37012987 0.37254902 0.375      0.37748344 0.38       0.38255034\n",
      " 0.38513514 0.3877551  0.39041096 0.39310345 0.39583333 0.3986014\n",
      " 0.40140845 0.40425532 0.40714286 0.41007194 0.41304348 0.41605839\n",
      " 0.41911765 0.42222222 0.42537313 0.42857143 0.42424242 0.42748092\n",
      " 0.43076923 0.43410853 0.4375     0.44094488 0.44444444 0.448\n",
      " 0.4516129  0.45528455 0.45901639 0.46280992 0.46666667 0.47058824\n",
      " 0.47457627 0.47863248 0.48275862 0.48695652 0.49122807 0.49557522\n",
      " 0.49107143 0.48648649 0.49090909 0.49541284 0.5        0.5046729\n",
      " 0.50943396 0.51428571 0.51923077 0.52427184 0.52941176 0.53465347\n",
      " 0.54       0.54545455 0.55102041 0.55670103 0.5625     0.56842105\n",
      " 0.57446809 0.56989247 0.56521739 0.57142857 0.57777778 0.57303371\n",
      " 0.57954545 0.57471264 0.58139535 0.58823529 0.5952381  0.59036145\n",
      " 0.59756098 0.60493827 0.6125     0.60759494 0.61538462 0.61038961\n",
      " 0.61842105 0.61333333 0.60810811 0.61643836 0.625      0.61971831\n",
      " 0.61428571 0.62318841 0.63235294 0.64179104 0.65151515 0.64615385\n",
      " 0.640625   0.65079365 0.64516129 0.6557377  0.65       0.66101695\n",
      " 0.67241379 0.66666667 0.66071429 0.67272727 0.66666667 0.66037736\n",
      " 0.65384615 0.66666667 0.68       0.67346939 0.6875     0.70212766\n",
      " 0.7173913  0.71111111 0.70454545 0.72093023 0.73809524 0.73170732\n",
      " 0.725      0.74358974 0.73684211 0.72972973 0.75       0.77142857\n",
      " 0.79411765 0.78787879 0.78125    0.80645161 0.8        0.82758621\n",
      " 0.82142857 0.85185185 0.84615385 0.84       0.875      0.86956522\n",
      " 0.86363636 0.85714286 0.85       0.84210526 0.83333333 0.88235294\n",
      " 0.9375     0.93333333 0.92857143 0.92307692 0.91666667 0.90909091\n",
      " 0.9        0.88888889 0.875      0.85714286 0.83333333 0.8\n",
      " 0.75       0.66666667 0.5        1.         1.        ]\n"
     ]
    },
    {
     "data": {
      "image/png": "[encoded data removed]",
      "text/plain": [
       "<Figure size 640x480 with 1 Axes>"
      ]
     },
     "metadata": {},
     "output_type": "display_data"
    }
   ],
   "source": [
    "precision_recall_curve_plot(y_test, pred_proba)"
   ]
  },
  {
   "cell_type": "code",
   "execution_count": 24,
   "id": "14447087",
   "metadata": {},
   "outputs": [
    {
     "data": {
      "text/plain": [
       "(array([  5.,   0.,   4.,  32., 156., 211., 163.,  95.,  56.,  46.]),\n",
       " array([  0. ,  19.9,  39.8,  59.7,  79.6,  99.5, 119.4, 139.3, 159.2,\n",
       "        179.1, 199. ]),\n",
       " <BarContainer object of 10 artists>)"
      ]
     },
     "execution_count": 24,
     "metadata": {},
     "output_type": "execute_result"
    },
    {
     "data": {
      "image/png": "[encoded data removed]",
      "text/plain": [
       "<Figure size 640x480 with 1 Axes>"
      ]
     },
     "metadata": {},
     "output_type": "display_data"
    }
   ],
   "source": [
    "plt.hist(diabetes_data['Glucose'], bins=10)"
   ]
  },
  {
   "cell_type": "code",
   "execution_count": 26,
   "id": "664e3b3a",
   "metadata": {},
   "outputs": [],
   "source": [
    "X_train_df = pd.DataFrame(X_train, columns=diabetes_data.columns[:-1])"
   ]
  },
  {
   "cell_type": "code",
   "execution_count": null,
   "id": "7ec51989",
   "metadata": {},
   "outputs": [],
   "source": [
    "scaler = StandardScaler()\n",
    "scaler.fit(X_train_df['Glucose'])\n",
    "X_train_df['']"
   ]
  }
 ],
 "metadata": {
  "kernelspec": {
   "display_name": "Python 3",
   "language": "python",
   "name": "python3"
  },
  "language_info": {
   "codemirror_mode": {
    "name": "ipython",
    "version": 3
   },
   "file_extension": ".py",
   "mimetype": "text/x-python",
   "name": "python",
   "nbconvert_exporter": "python",
   "pygments_lexer": "ipython3",
   "version": "3.11.7"
  }
 },
 "nbformat": 4,
 "nbformat_minor": 5
}
