{
 "cells": [
  {
   "cell_type": "code",
   "execution_count": 1,
   "metadata": {},
   "outputs": [
    {
     "name": "stdout",
     "output_type": "stream",
     "text": [
      "***** 가위바위보 게임 시작 *****\n",
      "컴퓨터의 선택은 보 였습니다!\n",
      "이겼습니다!\n",
      "***** 가위바위보 게임 종료 *****\n"
     ]
    }
   ],
   "source": [
    "import random\n",
    "\n",
    "print('***** 가위바위보 게임 시작 *****')\n",
    "\n",
    "while True :\n",
    "    rsp = ['가위', '바위', '보']\n",
    "    computer = random.choice(rsp) # 가위바위보 중 임의 값\n",
    "\n",
    "    player = input('당신의 선택은? (가위, 바위, 보)')\n",
    "\n",
    "    print('컴퓨터의 선택은 %s 였습니다!'%(computer))\n",
    "\n",
    "    if player == computer :\n",
    "        print('비겼습니다!')\n",
    "    elif player == '가위' and computer == '바위' :\n",
    "        print('졌습니다!')\n",
    "    elif player == '바위' and computer == '보' :\n",
    "        print('졌습니다!')\n",
    "    elif player == '보' and computer == '가위' :\n",
    "        print('졌습니다!')\n",
    "    else :\n",
    "        print('이겼습니다!')\n",
    "\n",
    "    more = input('계속할까요? (Y/N)')\n",
    "    if more == 'Y' :\n",
    "        print()\n",
    "        continue\n",
    "    else :\n",
    "        break\n",
    "\n",
    "print('***** 가위바위보 게임 종료 *****')"
   ]
  },
  {
   "cell_type": "code",
   "execution_count": 11,
   "metadata": {},
   "outputs": [
    {
     "name": "stdout",
     "output_type": "stream",
     "text": [
      "['Mon', 'Tue', 'Wed', 'Thu', 'Fri', 'Sat', 'Sun']\n",
      "=================================\n",
      "Mon Tue Wed Thu Fri Sat Sun \n",
      "=================================\n",
      "     1   2   3   4   5   6  \n",
      " 7   8   9  10  11  12  13  \n",
      "14  15  16  17  18  19  20  \n",
      "21  22  23  24  25  26  27  \n",
      "28  29  30  "
     ]
    }
   ],
   "source": [
    "week = ['Mon','Tue','Wed','Thu','Fri','Sat','Sun']\n",
    "\n",
    "n = int(input(\"이번 달의 마지막 날은 며칠인가요?\"))\n",
    "print(week)\n",
    "start = input('이번 달은 무슨 요일로 시작하나요?')\n",
    "\n",
    "print('=' * 33)\n",
    "for i in week :\n",
    "    print(i, end=' ')\n",
    "print('\\n' + '=' * 33)\n",
    "\n",
    "cnt = week.index(start)\n",
    "\n",
    "for empty in range(cnt) : # 금요일부터 시작한다고 하면 비어있는 월화수목(날짜) 값\n",
    "    print(' ' * 2, end = ' ' * 2)\n",
    "\n",
    "for i in range(1, n+1) : # n+1 : 1 밑에까지가 범위니까\n",
    "    print('%2d' % (i), end = ' ' * 2 )\n",
    "\n",
    "    if (i+cnt) % 7 == 0:\n",
    "        print()"
   ]
  }
 ],
 "metadata": {
  "kernelspec": {
   "display_name": "Python 3",
   "language": "python",
   "name": "python3"
  },
  "language_info": {
   "codemirror_mode": {
    "name": "ipython",
    "version": 3
   },
   "file_extension": ".py",
   "mimetype": "text/x-python",
   "name": "python",
   "nbconvert_exporter": "python",
   "pygments_lexer": "ipython3",
   "version": "3.11.7"
  }
 },
 "nbformat": 4,
 "nbformat_minor": 2
}
