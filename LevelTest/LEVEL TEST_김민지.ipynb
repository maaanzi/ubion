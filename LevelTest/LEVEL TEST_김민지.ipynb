{
 "cells": [
  {
   "cell_type": "markdown",
   "metadata": {},
   "source": [
    "### 1번 문제\n",
    "> For문을 이용하여 구구단을 출력하라\n",
    "    2단부터 9단까지 구구단을 print를 이용하여 출력하라."
   ]
  },
  {
   "cell_type": "code",
   "execution_count": 8,
   "metadata": {},
   "outputs": [
    {
     "name": "stdout",
     "output_type": "stream",
     "text": [
      "===== 2단 =====\n",
      "2 * 1 = 2\n",
      "2 * 2 = 4\n",
      "2 * 3 = 6\n",
      "2 * 4 = 8\n",
      "2 * 5 = 10\n",
      "2 * 6 = 12\n",
      "2 * 7 = 14\n",
      "2 * 8 = 16\n",
      "2 * 9 = 18\n",
      "===== 3단 =====\n",
      "3 * 1 = 3\n",
      "3 * 2 = 6\n",
      "3 * 3 = 9\n",
      "3 * 4 = 12\n",
      "3 * 5 = 15\n",
      "3 * 6 = 18\n",
      "3 * 7 = 21\n",
      "3 * 8 = 24\n",
      "3 * 9 = 27\n",
      "===== 4단 =====\n",
      "4 * 1 = 4\n",
      "4 * 2 = 8\n",
      "4 * 3 = 12\n",
      "4 * 4 = 16\n",
      "4 * 5 = 20\n",
      "4 * 6 = 24\n",
      "4 * 7 = 28\n",
      "4 * 8 = 32\n",
      "4 * 9 = 36\n",
      "===== 5단 =====\n",
      "5 * 1 = 5\n",
      "5 * 2 = 10\n",
      "5 * 3 = 15\n",
      "5 * 4 = 20\n",
      "5 * 5 = 25\n",
      "5 * 6 = 30\n",
      "5 * 7 = 35\n",
      "5 * 8 = 40\n",
      "5 * 9 = 45\n",
      "===== 6단 =====\n",
      "6 * 1 = 6\n",
      "6 * 2 = 12\n",
      "6 * 3 = 18\n",
      "6 * 4 = 24\n",
      "6 * 5 = 30\n",
      "6 * 6 = 36\n",
      "6 * 7 = 42\n",
      "6 * 8 = 48\n",
      "6 * 9 = 54\n",
      "===== 7단 =====\n",
      "7 * 1 = 7\n",
      "7 * 2 = 14\n",
      "7 * 3 = 21\n",
      "7 * 4 = 28\n",
      "7 * 5 = 35\n",
      "7 * 6 = 42\n",
      "7 * 7 = 49\n",
      "7 * 8 = 56\n",
      "7 * 9 = 63\n",
      "===== 8단 =====\n",
      "8 * 1 = 8\n",
      "8 * 2 = 16\n",
      "8 * 3 = 24\n",
      "8 * 4 = 32\n",
      "8 * 5 = 40\n",
      "8 * 6 = 48\n",
      "8 * 7 = 56\n",
      "8 * 8 = 64\n",
      "8 * 9 = 72\n"
     ]
    }
   ],
   "source": [
    "for i in range (2,9) :\n",
    "    print(f'===== {i}단 =====')\n",
    "    for j in range (1,10) :\n",
    "        print(f'{i} * {j} = {i * j}')\n",
    "    "
   ]
  },
  {
   "attachments": {},
   "cell_type": "markdown",
   "metadata": {},
   "source": [
    "### 2번 문제\n",
    "> 2부터 50까지 소수를 리스트의 형태로 출력하시오\n",
    "1. 첫번째 반복문에서는 2부터 50까지 반복을 하는 반복문을 구성하시오\n",
    "2. 소수는 1과 자기 자신 외에는 나누어지지 않는 수이다 \n",
    "3. 반복문 안에 bool의 형태의 데이터를 만들어서 True라 지정한다. \n",
    "4. 두번째 반복문을 이용하여 2부터 시작하여 (자기 자신 -1)까지 나누어 나머지 값이 0이면 3번 과정에서 만든 변수를 False로 변경한다.\n",
    "5. bool 형태의 변수를 조건문을 사용하여 True인 경우 리스트에 추가한다."
   ]
  },
  {
   "cell_type": "code",
   "execution_count": 12,
   "metadata": {},
   "outputs": [
    {
     "name": "stdout",
     "output_type": "stream",
     "text": [
      "2 3 5 7 11 13 17 19 23 29 31 37 41 43 47 "
     ]
    }
   ],
   "source": [
    "for i in range(2,51) :\n",
    "    check = True\n",
    "    for j in range(2, i) :\n",
    "        if (i % j == 0) :\n",
    "            check = False\n",
    "            break\n",
    "    if check :\n",
    "        print(i, end=' ')"
   ]
  },
  {
   "cell_type": "markdown",
   "metadata": {},
   "source": [
    "### 3번 문제\n",
    "> Pandas를 이용하여 다음과 같은 데이터프레임을 만들고 데이터프레임을 수정하라.\n",
    "\n",
    "|   | 0 | 1 |  2 |\n",
    "|:-:|:-:|:-:|:--:|\n",
    "| 0 | 1 | 2 |  3 |\n",
    "| 1 | 7 | 8 |  9 |\n",
    "| 2 | 4 | 5 |  6 |\n",
    "| 3 | 3 | 5 | 10 |\n",
    "\n",
    "1. 컬럼의 이름을 A, B, C로 변경\n",
    "2. D라는 새로운 컬럼에 shift 함수를 이용하여 C 컬럼의 차를 D 컬럼에 생성(NaN값인 경우에는 0으로 대체)\n",
    "3. A 컬럼을 기준으로 오름차순 정렬\n",
    "4. 인덱스의 값을 새로 지정(기존의 인덱스는 삭제)\n",
    "5. 이 모든 과정은 원본의 데이터를 수정 "
   ]
  },
  {
   "cell_type": "code",
   "execution_count": 38,
   "metadata": {},
   "outputs": [
    {
     "data": {
      "text/html": [
       "<div>\n",
       "<style scoped>\n",
       "    .dataframe tbody tr th:only-of-type {\n",
       "        vertical-align: middle;\n",
       "    }\n",
       "\n",
       "    .dataframe tbody tr th {\n",
       "        vertical-align: top;\n",
       "    }\n",
       "\n",
       "    .dataframe thead th {\n",
       "        text-align: right;\n",
       "    }\n",
       "</style>\n",
       "<table border=\"1\" class=\"dataframe\">\n",
       "  <thead>\n",
       "    <tr style=\"text-align: right;\">\n",
       "      <th></th>\n",
       "      <th>A</th>\n",
       "      <th>B</th>\n",
       "      <th>C</th>\n",
       "      <th>D</th>\n",
       "    </tr>\n",
       "  </thead>\n",
       "  <tbody>\n",
       "    <tr>\n",
       "      <th>0</th>\n",
       "      <td>1</td>\n",
       "      <td>2</td>\n",
       "      <td>3</td>\n",
       "      <td>0.0</td>\n",
       "    </tr>\n",
       "    <tr>\n",
       "      <th>1</th>\n",
       "      <td>3</td>\n",
       "      <td>5</td>\n",
       "      <td>10</td>\n",
       "      <td>4.0</td>\n",
       "    </tr>\n",
       "    <tr>\n",
       "      <th>2</th>\n",
       "      <td>4</td>\n",
       "      <td>5</td>\n",
       "      <td>6</td>\n",
       "      <td>-3.0</td>\n",
       "    </tr>\n",
       "    <tr>\n",
       "      <th>3</th>\n",
       "      <td>7</td>\n",
       "      <td>8</td>\n",
       "      <td>9</td>\n",
       "      <td>6.0</td>\n",
       "    </tr>\n",
       "  </tbody>\n",
       "</table>\n",
       "</div>"
      ],
      "text/plain": [
       "   A  B   C    D\n",
       "0  1  2   3  0.0\n",
       "1  3  5  10  4.0\n",
       "2  4  5   6 -3.0\n",
       "3  7  8   9  6.0"
      ]
     },
     "execution_count": 38,
     "metadata": {},
     "output_type": "execute_result"
    }
   ],
   "source": [
    "import pandas as pd\n",
    "data = [[1,2,3],\n",
    "        [7,8,9],\n",
    "        [4,5,6],\n",
    "        [3,5,10]]\n",
    "\n",
    "col = [0,1,2]\n",
    "df = pd.DataFrame(data,columns=col)\n",
    "\n",
    "df.columns = ['A','B','C']\n",
    "df['D'] = df['C'] - df['C'].shift()\n",
    "df['D'] = df['D'].fillna(0)\n",
    "df = df.sort_values(by='A')\n",
    "df = df.reset_index(drop=True)\n",
    "\n",
    "df\n"
   ]
  },
  {
   "cell_type": "markdown",
   "metadata": {},
   "source": [
    "### 4번 문제\n",
    "> 2014,2015,2016 csv파일을 로드하여 데이터를 수정하라.\n",
    "\n",
    "1. 3개의 데이터프레임을 결합하시오 (유니언 결합)\n",
    "2. 구분 컬럼의 값을 datetime의 형태로 변환하라. \n",
    "3. 구분 컬럼에서 년도만 따로 출력하여 파생변수 년도를 생성하라.\n",
    "4. 년도 별 평균 사망자, 총 사망자를 출력하라. \n",
    "5. 년도 별 사고 대비 사망율( 사망(명) / 사고(건))을 출력하라."
   ]
  },
  {
   "cell_type": "code",
   "execution_count": 77,
   "metadata": {},
   "outputs": [
    {
     "name": "stdout",
     "output_type": "stream",
     "text": [
      "=== 연도별 총 사망자 수 ===\n",
      "2014년 : 130\n",
      "2015년 : 108\n",
      "2016년 : 98\n",
      "\n",
      "=== 연도별 평균 사망자 수 ===\n",
      "2014년 : 10.83\n",
      "2015년 : 9.0\n",
      "2016년 : 8.17\n",
      "\n",
      "=== 연도별 사고 대비 사망률 ===\n",
      "2014년 : 0.05\n",
      "2015년 : 0.04\n",
      "2016년 : 0.04\n"
     ]
    }
   ],
   "source": [
    "import pandas as pd\n",
    "from datetime import datetime\n",
    "\n",
    "df_2014 = pd.read_csv('csv/2014.csv', encoding='CP949')\n",
    "df_2015 = pd.read_csv('csv/2015.csv', encoding='CP949')\n",
    "df_2016 = pd.read_csv('csv/2016.csv', encoding='CP949')\n",
    "\n",
    "df = pd.concat(\n",
    "    [df_2014, df_2015, df_2016],\n",
    "    axis=0,\n",
    "    ignore_index=True\n",
    ")\n",
    "\n",
    "if '구분' in df.columns :\n",
    "    df.set_index('구분', inplace=True)\n",
    "\n",
    "df.index = pd.to_datetime(df.index, format='%Y년%m월')\n",
    "df['연도'] = df.index.year\n",
    "\n",
    "dead2014 = df.loc['2014', '사망(명)'].sum()\n",
    "dead2015 = df.loc['2015', '사망(명)'].sum()\n",
    "dead2016 = df.loc['2016', '사망(명)'].sum()\n",
    "\n",
    "print(f'=== 연도별 총 사망자 수 ===\\n2014년 : {dead2014}\\n2015년 : {dead2015}\\n2016년 : {dead2016}')\n",
    "print()\n",
    "\n",
    "deadmean_2014 = df.loc['2014', '사망(명)'].mean()\n",
    "deadmean_2015 = df.loc['2015', '사망(명)'].mean()\n",
    "deadmean_2016 = df.loc['2016', '사망(명)'].mean()\n",
    "\n",
    "print(f'=== 연도별 평균 사망자 수 ===\\n2014년 : {round(deadmean_2014,2)}\\n2015년 : {round(deadmean_2015,2)}\\n2016년 : {round(deadmean_2016,2)}')\n",
    "print()\n",
    "\n",
    "accidentCnt_2014 = df.loc['2014', '사고(건)'].sum()\n",
    "accidentCnt_2015 = df.loc['2015', '사고(건)'].sum()\n",
    "accidentCnt_2016 = df.loc['2016', '사고(건)'].sum()\n",
    "\n",
    "accidentPct_2014 = dead2014 / accidentCnt_2014\n",
    "accidentPct_2015 = dead2015 / accidentCnt_2015\n",
    "accidentPct_2016 = dead2016 / accidentCnt_2016\n",
    "\n",
    "print(f'=== 연도별 사고 대비 사망률 ===\\n2014년 : {round(accidentPct_2014,2)}\\n2015년 : {round(accidentPct_2015,2)}\\n2016년 : {round(accidentPct_2016,2)}')\n"
   ]
  },
  {
   "attachments": {},
   "cell_type": "markdown",
   "metadata": {},
   "source": [
    "### 5번 문제\n",
    "> 세종시.csv 파일을 pandas를 이용하여 read 후 데이터프레임을 수정하라.\n",
    "\n",
    "1. pandas를 이용하여 csv 파일을 로드한다. (주소는 상대경로로 지정)\n",
    "2. \"법정동코드\", \"특수지구분코드\", \"특수지구분명\", \"공동주택코드\", \"특수지명\" 컬럼을 삭제한다. \n",
    "3. \"기준연월\" 파생변수를 생성하여 \"기준연도\" + \"기준월\" 데이터를 삽입한다. \n",
    "4. pivot_table을 이용하여 인덱스는 \"기준연월\" 컬럼은 \"공동주택구분명\" 벨류는 \"공시가격\"으로 평균값을 구하고 결측치의 값은 0으로 한 뒤 바형 그래프로 출력한다. \n",
    "5. 한글이 포함되어 있음으로 한글을 표시가 될수 있도록 폰트를 변경하여 시각화를 한다."
   ]
  },
  {
   "cell_type": "code",
   "execution_count": 35,
   "metadata": {},
   "outputs": [
    {
     "name": "stderr",
     "output_type": "stream",
     "text": [
      "/var/folders/lj/ms0l79910fz22cg2hchczhw40000gn/T/ipykernel_13699/3761955990.py:6: DtypeWarning: Columns (5,11,13,15) have mixed types. Specify dtype option on import or set low_memory=False.\n",
      "  df = pd.read_csv('csv/세종시.csv', encoding='CP949')\n",
      "/var/folders/lj/ms0l79910fz22cg2hchczhw40000gn/T/ipykernel_13699/3761955990.py:15: FutureWarning: The provided callable <function mean at 0x10c0fbf60> is currently using DataFrameGroupBy.mean. In a future version of pandas, the provided callable will be used directly. To keep current behavior pass the string \"mean\" instead.\n",
      "  table = pd.pivot_table(df, index='기준연월', columns='공동주택구분명', values='공시가격', aggfunc=np.mean, fill_value=0)\n"
     ]
    },
    {
     "data": {
      "image/png": "[encoded data removed]",
      "text/plain": [
       "<Figure size 2000x1000 with 1 Axes>"
      ]
     },
     "metadata": {},
     "output_type": "display_data"
    }
   ],
   "source": [
    "import platform\n",
    "import pandas as pd\n",
    "import numpy as np\n",
    "import matplotlib.pyplot as plt\n",
    "\n",
    "df = pd.read_csv('csv/세종시.csv', encoding='CP949')\n",
    "df.drop(\n",
    "    ['법정동코드', '특수지구분코드', '특수지구분명', '공동주택코드', '특수지명'],\n",
    "    axis=1,\n",
    "    inplace=True\n",
    ")\n",
    "\n",
    "df['기준연월'] = df['기준연도'].map(str) + '.' + df['기준월'].map(str)\n",
    "\n",
    "table = pd.pivot_table(df, index='기준연월', columns='공동주택구분명', values='공시가격', aggfunc=np.mean, fill_value=0)\n",
    "\n",
    "table.plot(kind='bar',figsize=(20,10), title = '세종시 공동주택별 공시가격', xlabel='기준연월', ylabel='공시가격')\n",
    "plt.show()\n",
    "\n",
    "if platform.system() == 'Darwin' :\n",
    "    plt.rc('font', family = 'AppleGothic')\n",
    "else :\n",
    "    plt.rc('font', family = 'Malgun Gothic')\n"
   ]
  },
  {
   "cell_type": "markdown",
   "metadata": {},
   "source": []
  }
 ],
 "metadata": {
  "kernelspec": {
   "display_name": "Python 3.10.4 64-bit",
   "language": "python",
   "name": "python3"
  },
  "language_info": {
   "codemirror_mode": {
    "name": "ipython",
    "version": 3
   },
   "file_extension": ".py",
   "mimetype": "text/x-python",
   "name": "python",
   "nbconvert_exporter": "python",
   "pygments_lexer": "ipython3",
   "version": "3.11.7"
  },
  "orig_nbformat": 4,
  "vscode": {
   "interpreter": {
    "hash": "eccee16ee1f2ca6b29c61e3c4642a90ff58e47b250cd293abf19e9e3b8422bd1"
   }
  }
 },
 "nbformat": 4,
 "nbformat_minor": 2
}
