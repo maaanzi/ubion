{
 "cells": [
  {
   "cell_type": "code",
   "execution_count": 1,
   "metadata": {},
   "outputs": [
    {
     "name": "stderr",
     "output_type": "stream",
     "text": [
      "/var/folders/lj/ms0l79910fz22cg2hchczhw40000gn/T/ipykernel_1675/1841295523.py:2: DeprecationWarning: \n",
      "Pyarrow will become a required dependency of pandas in the next major release of pandas (pandas 3.0),\n",
      "(to allow more performant data types, such as the Arrow string type, and better interoperability with other libraries)\n",
      "but was not found to be installed on your system.\n",
      "If this would cause problems for you,\n",
      "please provide us feedback at https://github.com/pandas-dev/pandas/issues/54466\n",
      "        \n",
      "  import pandas as pd\n"
     ]
    },
    {
     "data": {
      "text/plain": [
       "(-0.1, 1.1)"
      ]
     },
     "execution_count": 1,
     "metadata": {},
     "output_type": "execute_result"
    },
    {
     "data": {
      "image/png": "[encoded data removed]",
      "text/plain": [
       "<Figure size 640x480 with 1 Axes>"
      ]
     },
     "metadata": {},
     "output_type": "display_data"
    }
   ],
   "source": [
    "import numpy as np\n",
    "import pandas as pd\n",
    "import matplotlib.pyplot as plt\n",
    "\n",
    "data = [[2,0], [4,0], [6,0], [8,1], [10,1], [12,1], [14,1]]\n",
    "\n",
    "x_data = [i[0] for i in data]\n",
    "y_data = [i[1] for i in data]\n",
    "\n",
    "plt.scatter(x_data, y_data)\n",
    "plt.xlim(0, 15)\n",
    "plt.ylim(-.1, 1.1)"
   ]
  },
  {
   "cell_type": "code",
   "execution_count": 2,
   "metadata": {},
   "outputs": [
    {
     "name": "stdout",
     "output_type": "stream",
     "text": [
      "epoch = 0, 기울기 = -0.0500, 절편 = -0.0250\n",
      "epoch = 0, 기울기 = -0.1388, 절편 = -0.0472\n",
      "epoch = 0, 기울기 = -0.2268, 절편 = -0.0619\n",
      "epoch = 0, 기울기 = 0.1201, 절편 = -0.0185\n",
      "epoch = 0, 기울기 = 0.2374, 절편 = -0.0068\n",
      "epoch = 0, 기울기 = 0.2705, 절편 = -0.0040\n",
      "epoch = 0, 기울기 = 0.2860, 절편 = -0.0029\n",
      "epoch = 1000, 기울기 = 1.4978, 절편 = -9.9401\n",
      "epoch = 1000, 기울기 = 1.4940, 절편 = -9.9411\n",
      "epoch = 1000, 기울기 = 1.4120, 절편 = -9.9547\n",
      "epoch = 1000, 기울기 = 1.4949, 절편 = -9.9444\n",
      "epoch = 1000, 기울기 = 1.4982, 절편 = -9.9440\n",
      "epoch = 1000, 기울기 = 1.4984, 절편 = -9.9440\n",
      "epoch = 1000, 기울기 = 1.4985, 절편 = -9.9440\n",
      "epoch = 2000, 기울기 = 1.9065, 절편 = -12.9489\n",
      "epoch = 2000, 기울기 = 1.9055, 절편 = -12.9491\n",
      "epoch = 2000, 기울기 = 1.8515, 절편 = -12.9581\n",
      "epoch = 2000, 기울기 = 1.9057, 절편 = -12.9514\n",
      "epoch = 2000, 기울기 = 1.9068, 절편 = -12.9513\n",
      "epoch = 2000, 기울기 = 1.9068, 절편 = -12.9513\n",
      "epoch = 2000, 기울기 = 1.9068, 절편 = -12.9513\n"
     ]
    }
   ],
   "source": [
    "a = 0\n",
    "b = 0\n",
    "\n",
    "lr = 0.05\n",
    "\n",
    "def sigmoid(x) :\n",
    "    return 1 / (1 + np.e ** (-x))\n",
    "\n",
    "for i in range(2001) :\n",
    "    for x_data, y_data in data :\n",
    "        a_diff = x_data * (sigmoid(a*x_data + b) - y_data)\n",
    "        b_diff = sigmoid(a*x_data + b) - y_data\n",
    "        a = a - lr * a_diff\n",
    "        b = b - lr * b_diff\n",
    "        if i % 1000 == 0 :\n",
    "            print('epoch = %.f, 기울기 = %.04f, 절편 = %.04f' % (i, a, b))"
   ]
  },
  {
   "cell_type": "code",
   "execution_count": null,
   "metadata": {},
   "outputs": [],
   "source": []
  }
 ],
 "metadata": {
  "kernelspec": {
   "display_name": "Python 3",
   "language": "python",
   "name": "python3"
  },
  "language_info": {
   "codemirror_mode": {
    "name": "ipython",
    "version": 3
   },
   "file_extension": ".py",
   "mimetype": "text/x-python",
   "name": "python",
   "nbconvert_exporter": "python",
   "pygments_lexer": "ipython3",
   "version": "3.11.7"
  }
 },
 "nbformat": 4,
 "nbformat_minor": 2
}
